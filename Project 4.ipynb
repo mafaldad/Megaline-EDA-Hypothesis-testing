{
 "cells": [
  {
   "cell_type": "markdown",
   "metadata": {
    "id": "3rYiDeEH0q0f"
   },
   "source": [
    "# ¿Cuál es la mejor tarifa?\n",
    "\n",
    "Trabajas como analista para el operador de telecomunicaciones Megaline. La empresa ofrece a sus clientes dos tarifas de prepago, Surf y Ultimate. El departamento comercial quiere saber cuál de las tarifas genera más ingresos para poder ajustar el presupuesto de publicidad.\n",
    "\n",
    "Vas a realizar un análisis preliminar de las tarifas basado en una selección de clientes relativamente pequeña. Tendrás los datos de 500 clientes de Megaline: quiénes son los clientes, de dónde son, qué tarifa usan, así como la cantidad de llamadas que hicieron y los mensajes de texto que enviaron en 2018. Tu trabajo es analizar el comportamiento de los clientes y determinar qué tarifa de prepago genera más ingresos."
   ]
  },
  {
   "cell_type": "markdown",
   "metadata": {
    "id": "VNddPNRQ0q0w"
   },
   "source": [
    "El proposito del proyecto es analizar datos de 500 clientes para determinar que tarifa de las dos disponibles (Surf y Ultimate) genran mas ingreso.\n",
    "\n",
    "Se iniciara preparando y limpiando los datos para proceder al analisis y terminar con las pruebas estadisticas."
   ]
  },
  {
   "cell_type": "markdown",
   "metadata": {
    "id": "MQi4IPy70q0y"
   },
   "source": [
    "## Inicialización"
   ]
  },
  {
   "cell_type": "code",
   "execution_count": 1,
   "metadata": {
    "id": "MtYIuBxu0q0z"
   },
   "outputs": [],
   "source": [
    "import pandas as pd\n",
    "import numpy as np\n",
    "from matplotlib import pyplot as plt\n",
    "from scipy import stats as st  \n",
    "import seaborn as sns\n",
    "# Cargar todas las librerías\n"
   ]
  },
  {
   "cell_type": "markdown",
   "metadata": {
    "id": "4ysWWC5i0q00"
   },
   "source": [
    "## Cargar datos"
   ]
  },
  {
   "cell_type": "code",
   "execution_count": 2,
   "metadata": {
    "id": "CCqPW7rS0q01"
   },
   "outputs": [],
   "source": [
    "calls = pd.read_csv('/datasets/megaline_calls.csv') \n",
    "internet = pd.read_csv('/datasets/megaline_internet.csv')\n",
    "messages = pd.read_csv('/datasets/megaline_messages.csv') \n",
    "plans =  pd.read_csv('/datasets/megaline_plans.csv')\n",
    "users = pd.read_csv('/datasets/megaline_users.csv')\n",
    "# Carga los archivos de datos en diferentes DataFrames"
   ]
  },
  {
   "cell_type": "markdown",
   "metadata": {
    "id": "69qqoJ3r0q01"
   },
   "source": [
    "## Preparar los datos"
   ]
  },
  {
   "cell_type": "markdown",
   "metadata": {
    "id": "vUuZw80S0q01"
   },
   "source": [
    "Se analizara la informacion, para proceder a corregir nombres de columnas, analizar si se requiere cambiar el tipo de datos para ciertas columnas, buscar duplicados y enricquecer datos conforme se necesite."
   ]
  },
  {
   "cell_type": "markdown",
   "metadata": {
    "id": "ohBhimvH0q01"
   },
   "source": [
    "## Tarifas"
   ]
  },
  {
   "cell_type": "code",
   "execution_count": 3,
   "metadata": {
    "id": "GptqP3Q40q02"
   },
   "outputs": [
    {
     "name": "stdout",
     "output_type": "stream",
     "text": [
      "<class 'pandas.core.frame.DataFrame'>\n",
      "RangeIndex: 2 entries, 0 to 1\n",
      "Data columns (total 8 columns):\n",
      " #   Column                 Non-Null Count  Dtype  \n",
      "---  ------                 --------------  -----  \n",
      " 0   messages_included      2 non-null      int64  \n",
      " 1   mb_per_month_included  2 non-null      int64  \n",
      " 2   minutes_included       2 non-null      int64  \n",
      " 3   usd_monthly_pay        2 non-null      int64  \n",
      " 4   usd_per_gb             2 non-null      int64  \n",
      " 5   usd_per_message        2 non-null      float64\n",
      " 6   usd_per_minute         2 non-null      float64\n",
      " 7   plan_name              2 non-null      object \n",
      "dtypes: float64(2), int64(5), object(1)\n",
      "memory usage: 256.0+ bytes\n"
     ]
    }
   ],
   "source": [
    "# Imprime la información general/resumida sobre el DataFrame de las tarifas\n",
    "plans.info()"
   ]
  },
  {
   "cell_type": "code",
   "execution_count": 4,
   "metadata": {
    "id": "64xzjwL70q02"
   },
   "outputs": [
    {
     "data": {
      "text/html": [
       "<div>\n",
       "<style scoped>\n",
       "    .dataframe tbody tr th:only-of-type {\n",
       "        vertical-align: middle;\n",
       "    }\n",
       "\n",
       "    .dataframe tbody tr th {\n",
       "        vertical-align: top;\n",
       "    }\n",
       "\n",
       "    .dataframe thead th {\n",
       "        text-align: right;\n",
       "    }\n",
       "</style>\n",
       "<table border=\"1\" class=\"dataframe\">\n",
       "  <thead>\n",
       "    <tr style=\"text-align: right;\">\n",
       "      <th></th>\n",
       "      <th>messages_included</th>\n",
       "      <th>mb_per_month_included</th>\n",
       "      <th>minutes_included</th>\n",
       "      <th>usd_monthly_pay</th>\n",
       "      <th>usd_per_gb</th>\n",
       "      <th>usd_per_message</th>\n",
       "      <th>usd_per_minute</th>\n",
       "      <th>plan_name</th>\n",
       "    </tr>\n",
       "  </thead>\n",
       "  <tbody>\n",
       "    <tr>\n",
       "      <th>0</th>\n",
       "      <td>50</td>\n",
       "      <td>15360</td>\n",
       "      <td>500</td>\n",
       "      <td>20</td>\n",
       "      <td>10</td>\n",
       "      <td>0.03</td>\n",
       "      <td>0.03</td>\n",
       "      <td>surf</td>\n",
       "    </tr>\n",
       "    <tr>\n",
       "      <th>1</th>\n",
       "      <td>1000</td>\n",
       "      <td>30720</td>\n",
       "      <td>3000</td>\n",
       "      <td>70</td>\n",
       "      <td>7</td>\n",
       "      <td>0.01</td>\n",
       "      <td>0.01</td>\n",
       "      <td>ultimate</td>\n",
       "    </tr>\n",
       "  </tbody>\n",
       "</table>\n",
       "</div>"
      ],
      "text/plain": [
       "   messages_included  mb_per_month_included  minutes_included  \\\n",
       "0                 50                  15360               500   \n",
       "1               1000                  30720              3000   \n",
       "\n",
       "   usd_monthly_pay  usd_per_gb  usd_per_message  usd_per_minute plan_name  \n",
       "0               20          10             0.03            0.03      surf  \n",
       "1               70           7             0.01            0.01  ultimate  "
      ]
     },
     "execution_count": 4,
     "metadata": {},
     "output_type": "execute_result"
    }
   ],
   "source": [
    "# Imprime una muestra de los datos para las tarifas\n",
    "plans.head() "
   ]
  },
  {
   "cell_type": "markdown",
   "metadata": {
    "id": "mEc_3_hs0q02"
   },
   "source": [
    "\n",
    "Este DataFrame cuenta con 8 columnas y solo dos entradas. Las dos lineas es la informacion de cada plan. El Dtype de la mayoria de las colunmas es enteros. Hay dos columnas de float para describir los precios en centavos en cargos extras si se exceden los limites de cada paquete. No hay valores ausentes. \n",
    "Se observa que en la descripcion de los datos, la columna del monto por plan esta descrita como usd_monthly_fee. Se cambiara el nombre para mantener uniformidad."
   ]
  },
  {
   "cell_type": "markdown",
   "metadata": {
    "id": "R3C05i1l0q03"
   },
   "source": [
    "## Corregir datos"
   ]
  },
  {
   "cell_type": "code",
   "execution_count": 5,
   "metadata": {
    "id": "Y7SVmjGn0q03"
   },
   "outputs": [
    {
     "data": {
      "text/plain": [
       "Index(['messages_included', 'mb_per_month_included', 'minutes_included',\n",
       "       'usd_monthly_fee', 'usd_per_gb', 'usd_per_message', 'usd_per_minute',\n",
       "       'plan_name'],\n",
       "      dtype='object')"
      ]
     },
     "execution_count": 5,
     "metadata": {},
     "output_type": "execute_result"
    }
   ],
   "source": [
    "plans = plans.rename(columns={'usd_monthly_pay' : 'usd_monthly_fee'})\n",
    "plans.columns"
   ]
  },
  {
   "cell_type": "markdown",
   "metadata": {
    "id": "LJir7bml0q03"
   },
   "source": [
    "## Enriquecer los datos"
   ]
  },
  {
   "cell_type": "markdown",
   "metadata": {
    "id": "eqADpCfg0q04"
   },
   "source": [
    "En la informacion se especifica que se  redondean los megabytes a gigabytes, pero mb_per_month viene solo en megabytes, se creeara una columna donde se convierta a GB."
   ]
  },
  {
   "cell_type": "code",
   "execution_count": 6,
   "metadata": {
    "id": "gfcIEuXV0q04"
   },
   "outputs": [
    {
     "name": "stdout",
     "output_type": "stream",
     "text": [
      "<class 'pandas.core.frame.DataFrame'>\n",
      "RangeIndex: 2 entries, 0 to 1\n",
      "Data columns (total 9 columns):\n",
      " #   Column                 Non-Null Count  Dtype  \n",
      "---  ------                 --------------  -----  \n",
      " 0   messages_included      2 non-null      int64  \n",
      " 1   mb_per_month_included  2 non-null      int64  \n",
      " 2   minutes_included       2 non-null      int64  \n",
      " 3   usd_monthly_fee        2 non-null      int64  \n",
      " 4   usd_per_gb             2 non-null      int64  \n",
      " 5   usd_per_message        2 non-null      float64\n",
      " 6   usd_per_minute         2 non-null      float64\n",
      " 7   plan_name              2 non-null      object \n",
      " 8   gb_per_month_included  2 non-null      float64\n",
      "dtypes: float64(3), int64(5), object(1)\n",
      "memory usage: 272.0+ bytes\n"
     ]
    },
    {
     "data": {
      "text/html": [
       "<div>\n",
       "<style scoped>\n",
       "    .dataframe tbody tr th:only-of-type {\n",
       "        vertical-align: middle;\n",
       "    }\n",
       "\n",
       "    .dataframe tbody tr th {\n",
       "        vertical-align: top;\n",
       "    }\n",
       "\n",
       "    .dataframe thead th {\n",
       "        text-align: right;\n",
       "    }\n",
       "</style>\n",
       "<table border=\"1\" class=\"dataframe\">\n",
       "  <thead>\n",
       "    <tr style=\"text-align: right;\">\n",
       "      <th></th>\n",
       "      <th>messages_included</th>\n",
       "      <th>mb_per_month_included</th>\n",
       "      <th>minutes_included</th>\n",
       "      <th>usd_monthly_fee</th>\n",
       "      <th>usd_per_gb</th>\n",
       "      <th>usd_per_message</th>\n",
       "      <th>usd_per_minute</th>\n",
       "      <th>plan_name</th>\n",
       "      <th>gb_per_month_included</th>\n",
       "    </tr>\n",
       "  </thead>\n",
       "  <tbody>\n",
       "    <tr>\n",
       "      <th>0</th>\n",
       "      <td>50</td>\n",
       "      <td>15360</td>\n",
       "      <td>500</td>\n",
       "      <td>20</td>\n",
       "      <td>10</td>\n",
       "      <td>0.03</td>\n",
       "      <td>0.03</td>\n",
       "      <td>surf</td>\n",
       "      <td>15.0</td>\n",
       "    </tr>\n",
       "    <tr>\n",
       "      <th>1</th>\n",
       "      <td>1000</td>\n",
       "      <td>30720</td>\n",
       "      <td>3000</td>\n",
       "      <td>70</td>\n",
       "      <td>7</td>\n",
       "      <td>0.01</td>\n",
       "      <td>0.01</td>\n",
       "      <td>ultimate</td>\n",
       "      <td>30.0</td>\n",
       "    </tr>\n",
       "  </tbody>\n",
       "</table>\n",
       "</div>"
      ],
      "text/plain": [
       "   messages_included  mb_per_month_included  minutes_included  \\\n",
       "0                 50                  15360               500   \n",
       "1               1000                  30720              3000   \n",
       "\n",
       "   usd_monthly_fee  usd_per_gb  usd_per_message  usd_per_minute plan_name  \\\n",
       "0               20          10             0.03            0.03      surf   \n",
       "1               70           7             0.01            0.01  ultimate   \n",
       "\n",
       "   gb_per_month_included  \n",
       "0                   15.0  \n",
       "1                   30.0  "
      ]
     },
     "execution_count": 6,
     "metadata": {},
     "output_type": "execute_result"
    }
   ],
   "source": [
    "plans['gb_per_month_included'] = plans['mb_per_month_included'] / 1024\n",
    "plans.info()\n",
    "plans"
   ]
  },
  {
   "cell_type": "markdown",
   "metadata": {
    "id": "1n2X6WXf0q04"
   },
   "source": [
    "## Usuarios/as"
   ]
  },
  {
   "cell_type": "code",
   "execution_count": 7,
   "metadata": {
    "id": "2NgjWFqx0q05"
   },
   "outputs": [
    {
     "name": "stdout",
     "output_type": "stream",
     "text": [
      "<class 'pandas.core.frame.DataFrame'>\n",
      "RangeIndex: 500 entries, 0 to 499\n",
      "Data columns (total 8 columns):\n",
      " #   Column      Non-Null Count  Dtype \n",
      "---  ------      --------------  ----- \n",
      " 0   user_id     500 non-null    int64 \n",
      " 1   first_name  500 non-null    object\n",
      " 2   last_name   500 non-null    object\n",
      " 3   age         500 non-null    int64 \n",
      " 4   city        500 non-null    object\n",
      " 5   reg_date    500 non-null    object\n",
      " 6   plan        500 non-null    object\n",
      " 7   churn_date  34 non-null     object\n",
      "dtypes: int64(2), object(6)\n",
      "memory usage: 31.4+ KB\n"
     ]
    }
   ],
   "source": [
    "# Imprime la información general/resumida sobre el DataFrame de usuarios\n",
    "users.info()"
   ]
  },
  {
   "cell_type": "code",
   "execution_count": 8,
   "metadata": {
    "id": "1IN1L9uh0q05"
   },
   "outputs": [
    {
     "data": {
      "text/html": [
       "<div>\n",
       "<style scoped>\n",
       "    .dataframe tbody tr th:only-of-type {\n",
       "        vertical-align: middle;\n",
       "    }\n",
       "\n",
       "    .dataframe tbody tr th {\n",
       "        vertical-align: top;\n",
       "    }\n",
       "\n",
       "    .dataframe thead th {\n",
       "        text-align: right;\n",
       "    }\n",
       "</style>\n",
       "<table border=\"1\" class=\"dataframe\">\n",
       "  <thead>\n",
       "    <tr style=\"text-align: right;\">\n",
       "      <th></th>\n",
       "      <th>user_id</th>\n",
       "      <th>first_name</th>\n",
       "      <th>last_name</th>\n",
       "      <th>age</th>\n",
       "      <th>city</th>\n",
       "      <th>reg_date</th>\n",
       "      <th>plan</th>\n",
       "      <th>churn_date</th>\n",
       "    </tr>\n",
       "  </thead>\n",
       "  <tbody>\n",
       "    <tr>\n",
       "      <th>0</th>\n",
       "      <td>1000</td>\n",
       "      <td>Anamaria</td>\n",
       "      <td>Bauer</td>\n",
       "      <td>45</td>\n",
       "      <td>Atlanta-Sandy Springs-Roswell, GA MSA</td>\n",
       "      <td>2018-12-24</td>\n",
       "      <td>ultimate</td>\n",
       "      <td>NaN</td>\n",
       "    </tr>\n",
       "    <tr>\n",
       "      <th>1</th>\n",
       "      <td>1001</td>\n",
       "      <td>Mickey</td>\n",
       "      <td>Wilkerson</td>\n",
       "      <td>28</td>\n",
       "      <td>Seattle-Tacoma-Bellevue, WA MSA</td>\n",
       "      <td>2018-08-13</td>\n",
       "      <td>surf</td>\n",
       "      <td>NaN</td>\n",
       "    </tr>\n",
       "    <tr>\n",
       "      <th>2</th>\n",
       "      <td>1002</td>\n",
       "      <td>Carlee</td>\n",
       "      <td>Hoffman</td>\n",
       "      <td>36</td>\n",
       "      <td>Las Vegas-Henderson-Paradise, NV MSA</td>\n",
       "      <td>2018-10-21</td>\n",
       "      <td>surf</td>\n",
       "      <td>NaN</td>\n",
       "    </tr>\n",
       "    <tr>\n",
       "      <th>3</th>\n",
       "      <td>1003</td>\n",
       "      <td>Reynaldo</td>\n",
       "      <td>Jenkins</td>\n",
       "      <td>52</td>\n",
       "      <td>Tulsa, OK MSA</td>\n",
       "      <td>2018-01-28</td>\n",
       "      <td>surf</td>\n",
       "      <td>NaN</td>\n",
       "    </tr>\n",
       "    <tr>\n",
       "      <th>4</th>\n",
       "      <td>1004</td>\n",
       "      <td>Leonila</td>\n",
       "      <td>Thompson</td>\n",
       "      <td>40</td>\n",
       "      <td>Seattle-Tacoma-Bellevue, WA MSA</td>\n",
       "      <td>2018-05-23</td>\n",
       "      <td>surf</td>\n",
       "      <td>NaN</td>\n",
       "    </tr>\n",
       "  </tbody>\n",
       "</table>\n",
       "</div>"
      ],
      "text/plain": [
       "   user_id first_name  last_name  age                                   city  \\\n",
       "0     1000   Anamaria      Bauer   45  Atlanta-Sandy Springs-Roswell, GA MSA   \n",
       "1     1001     Mickey  Wilkerson   28        Seattle-Tacoma-Bellevue, WA MSA   \n",
       "2     1002     Carlee    Hoffman   36   Las Vegas-Henderson-Paradise, NV MSA   \n",
       "3     1003   Reynaldo    Jenkins   52                          Tulsa, OK MSA   \n",
       "4     1004    Leonila   Thompson   40        Seattle-Tacoma-Bellevue, WA MSA   \n",
       "\n",
       "     reg_date      plan churn_date  \n",
       "0  2018-12-24  ultimate        NaN  \n",
       "1  2018-08-13      surf        NaN  \n",
       "2  2018-10-21      surf        NaN  \n",
       "3  2018-01-28      surf        NaN  \n",
       "4  2018-05-23      surf        NaN  "
      ]
     },
     "execution_count": 8,
     "metadata": {},
     "output_type": "execute_result"
    }
   ],
   "source": [
    "users.head()\n",
    "# Imprime una muestra de datos para usuarios"
   ]
  },
  {
   "cell_type": "markdown",
   "metadata": {
    "id": "dCZoUq4f0q06"
   },
   "source": [
    "\n",
    "\n",
    "*El DataFrame tiene 8 columas y 500 entradas. \n",
    "*user_id y age estan representadas como int64 lo cual es correcto.\n",
    "*first_name, last_name, city, reg_date, plan, and churn_date estan representadas como object data types. Sin embargo, reg_date and churn_date estarian mejor como tipo de datos datetime, ya que guardan informacion sobre fechas.\n",
    "*La columna churn_date es la unica que presenta valores ausentes (solo tiene 34 entradas no nulas), lo cual podria ser esperado, ya que no todos los usuarios habrian de dejar el servicio para cuando se genero la informacion.\n",
    "*Las columas reg_date y churn-data estan guardadas con el formato string de datos, es conveniente convertirlos a datetime\n",
    "*Se revisaran duplicados"
   ]
  },
  {
   "cell_type": "markdown",
   "metadata": {
    "id": "BX5FQh_I0q06"
   },
   "source": [
    "### Corregir los datos"
   ]
  },
  {
   "cell_type": "code",
   "execution_count": 9,
   "metadata": {
    "id": "yUqX-K0C0q07"
   },
   "outputs": [
    {
     "name": "stdout",
     "output_type": "stream",
     "text": [
      "<class 'pandas.core.frame.DataFrame'>\n",
      "RangeIndex: 500 entries, 0 to 499\n",
      "Data columns (total 8 columns):\n",
      " #   Column      Non-Null Count  Dtype         \n",
      "---  ------      --------------  -----         \n",
      " 0   user_id     500 non-null    int64         \n",
      " 1   first_name  500 non-null    object        \n",
      " 2   last_name   500 non-null    object        \n",
      " 3   age         500 non-null    int64         \n",
      " 4   city        500 non-null    object        \n",
      " 5   reg_date    500 non-null    datetime64[ns]\n",
      " 6   plan        500 non-null    object        \n",
      " 7   churn_date  34 non-null     datetime64[ns]\n",
      "dtypes: datetime64[ns](2), int64(2), object(4)\n",
      "memory usage: 31.4+ KB\n"
     ]
    },
    {
     "data": {
      "text/html": [
       "<div>\n",
       "<style scoped>\n",
       "    .dataframe tbody tr th:only-of-type {\n",
       "        vertical-align: middle;\n",
       "    }\n",
       "\n",
       "    .dataframe tbody tr th {\n",
       "        vertical-align: top;\n",
       "    }\n",
       "\n",
       "    .dataframe thead th {\n",
       "        text-align: right;\n",
       "    }\n",
       "</style>\n",
       "<table border=\"1\" class=\"dataframe\">\n",
       "  <thead>\n",
       "    <tr style=\"text-align: right;\">\n",
       "      <th></th>\n",
       "      <th>user_id</th>\n",
       "      <th>first_name</th>\n",
       "      <th>last_name</th>\n",
       "      <th>age</th>\n",
       "      <th>city</th>\n",
       "      <th>reg_date</th>\n",
       "      <th>plan</th>\n",
       "      <th>churn_date</th>\n",
       "    </tr>\n",
       "  </thead>\n",
       "  <tbody>\n",
       "    <tr>\n",
       "      <th>0</th>\n",
       "      <td>1000</td>\n",
       "      <td>Anamaria</td>\n",
       "      <td>Bauer</td>\n",
       "      <td>45</td>\n",
       "      <td>Atlanta-Sandy Springs-Roswell, GA MSA</td>\n",
       "      <td>2018-12-24</td>\n",
       "      <td>ultimate</td>\n",
       "      <td>NaT</td>\n",
       "    </tr>\n",
       "    <tr>\n",
       "      <th>1</th>\n",
       "      <td>1001</td>\n",
       "      <td>Mickey</td>\n",
       "      <td>Wilkerson</td>\n",
       "      <td>28</td>\n",
       "      <td>Seattle-Tacoma-Bellevue, WA MSA</td>\n",
       "      <td>2018-08-13</td>\n",
       "      <td>surf</td>\n",
       "      <td>NaT</td>\n",
       "    </tr>\n",
       "    <tr>\n",
       "      <th>2</th>\n",
       "      <td>1002</td>\n",
       "      <td>Carlee</td>\n",
       "      <td>Hoffman</td>\n",
       "      <td>36</td>\n",
       "      <td>Las Vegas-Henderson-Paradise, NV MSA</td>\n",
       "      <td>2018-10-21</td>\n",
       "      <td>surf</td>\n",
       "      <td>NaT</td>\n",
       "    </tr>\n",
       "    <tr>\n",
       "      <th>3</th>\n",
       "      <td>1003</td>\n",
       "      <td>Reynaldo</td>\n",
       "      <td>Jenkins</td>\n",
       "      <td>52</td>\n",
       "      <td>Tulsa, OK MSA</td>\n",
       "      <td>2018-01-28</td>\n",
       "      <td>surf</td>\n",
       "      <td>NaT</td>\n",
       "    </tr>\n",
       "    <tr>\n",
       "      <th>4</th>\n",
       "      <td>1004</td>\n",
       "      <td>Leonila</td>\n",
       "      <td>Thompson</td>\n",
       "      <td>40</td>\n",
       "      <td>Seattle-Tacoma-Bellevue, WA MSA</td>\n",
       "      <td>2018-05-23</td>\n",
       "      <td>surf</td>\n",
       "      <td>NaT</td>\n",
       "    </tr>\n",
       "  </tbody>\n",
       "</table>\n",
       "</div>"
      ],
      "text/plain": [
       "   user_id first_name  last_name  age                                   city  \\\n",
       "0     1000   Anamaria      Bauer   45  Atlanta-Sandy Springs-Roswell, GA MSA   \n",
       "1     1001     Mickey  Wilkerson   28        Seattle-Tacoma-Bellevue, WA MSA   \n",
       "2     1002     Carlee    Hoffman   36   Las Vegas-Henderson-Paradise, NV MSA   \n",
       "3     1003   Reynaldo    Jenkins   52                          Tulsa, OK MSA   \n",
       "4     1004    Leonila   Thompson   40        Seattle-Tacoma-Bellevue, WA MSA   \n",
       "\n",
       "    reg_date      plan churn_date  \n",
       "0 2018-12-24  ultimate        NaT  \n",
       "1 2018-08-13      surf        NaT  \n",
       "2 2018-10-21      surf        NaT  \n",
       "3 2018-01-28      surf        NaT  \n",
       "4 2018-05-23      surf        NaT  "
      ]
     },
     "execution_count": 9,
     "metadata": {},
     "output_type": "execute_result"
    }
   ],
   "source": [
    "users['reg_date'] = pd.to_datetime(users['reg_date'], format='%Y-%m-%d')\n",
    "users['churn_date'] = pd.to_datetime(users['churn_date'], format='%Y-%m-%d')\n",
    "users.info()\n",
    "users.head()"
   ]
  },
  {
   "cell_type": "code",
   "execution_count": 10,
   "metadata": {},
   "outputs": [
    {
     "data": {
      "text/plain": [
       "0"
      ]
     },
     "execution_count": 10,
     "metadata": {},
     "output_type": "execute_result"
    }
   ],
   "source": [
    "users.duplicated().sum() #revisar si hay duplicados en Df de usuarios"
   ]
  },
  {
   "cell_type": "code",
   "execution_count": 11,
   "metadata": {},
   "outputs": [
    {
     "data": {
      "text/plain": [
       "0"
      ]
     },
     "execution_count": 11,
     "metadata": {},
     "output_type": "execute_result"
    }
   ],
   "source": [
    "users['user_id'].duplicated().sum() #revision de duplicados de ID's"
   ]
  },
  {
   "cell_type": "code",
   "execution_count": 12,
   "metadata": {},
   "outputs": [
    {
     "data": {
      "text/plain": [
       "array(['ultimate', 'surf'], dtype=object)"
      ]
     },
     "execution_count": 12,
     "metadata": {},
     "output_type": "execute_result"
    }
   ],
   "source": [
    "users['plan'].unique() #verificando que no haya variaciones en los dos planes disponibles a los usuarios"
   ]
  },
  {
   "cell_type": "code",
   "execution_count": 13,
   "metadata": {},
   "outputs": [
    {
     "data": {
      "text/plain": [
       "['Albany-Schenectady-Troy, NY MSA',\n",
       " 'Albuquerque, NM MSA',\n",
       " 'Atlanta-Sandy Springs-Roswell, GA MSA',\n",
       " 'Austin-Round Rock-Georgetown, TX MSA',\n",
       " 'Bakersfield, CA MSA',\n",
       " 'Baltimore-Columbia-Towson, MD MSA',\n",
       " 'Baton Rouge, LA MSA',\n",
       " 'Birmingham-Hoover, AL MSA',\n",
       " 'Boston-Cambridge-Newton, MA-NH MSA',\n",
       " 'Bridgeport-Stamford-Norwalk, CT MSA',\n",
       " 'Buffalo-Cheektowaga, NY MSA',\n",
       " 'Cape Coral-Fort Myers, FL MSA',\n",
       " 'Charleston-North Charleston, SC MSA',\n",
       " 'Charlotte-Concord-Gastonia, NC-SC MSA',\n",
       " 'Chicago-Naperville-Elgin, IL-IN-WI MSA',\n",
       " 'Cincinnati, OH-KY-IN MSA',\n",
       " 'Cleveland-Elyria, OH MSA',\n",
       " 'Colorado Springs, CO MSA',\n",
       " 'Columbia, SC MSA',\n",
       " 'Columbus, OH MSA',\n",
       " 'Dallas-Fort Worth-Arlington, TX MSA',\n",
       " 'Dayton-Kettering, OH MSA',\n",
       " 'Denver-Aurora-Lakewood, CO MSA',\n",
       " 'Detroit-Warren-Dearborn, MI MSA',\n",
       " 'El Paso, TX MSA',\n",
       " 'Fresno, CA MSA',\n",
       " 'Grand Rapids-Kentwood, MI MSA',\n",
       " 'Greensboro-High Point, NC MSA',\n",
       " 'Houston-The Woodlands-Sugar Land, TX MSA',\n",
       " 'Indianapolis-Carmel-Anderson, IN MSA',\n",
       " 'Jacksonville, FL MSA',\n",
       " 'Kansas City, MO-KS MSA',\n",
       " 'Knoxville, TN MSA',\n",
       " 'Las Vegas-Henderson-Paradise, NV MSA',\n",
       " 'Los Angeles-Long Beach-Anaheim, CA MSA',\n",
       " 'Louisville/Jefferson County, KY-IN MSA',\n",
       " 'Memphis, TN-MS-AR MSA',\n",
       " 'Miami-Fort Lauderdale-West Palm Beach, FL MSA',\n",
       " 'Milwaukee-Waukesha, WI MSA',\n",
       " 'Minneapolis-St. Paul-Bloomington, MN-WI MSA',\n",
       " 'Nashville-Davidson–Murfreesboro–Franklin, TN MSA',\n",
       " 'New Haven-Milford, CT MSA',\n",
       " 'New Orleans-Metairie, LA MSA',\n",
       " 'New York-Newark-Jersey City, NY-NJ-PA MSA',\n",
       " 'North Port-Sarasota-Bradenton, FL MSA',\n",
       " 'Oklahoma City, OK MSA',\n",
       " 'Omaha-Council Bluffs, NE-IA MSA',\n",
       " 'Orlando-Kissimmee-Sanford, FL MSA',\n",
       " 'Oxnard-Thousand Oaks-Ventura, CA MSA',\n",
       " 'Philadelphia-Camden-Wilmington, PA-NJ-DE-MD MSA',\n",
       " 'Phoenix-Mesa-Chandler, AZ MSA',\n",
       " 'Pittsburgh, PA MSA',\n",
       " 'Portland-Vancouver-Hillsboro, OR-WA MSA',\n",
       " 'Providence-Warwick, RI-MA MSA',\n",
       " 'Raleigh-Cary, NC MSA',\n",
       " 'Richmond, VA MSA',\n",
       " 'Riverside-San Bernardino-Ontario, CA MSA',\n",
       " 'Rochester, NY MSA',\n",
       " 'Sacramento–Roseville–Folsom, CA MSA',\n",
       " 'Salt Lake City, UT MSA',\n",
       " 'San Antonio-New Braunfels, TX MSA',\n",
       " 'San Diego-Chula Vista-Carlsbad, CA MSA',\n",
       " 'San Francisco-Oakland-Berkeley, CA MSA',\n",
       " 'San Jose-Sunnyvale-Santa Clara, CA MSA',\n",
       " 'Seattle-Tacoma-Bellevue, WA MSA',\n",
       " 'St. Louis, MO-IL MSA',\n",
       " 'Stockton, CA MSA',\n",
       " 'Tampa-St. Petersburg-Clearwater, FL MSA',\n",
       " 'Tucson, AZ MSA',\n",
       " 'Tulsa, OK MSA',\n",
       " 'Urban Honolulu, HI MSA',\n",
       " 'Virginia Beach-Norfolk-Newport News, VA-NC MSA',\n",
       " 'Washington-Arlington-Alexandria, DC-VA-MD-WV MSA']"
      ]
     },
     "execution_count": 13,
     "metadata": {},
     "output_type": "execute_result"
    }
   ],
   "source": [
    "sorted(users['city'].unique()) #verificando que no haya variaciones de escritura en ciudades"
   ]
  },
  {
   "cell_type": "markdown",
   "metadata": {
    "id": "ycwuARJp0q07"
   },
   "source": [
    "### Enriquecer los datos"
   ]
  },
  {
   "cell_type": "code",
   "execution_count": 14,
   "metadata": {},
   "outputs": [
    {
     "data": {
      "text/html": [
       "<div>\n",
       "<style scoped>\n",
       "    .dataframe tbody tr th:only-of-type {\n",
       "        vertical-align: middle;\n",
       "    }\n",
       "\n",
       "    .dataframe tbody tr th {\n",
       "        vertical-align: top;\n",
       "    }\n",
       "\n",
       "    .dataframe thead th {\n",
       "        text-align: right;\n",
       "    }\n",
       "</style>\n",
       "<table border=\"1\" class=\"dataframe\">\n",
       "  <thead>\n",
       "    <tr style=\"text-align: right;\">\n",
       "      <th></th>\n",
       "      <th>user_id</th>\n",
       "      <th>first_name</th>\n",
       "      <th>last_name</th>\n",
       "      <th>age</th>\n",
       "      <th>city</th>\n",
       "      <th>reg_date</th>\n",
       "      <th>plan</th>\n",
       "      <th>churn_date</th>\n",
       "      <th>month</th>\n",
       "    </tr>\n",
       "  </thead>\n",
       "  <tbody>\n",
       "    <tr>\n",
       "      <th>0</th>\n",
       "      <td>1000</td>\n",
       "      <td>Anamaria</td>\n",
       "      <td>Bauer</td>\n",
       "      <td>45</td>\n",
       "      <td>Atlanta-Sandy Springs-Roswell, GA MSA</td>\n",
       "      <td>2018-12-24</td>\n",
       "      <td>ultimate</td>\n",
       "      <td>NaT</td>\n",
       "      <td>12</td>\n",
       "    </tr>\n",
       "    <tr>\n",
       "      <th>1</th>\n",
       "      <td>1001</td>\n",
       "      <td>Mickey</td>\n",
       "      <td>Wilkerson</td>\n",
       "      <td>28</td>\n",
       "      <td>Seattle-Tacoma-Bellevue, WA MSA</td>\n",
       "      <td>2018-08-13</td>\n",
       "      <td>surf</td>\n",
       "      <td>NaT</td>\n",
       "      <td>8</td>\n",
       "    </tr>\n",
       "    <tr>\n",
       "      <th>2</th>\n",
       "      <td>1002</td>\n",
       "      <td>Carlee</td>\n",
       "      <td>Hoffman</td>\n",
       "      <td>36</td>\n",
       "      <td>Las Vegas-Henderson-Paradise, NV MSA</td>\n",
       "      <td>2018-10-21</td>\n",
       "      <td>surf</td>\n",
       "      <td>NaT</td>\n",
       "      <td>10</td>\n",
       "    </tr>\n",
       "    <tr>\n",
       "      <th>3</th>\n",
       "      <td>1003</td>\n",
       "      <td>Reynaldo</td>\n",
       "      <td>Jenkins</td>\n",
       "      <td>52</td>\n",
       "      <td>Tulsa, OK MSA</td>\n",
       "      <td>2018-01-28</td>\n",
       "      <td>surf</td>\n",
       "      <td>NaT</td>\n",
       "      <td>1</td>\n",
       "    </tr>\n",
       "    <tr>\n",
       "      <th>4</th>\n",
       "      <td>1004</td>\n",
       "      <td>Leonila</td>\n",
       "      <td>Thompson</td>\n",
       "      <td>40</td>\n",
       "      <td>Seattle-Tacoma-Bellevue, WA MSA</td>\n",
       "      <td>2018-05-23</td>\n",
       "      <td>surf</td>\n",
       "      <td>NaT</td>\n",
       "      <td>5</td>\n",
       "    </tr>\n",
       "  </tbody>\n",
       "</table>\n",
       "</div>"
      ],
      "text/plain": [
       "   user_id first_name  last_name  age                                   city  \\\n",
       "0     1000   Anamaria      Bauer   45  Atlanta-Sandy Springs-Roswell, GA MSA   \n",
       "1     1001     Mickey  Wilkerson   28        Seattle-Tacoma-Bellevue, WA MSA   \n",
       "2     1002     Carlee    Hoffman   36   Las Vegas-Henderson-Paradise, NV MSA   \n",
       "3     1003   Reynaldo    Jenkins   52                          Tulsa, OK MSA   \n",
       "4     1004    Leonila   Thompson   40        Seattle-Tacoma-Bellevue, WA MSA   \n",
       "\n",
       "    reg_date      plan churn_date  month  \n",
       "0 2018-12-24  ultimate        NaT     12  \n",
       "1 2018-08-13      surf        NaT      8  \n",
       "2 2018-10-21      surf        NaT     10  \n",
       "3 2018-01-28      surf        NaT      1  \n",
       "4 2018-05-23      surf        NaT      5  "
      ]
     },
     "execution_count": 14,
     "metadata": {},
     "output_type": "execute_result"
    }
   ],
   "source": [
    "users['month'] = users['reg_date'].dt.month #extraccion de mes de la columna reg_date\n",
    "users.head()"
   ]
  },
  {
   "cell_type": "code",
   "execution_count": 15,
   "metadata": {},
   "outputs": [
    {
     "data": {
      "text/plain": [
       "array([2018])"
      ]
     },
     "execution_count": 15,
     "metadata": {},
     "output_type": "execute_result"
    }
   ],
   "source": [
    "users['year'] = users['reg_date'].dt.year \n",
    "users.year.unique()"
   ]
  },
  {
   "cell_type": "markdown",
   "metadata": {
    "id": "o7MeKCid0q08"
   },
   "source": [
    "## Llamadas"
   ]
  },
  {
   "cell_type": "code",
   "execution_count": 16,
   "metadata": {
    "id": "6dDlnoDm0q08"
   },
   "outputs": [
    {
     "name": "stdout",
     "output_type": "stream",
     "text": [
      "<class 'pandas.core.frame.DataFrame'>\n",
      "RangeIndex: 137735 entries, 0 to 137734\n",
      "Data columns (total 4 columns):\n",
      " #   Column     Non-Null Count   Dtype  \n",
      "---  ------     --------------   -----  \n",
      " 0   id         137735 non-null  object \n",
      " 1   user_id    137735 non-null  int64  \n",
      " 2   call_date  137735 non-null  object \n",
      " 3   duration   137735 non-null  float64\n",
      "dtypes: float64(1), int64(1), object(2)\n",
      "memory usage: 4.2+ MB\n"
     ]
    }
   ],
   "source": [
    "calls.info()\n",
    "# Imprime la información general/resumida sobre el DataFrame de las llamadas\n"
   ]
  },
  {
   "cell_type": "code",
   "execution_count": 17,
   "metadata": {
    "id": "kuh1vlNB0q09"
   },
   "outputs": [
    {
     "data": {
      "text/html": [
       "<div>\n",
       "<style scoped>\n",
       "    .dataframe tbody tr th:only-of-type {\n",
       "        vertical-align: middle;\n",
       "    }\n",
       "\n",
       "    .dataframe tbody tr th {\n",
       "        vertical-align: top;\n",
       "    }\n",
       "\n",
       "    .dataframe thead th {\n",
       "        text-align: right;\n",
       "    }\n",
       "</style>\n",
       "<table border=\"1\" class=\"dataframe\">\n",
       "  <thead>\n",
       "    <tr style=\"text-align: right;\">\n",
       "      <th></th>\n",
       "      <th>id</th>\n",
       "      <th>user_id</th>\n",
       "      <th>call_date</th>\n",
       "      <th>duration</th>\n",
       "    </tr>\n",
       "  </thead>\n",
       "  <tbody>\n",
       "    <tr>\n",
       "      <th>0</th>\n",
       "      <td>1000_93</td>\n",
       "      <td>1000</td>\n",
       "      <td>2018-12-27</td>\n",
       "      <td>8.52</td>\n",
       "    </tr>\n",
       "    <tr>\n",
       "      <th>1</th>\n",
       "      <td>1000_145</td>\n",
       "      <td>1000</td>\n",
       "      <td>2018-12-27</td>\n",
       "      <td>13.66</td>\n",
       "    </tr>\n",
       "    <tr>\n",
       "      <th>2</th>\n",
       "      <td>1000_247</td>\n",
       "      <td>1000</td>\n",
       "      <td>2018-12-27</td>\n",
       "      <td>14.48</td>\n",
       "    </tr>\n",
       "    <tr>\n",
       "      <th>3</th>\n",
       "      <td>1000_309</td>\n",
       "      <td>1000</td>\n",
       "      <td>2018-12-28</td>\n",
       "      <td>5.76</td>\n",
       "    </tr>\n",
       "    <tr>\n",
       "      <th>4</th>\n",
       "      <td>1000_380</td>\n",
       "      <td>1000</td>\n",
       "      <td>2018-12-30</td>\n",
       "      <td>4.22</td>\n",
       "    </tr>\n",
       "  </tbody>\n",
       "</table>\n",
       "</div>"
      ],
      "text/plain": [
       "         id  user_id   call_date  duration\n",
       "0   1000_93     1000  2018-12-27      8.52\n",
       "1  1000_145     1000  2018-12-27     13.66\n",
       "2  1000_247     1000  2018-12-27     14.48\n",
       "3  1000_309     1000  2018-12-28      5.76\n",
       "4  1000_380     1000  2018-12-30      4.22"
      ]
     },
     "execution_count": 17,
     "metadata": {},
     "output_type": "execute_result"
    }
   ],
   "source": [
    "calls.head() #Imprime una muestra de datos para las llamadas"
   ]
  },
  {
   "cell_type": "markdown",
   "metadata": {
    "id": "DOAxYJSx0q09"
   },
   "source": [
    "*La tabla calls tiene 137735 entradas con 4 columnas. No contiene valores nulos.\n",
    "*La columna call_date es ub objeto(string). Se tiene que convertir a datetime."
   ]
  },
  {
   "cell_type": "markdown",
   "metadata": {
    "id": "S7hzxmbX0q0-"
   },
   "source": [
    "### Corregir los datos"
   ]
  },
  {
   "cell_type": "code",
   "execution_count": 18,
   "metadata": {
    "id": "S2r8xA4f0q0-",
    "scrolled": true
   },
   "outputs": [
    {
     "name": "stdout",
     "output_type": "stream",
     "text": [
      "<class 'pandas.core.frame.DataFrame'>\n",
      "RangeIndex: 137735 entries, 0 to 137734\n",
      "Data columns (total 4 columns):\n",
      " #   Column     Non-Null Count   Dtype         \n",
      "---  ------     --------------   -----         \n",
      " 0   id         137735 non-null  object        \n",
      " 1   user_id    137735 non-null  int64         \n",
      " 2   call_date  137735 non-null  datetime64[ns]\n",
      " 3   duration   137735 non-null  float64       \n",
      "dtypes: datetime64[ns](1), float64(1), int64(1), object(1)\n",
      "memory usage: 4.2+ MB\n"
     ]
    }
   ],
   "source": [
    "calls['call_date'] = pd.to_datetime(calls['call_date'], format= '%Y-%m-%d')\n",
    "\n",
    "calls.info()\n"
   ]
  },
  {
   "cell_type": "code",
   "execution_count": 19,
   "metadata": {},
   "outputs": [
    {
     "data": {
      "text/plain": [
       "0"
      ]
     },
     "execution_count": 19,
     "metadata": {},
     "output_type": "execute_result"
    }
   ],
   "source": [
    "calls.duplicated().sum() #revision de duplicados"
   ]
  },
  {
   "cell_type": "code",
   "execution_count": 20,
   "metadata": {},
   "outputs": [
    {
     "data": {
      "text/plain": [
       "0"
      ]
     },
     "execution_count": 20,
     "metadata": {},
     "output_type": "execute_result"
    }
   ],
   "source": [
    "calls['id'].duplicated().sum() #revision de duplicados de ID's de llamadas"
   ]
  },
  {
   "cell_type": "markdown",
   "metadata": {
    "id": "KrMgTrlG0q0_"
   },
   "source": [
    "### Enriquecer los datos###"
   ]
  },
  {
   "cell_type": "markdown",
   "metadata": {
    "id": "a9MbmEvE0q0_"
   },
   "source": [
    "\n",
    "La descripcion de los datos estipula que Megaline redondea los segundos a minutos. Se redondearan los datos en la columna duration usando el metodo .ceil. Tambien se creera una columna para mes. De call_date se extraera el mes para crear otra la columna 'month'"
   ]
  },
  {
   "cell_type": "code",
   "execution_count": 21,
   "metadata": {
    "id": "iZ1avpA_0q0_"
   },
   "outputs": [
    {
     "data": {
      "text/html": [
       "<div>\n",
       "<style scoped>\n",
       "    .dataframe tbody tr th:only-of-type {\n",
       "        vertical-align: middle;\n",
       "    }\n",
       "\n",
       "    .dataframe tbody tr th {\n",
       "        vertical-align: top;\n",
       "    }\n",
       "\n",
       "    .dataframe thead th {\n",
       "        text-align: right;\n",
       "    }\n",
       "</style>\n",
       "<table border=\"1\" class=\"dataframe\">\n",
       "  <thead>\n",
       "    <tr style=\"text-align: right;\">\n",
       "      <th></th>\n",
       "      <th>id</th>\n",
       "      <th>user_id</th>\n",
       "      <th>call_date</th>\n",
       "      <th>duration</th>\n",
       "      <th>rounded_up_duration</th>\n",
       "    </tr>\n",
       "  </thead>\n",
       "  <tbody>\n",
       "    <tr>\n",
       "      <th>0</th>\n",
       "      <td>1000_93</td>\n",
       "      <td>1000</td>\n",
       "      <td>2018-12-27</td>\n",
       "      <td>8.52</td>\n",
       "      <td>9.0</td>\n",
       "    </tr>\n",
       "    <tr>\n",
       "      <th>1</th>\n",
       "      <td>1000_145</td>\n",
       "      <td>1000</td>\n",
       "      <td>2018-12-27</td>\n",
       "      <td>13.66</td>\n",
       "      <td>14.0</td>\n",
       "    </tr>\n",
       "    <tr>\n",
       "      <th>2</th>\n",
       "      <td>1000_247</td>\n",
       "      <td>1000</td>\n",
       "      <td>2018-12-27</td>\n",
       "      <td>14.48</td>\n",
       "      <td>15.0</td>\n",
       "    </tr>\n",
       "    <tr>\n",
       "      <th>3</th>\n",
       "      <td>1000_309</td>\n",
       "      <td>1000</td>\n",
       "      <td>2018-12-28</td>\n",
       "      <td>5.76</td>\n",
       "      <td>6.0</td>\n",
       "    </tr>\n",
       "    <tr>\n",
       "      <th>4</th>\n",
       "      <td>1000_380</td>\n",
       "      <td>1000</td>\n",
       "      <td>2018-12-30</td>\n",
       "      <td>4.22</td>\n",
       "      <td>5.0</td>\n",
       "    </tr>\n",
       "  </tbody>\n",
       "</table>\n",
       "</div>"
      ],
      "text/plain": [
       "         id  user_id  call_date  duration  rounded_up_duration\n",
       "0   1000_93     1000 2018-12-27      8.52                  9.0\n",
       "1  1000_145     1000 2018-12-27     13.66                 14.0\n",
       "2  1000_247     1000 2018-12-27     14.48                 15.0\n",
       "3  1000_309     1000 2018-12-28      5.76                  6.0\n",
       "4  1000_380     1000 2018-12-30      4.22                  5.0"
      ]
     },
     "execution_count": 21,
     "metadata": {},
     "output_type": "execute_result"
    }
   ],
   "source": [
    "calls['rounded_up_duration'] = np.ceil(calls['duration']) #redondeo de duracion de llamadas\n",
    "calls.head()"
   ]
  },
  {
   "cell_type": "code",
   "execution_count": 22,
   "metadata": {},
   "outputs": [
    {
     "data": {
      "text/html": [
       "<div>\n",
       "<style scoped>\n",
       "    .dataframe tbody tr th:only-of-type {\n",
       "        vertical-align: middle;\n",
       "    }\n",
       "\n",
       "    .dataframe tbody tr th {\n",
       "        vertical-align: top;\n",
       "    }\n",
       "\n",
       "    .dataframe thead th {\n",
       "        text-align: right;\n",
       "    }\n",
       "</style>\n",
       "<table border=\"1\" class=\"dataframe\">\n",
       "  <thead>\n",
       "    <tr style=\"text-align: right;\">\n",
       "      <th></th>\n",
       "      <th>id</th>\n",
       "      <th>user_id</th>\n",
       "      <th>call_date</th>\n",
       "      <th>duration</th>\n",
       "      <th>rounded_up_duration</th>\n",
       "      <th>month</th>\n",
       "    </tr>\n",
       "  </thead>\n",
       "  <tbody>\n",
       "    <tr>\n",
       "      <th>0</th>\n",
       "      <td>1000_93</td>\n",
       "      <td>1000</td>\n",
       "      <td>2018-12-27</td>\n",
       "      <td>8.52</td>\n",
       "      <td>9.0</td>\n",
       "      <td>12</td>\n",
       "    </tr>\n",
       "    <tr>\n",
       "      <th>1</th>\n",
       "      <td>1000_145</td>\n",
       "      <td>1000</td>\n",
       "      <td>2018-12-27</td>\n",
       "      <td>13.66</td>\n",
       "      <td>14.0</td>\n",
       "      <td>12</td>\n",
       "    </tr>\n",
       "    <tr>\n",
       "      <th>2</th>\n",
       "      <td>1000_247</td>\n",
       "      <td>1000</td>\n",
       "      <td>2018-12-27</td>\n",
       "      <td>14.48</td>\n",
       "      <td>15.0</td>\n",
       "      <td>12</td>\n",
       "    </tr>\n",
       "    <tr>\n",
       "      <th>3</th>\n",
       "      <td>1000_309</td>\n",
       "      <td>1000</td>\n",
       "      <td>2018-12-28</td>\n",
       "      <td>5.76</td>\n",
       "      <td>6.0</td>\n",
       "      <td>12</td>\n",
       "    </tr>\n",
       "    <tr>\n",
       "      <th>4</th>\n",
       "      <td>1000_380</td>\n",
       "      <td>1000</td>\n",
       "      <td>2018-12-30</td>\n",
       "      <td>4.22</td>\n",
       "      <td>5.0</td>\n",
       "      <td>12</td>\n",
       "    </tr>\n",
       "  </tbody>\n",
       "</table>\n",
       "</div>"
      ],
      "text/plain": [
       "         id  user_id  call_date  duration  rounded_up_duration  month\n",
       "0   1000_93     1000 2018-12-27      8.52                  9.0     12\n",
       "1  1000_145     1000 2018-12-27     13.66                 14.0     12\n",
       "2  1000_247     1000 2018-12-27     14.48                 15.0     12\n",
       "3  1000_309     1000 2018-12-28      5.76                  6.0     12\n",
       "4  1000_380     1000 2018-12-30      4.22                  5.0     12"
      ]
     },
     "execution_count": 22,
     "metadata": {},
     "output_type": "execute_result"
    }
   ],
   "source": [
    "calls['month'] = calls['call_date'].dt.month\n",
    "calls.head()"
   ]
  },
  {
   "cell_type": "code",
   "execution_count": 23,
   "metadata": {},
   "outputs": [
    {
     "data": {
      "text/plain": [
       "array([2018])"
      ]
     },
     "execution_count": 23,
     "metadata": {},
     "output_type": "execute_result"
    }
   ],
   "source": [
    "calls['year'] = calls['call_date'].dt.year\n",
    "calls.year.unique()"
   ]
  },
  {
   "cell_type": "markdown",
   "metadata": {
    "id": "mOUZSi180q0_"
   },
   "source": [
    "## Mensajes"
   ]
  },
  {
   "cell_type": "code",
   "execution_count": 24,
   "metadata": {
    "id": "R-bYJpdV0q1A"
   },
   "outputs": [
    {
     "name": "stdout",
     "output_type": "stream",
     "text": [
      "<class 'pandas.core.frame.DataFrame'>\n",
      "RangeIndex: 76051 entries, 0 to 76050\n",
      "Data columns (total 3 columns):\n",
      " #   Column        Non-Null Count  Dtype \n",
      "---  ------        --------------  ----- \n",
      " 0   id            76051 non-null  object\n",
      " 1   user_id       76051 non-null  int64 \n",
      " 2   message_date  76051 non-null  object\n",
      "dtypes: int64(1), object(2)\n",
      "memory usage: 1.7+ MB\n"
     ]
    }
   ],
   "source": [
    "messages.info()# Imprime la información general/resumida sobre el DataFrame de los mensajes\n"
   ]
  },
  {
   "cell_type": "code",
   "execution_count": 25,
   "metadata": {
    "id": "mCEl2iGE0q1A"
   },
   "outputs": [
    {
     "data": {
      "text/html": [
       "<div>\n",
       "<style scoped>\n",
       "    .dataframe tbody tr th:only-of-type {\n",
       "        vertical-align: middle;\n",
       "    }\n",
       "\n",
       "    .dataframe tbody tr th {\n",
       "        vertical-align: top;\n",
       "    }\n",
       "\n",
       "    .dataframe thead th {\n",
       "        text-align: right;\n",
       "    }\n",
       "</style>\n",
       "<table border=\"1\" class=\"dataframe\">\n",
       "  <thead>\n",
       "    <tr style=\"text-align: right;\">\n",
       "      <th></th>\n",
       "      <th>id</th>\n",
       "      <th>user_id</th>\n",
       "      <th>message_date</th>\n",
       "    </tr>\n",
       "  </thead>\n",
       "  <tbody>\n",
       "    <tr>\n",
       "      <th>0</th>\n",
       "      <td>1000_125</td>\n",
       "      <td>1000</td>\n",
       "      <td>2018-12-27</td>\n",
       "    </tr>\n",
       "    <tr>\n",
       "      <th>1</th>\n",
       "      <td>1000_160</td>\n",
       "      <td>1000</td>\n",
       "      <td>2018-12-31</td>\n",
       "    </tr>\n",
       "    <tr>\n",
       "      <th>2</th>\n",
       "      <td>1000_223</td>\n",
       "      <td>1000</td>\n",
       "      <td>2018-12-31</td>\n",
       "    </tr>\n",
       "    <tr>\n",
       "      <th>3</th>\n",
       "      <td>1000_251</td>\n",
       "      <td>1000</td>\n",
       "      <td>2018-12-27</td>\n",
       "    </tr>\n",
       "    <tr>\n",
       "      <th>4</th>\n",
       "      <td>1000_255</td>\n",
       "      <td>1000</td>\n",
       "      <td>2018-12-26</td>\n",
       "    </tr>\n",
       "  </tbody>\n",
       "</table>\n",
       "</div>"
      ],
      "text/plain": [
       "         id  user_id message_date\n",
       "0  1000_125     1000   2018-12-27\n",
       "1  1000_160     1000   2018-12-31\n",
       "2  1000_223     1000   2018-12-31\n",
       "3  1000_251     1000   2018-12-27\n",
       "4  1000_255     1000   2018-12-26"
      ]
     },
     "execution_count": 25,
     "metadata": {},
     "output_type": "execute_result"
    }
   ],
   "source": [
    "# Imprime una muestra de datos para los mensajes\n",
    "messages.head()"
   ]
  },
  {
   "cell_type": "markdown",
   "metadata": {
    "id": "04xDj7KH0q1A"
   },
   "source": [
    "\n",
    "*El DataFrame tiene 76051 entradas y 3 columnas. No contiene valores ausentes. \n",
    "*La columna message_date tiene un datatype de String. Es conveniente convertirla a datetime.\n",
    "*Se revisara si hay duplicados en el DataFrame y ID's de mensajes"
   ]
  },
  {
   "cell_type": "markdown",
   "metadata": {
    "id": "Sprfak900q1B"
   },
   "source": [
    "### Corregir los datos"
   ]
  },
  {
   "cell_type": "code",
   "execution_count": 26,
   "metadata": {
    "id": "vsllvkoa0q1B"
   },
   "outputs": [
    {
     "name": "stdout",
     "output_type": "stream",
     "text": [
      "<class 'pandas.core.frame.DataFrame'>\n",
      "RangeIndex: 76051 entries, 0 to 76050\n",
      "Data columns (total 3 columns):\n",
      " #   Column        Non-Null Count  Dtype         \n",
      "---  ------        --------------  -----         \n",
      " 0   id            76051 non-null  object        \n",
      " 1   user_id       76051 non-null  int64         \n",
      " 2   message_date  76051 non-null  datetime64[ns]\n",
      "dtypes: datetime64[ns](1), int64(1), object(1)\n",
      "memory usage: 1.7+ MB\n"
     ]
    }
   ],
   "source": [
    "messages['message_date'] = pd.to_datetime(messages['message_date'], format= '%Y-%m-%d') #conversion a datetime\n",
    "messages.info()"
   ]
  },
  {
   "cell_type": "code",
   "execution_count": 27,
   "metadata": {},
   "outputs": [
    {
     "data": {
      "text/plain": [
       "0"
      ]
     },
     "execution_count": 27,
     "metadata": {},
     "output_type": "execute_result"
    }
   ],
   "source": [
    "messages.duplicated().sum()"
   ]
  },
  {
   "cell_type": "code",
   "execution_count": 28,
   "metadata": {},
   "outputs": [
    {
     "data": {
      "text/plain": [
       "0"
      ]
     },
     "execution_count": 28,
     "metadata": {},
     "output_type": "execute_result"
    }
   ],
   "source": [
    "messages['id'].duplicated().sum()"
   ]
  },
  {
   "cell_type": "markdown",
   "metadata": {
    "id": "HvLid7iD0q1B"
   },
   "source": [
    "### Enriquecer los datos"
   ]
  },
  {
   "cell_type": "markdown",
   "metadata": {
    "id": "EzOG5ik30q1D"
   },
   "source": [
    "De message_date se extraera el mes para crear  la columna 'month'"
   ]
  },
  {
   "cell_type": "code",
   "execution_count": 29,
   "metadata": {},
   "outputs": [
    {
     "data": {
      "text/html": [
       "<div>\n",
       "<style scoped>\n",
       "    .dataframe tbody tr th:only-of-type {\n",
       "        vertical-align: middle;\n",
       "    }\n",
       "\n",
       "    .dataframe tbody tr th {\n",
       "        vertical-align: top;\n",
       "    }\n",
       "\n",
       "    .dataframe thead th {\n",
       "        text-align: right;\n",
       "    }\n",
       "</style>\n",
       "<table border=\"1\" class=\"dataframe\">\n",
       "  <thead>\n",
       "    <tr style=\"text-align: right;\">\n",
       "      <th></th>\n",
       "      <th>id</th>\n",
       "      <th>user_id</th>\n",
       "      <th>message_date</th>\n",
       "      <th>month</th>\n",
       "    </tr>\n",
       "  </thead>\n",
       "  <tbody>\n",
       "    <tr>\n",
       "      <th>0</th>\n",
       "      <td>1000_125</td>\n",
       "      <td>1000</td>\n",
       "      <td>2018-12-27</td>\n",
       "      <td>12</td>\n",
       "    </tr>\n",
       "    <tr>\n",
       "      <th>1</th>\n",
       "      <td>1000_160</td>\n",
       "      <td>1000</td>\n",
       "      <td>2018-12-31</td>\n",
       "      <td>12</td>\n",
       "    </tr>\n",
       "    <tr>\n",
       "      <th>2</th>\n",
       "      <td>1000_223</td>\n",
       "      <td>1000</td>\n",
       "      <td>2018-12-31</td>\n",
       "      <td>12</td>\n",
       "    </tr>\n",
       "    <tr>\n",
       "      <th>3</th>\n",
       "      <td>1000_251</td>\n",
       "      <td>1000</td>\n",
       "      <td>2018-12-27</td>\n",
       "      <td>12</td>\n",
       "    </tr>\n",
       "    <tr>\n",
       "      <th>4</th>\n",
       "      <td>1000_255</td>\n",
       "      <td>1000</td>\n",
       "      <td>2018-12-26</td>\n",
       "      <td>12</td>\n",
       "    </tr>\n",
       "  </tbody>\n",
       "</table>\n",
       "</div>"
      ],
      "text/plain": [
       "         id  user_id message_date  month\n",
       "0  1000_125     1000   2018-12-27     12\n",
       "1  1000_160     1000   2018-12-31     12\n",
       "2  1000_223     1000   2018-12-31     12\n",
       "3  1000_251     1000   2018-12-27     12\n",
       "4  1000_255     1000   2018-12-26     12"
      ]
     },
     "execution_count": 29,
     "metadata": {},
     "output_type": "execute_result"
    }
   ],
   "source": [
    "messages['month'] = messages['message_date'].dt.month\n",
    "messages.head()"
   ]
  },
  {
   "cell_type": "markdown",
   "metadata": {
    "id": "bStkaxn40q1C"
   },
   "source": [
    "## Internet"
   ]
  },
  {
   "cell_type": "code",
   "execution_count": 30,
   "metadata": {
    "id": "e-Uz5qyn0q1C"
   },
   "outputs": [
    {
     "name": "stdout",
     "output_type": "stream",
     "text": [
      "<class 'pandas.core.frame.DataFrame'>\n",
      "RangeIndex: 104825 entries, 0 to 104824\n",
      "Data columns (total 4 columns):\n",
      " #   Column        Non-Null Count   Dtype  \n",
      "---  ------        --------------   -----  \n",
      " 0   id            104825 non-null  object \n",
      " 1   user_id       104825 non-null  int64  \n",
      " 2   session_date  104825 non-null  object \n",
      " 3   mb_used       104825 non-null  float64\n",
      "dtypes: float64(1), int64(1), object(2)\n",
      "memory usage: 3.2+ MB\n"
     ]
    }
   ],
   "source": [
    "internet.info()# Imprime la información general/resumida sobre el DataFrame de internet"
   ]
  },
  {
   "cell_type": "code",
   "execution_count": 31,
   "metadata": {
    "id": "9r3x_XLw0q1C"
   },
   "outputs": [
    {
     "data": {
      "text/html": [
       "<div>\n",
       "<style scoped>\n",
       "    .dataframe tbody tr th:only-of-type {\n",
       "        vertical-align: middle;\n",
       "    }\n",
       "\n",
       "    .dataframe tbody tr th {\n",
       "        vertical-align: top;\n",
       "    }\n",
       "\n",
       "    .dataframe thead th {\n",
       "        text-align: right;\n",
       "    }\n",
       "</style>\n",
       "<table border=\"1\" class=\"dataframe\">\n",
       "  <thead>\n",
       "    <tr style=\"text-align: right;\">\n",
       "      <th></th>\n",
       "      <th>id</th>\n",
       "      <th>user_id</th>\n",
       "      <th>session_date</th>\n",
       "      <th>mb_used</th>\n",
       "    </tr>\n",
       "  </thead>\n",
       "  <tbody>\n",
       "    <tr>\n",
       "      <th>0</th>\n",
       "      <td>1000_13</td>\n",
       "      <td>1000</td>\n",
       "      <td>2018-12-29</td>\n",
       "      <td>89.86</td>\n",
       "    </tr>\n",
       "    <tr>\n",
       "      <th>1</th>\n",
       "      <td>1000_204</td>\n",
       "      <td>1000</td>\n",
       "      <td>2018-12-31</td>\n",
       "      <td>0.00</td>\n",
       "    </tr>\n",
       "    <tr>\n",
       "      <th>2</th>\n",
       "      <td>1000_379</td>\n",
       "      <td>1000</td>\n",
       "      <td>2018-12-28</td>\n",
       "      <td>660.40</td>\n",
       "    </tr>\n",
       "    <tr>\n",
       "      <th>3</th>\n",
       "      <td>1000_413</td>\n",
       "      <td>1000</td>\n",
       "      <td>2018-12-26</td>\n",
       "      <td>270.99</td>\n",
       "    </tr>\n",
       "    <tr>\n",
       "      <th>4</th>\n",
       "      <td>1000_442</td>\n",
       "      <td>1000</td>\n",
       "      <td>2018-12-27</td>\n",
       "      <td>880.22</td>\n",
       "    </tr>\n",
       "  </tbody>\n",
       "</table>\n",
       "</div>"
      ],
      "text/plain": [
       "         id  user_id session_date  mb_used\n",
       "0   1000_13     1000   2018-12-29    89.86\n",
       "1  1000_204     1000   2018-12-31     0.00\n",
       "2  1000_379     1000   2018-12-28   660.40\n",
       "3  1000_413     1000   2018-12-26   270.99\n",
       "4  1000_442     1000   2018-12-27   880.22"
      ]
     },
     "execution_count": 31,
     "metadata": {},
     "output_type": "execute_result"
    }
   ],
   "source": [
    "internet.head() #Imprime una muestra de datos para el tráfico de internet"
   ]
  },
  {
   "cell_type": "markdown",
   "metadata": {
    "id": "EzOG5ik30q1D"
   },
   "source": [
    "\n",
    "*El DataFrame tiene 104825 entradas y 4 columnas. No contiene valores ausentes.\n",
    "*La columna session_date que es de tipo string se tiene que convertir a datetime.\n",
    "*Por precaucion se revisaran duplicados"
   ]
  },
  {
   "cell_type": "markdown",
   "metadata": {
    "id": "yA0tkPFg0q1D"
   },
   "source": [
    "### Corregir los datos"
   ]
  },
  {
   "cell_type": "code",
   "execution_count": 32,
   "metadata": {
    "id": "zVeanzdd0q1E",
    "scrolled": true
   },
   "outputs": [
    {
     "name": "stdout",
     "output_type": "stream",
     "text": [
      "<class 'pandas.core.frame.DataFrame'>\n",
      "RangeIndex: 104825 entries, 0 to 104824\n",
      "Data columns (total 4 columns):\n",
      " #   Column        Non-Null Count   Dtype         \n",
      "---  ------        --------------   -----         \n",
      " 0   id            104825 non-null  object        \n",
      " 1   user_id       104825 non-null  int64         \n",
      " 2   session_date  104825 non-null  datetime64[ns]\n",
      " 3   mb_used       104825 non-null  float64       \n",
      "dtypes: datetime64[ns](1), float64(1), int64(1), object(1)\n",
      "memory usage: 3.2+ MB\n"
     ]
    }
   ],
   "source": [
    "internet['session_date'] = pd.to_datetime(internet['session_date'], format = '%Y-%m-%d')\n",
    "internet.info()"
   ]
  },
  {
   "cell_type": "code",
   "execution_count": 33,
   "metadata": {
    "scrolled": true
   },
   "outputs": [
    {
     "data": {
      "text/plain": [
       "0"
      ]
     },
     "execution_count": 33,
     "metadata": {},
     "output_type": "execute_result"
    }
   ],
   "source": [
    "messages.duplicated().sum() #revision de duplicados en DataFrame"
   ]
  },
  {
   "cell_type": "code",
   "execution_count": 34,
   "metadata": {},
   "outputs": [
    {
     "data": {
      "text/plain": [
       "0"
      ]
     },
     "execution_count": 34,
     "metadata": {},
     "output_type": "execute_result"
    }
   ],
   "source": [
    "messages['id'].duplicated().sum() #revision de duplicados de ID's de mensajes."
   ]
  },
  {
   "cell_type": "markdown",
   "metadata": {
    "id": "e8_mLF4a0q1E"
   },
   "source": [
    "### Enriquecer los datos"
   ]
  },
  {
   "cell_type": "markdown",
   "metadata": {
    "id": "xhNdn2tE0q1E"
   },
   "source": [
    "\n",
    "Para poder visualizar la columna mb_used en gigabytes redondeados, se creara la columna mg_used y se agregara una columna para mes."
   ]
  },
  {
   "cell_type": "code",
   "execution_count": 35,
   "metadata": {
    "id": "ESiYPIEK0q1E"
   },
   "outputs": [
    {
     "data": {
      "text/html": [
       "<div>\n",
       "<style scoped>\n",
       "    .dataframe tbody tr th:only-of-type {\n",
       "        vertical-align: middle;\n",
       "    }\n",
       "\n",
       "    .dataframe tbody tr th {\n",
       "        vertical-align: top;\n",
       "    }\n",
       "\n",
       "    .dataframe thead th {\n",
       "        text-align: right;\n",
       "    }\n",
       "</style>\n",
       "<table border=\"1\" class=\"dataframe\">\n",
       "  <thead>\n",
       "    <tr style=\"text-align: right;\">\n",
       "      <th></th>\n",
       "      <th>id</th>\n",
       "      <th>user_id</th>\n",
       "      <th>session_date</th>\n",
       "      <th>mb_used</th>\n",
       "      <th>gb_used</th>\n",
       "    </tr>\n",
       "  </thead>\n",
       "  <tbody>\n",
       "    <tr>\n",
       "      <th>0</th>\n",
       "      <td>1000_13</td>\n",
       "      <td>1000</td>\n",
       "      <td>2018-12-29</td>\n",
       "      <td>89.86</td>\n",
       "      <td>0.087754</td>\n",
       "    </tr>\n",
       "    <tr>\n",
       "      <th>1</th>\n",
       "      <td>1000_204</td>\n",
       "      <td>1000</td>\n",
       "      <td>2018-12-31</td>\n",
       "      <td>0.00</td>\n",
       "      <td>0.000000</td>\n",
       "    </tr>\n",
       "    <tr>\n",
       "      <th>2</th>\n",
       "      <td>1000_379</td>\n",
       "      <td>1000</td>\n",
       "      <td>2018-12-28</td>\n",
       "      <td>660.40</td>\n",
       "      <td>0.644922</td>\n",
       "    </tr>\n",
       "    <tr>\n",
       "      <th>3</th>\n",
       "      <td>1000_413</td>\n",
       "      <td>1000</td>\n",
       "      <td>2018-12-26</td>\n",
       "      <td>270.99</td>\n",
       "      <td>0.264639</td>\n",
       "    </tr>\n",
       "    <tr>\n",
       "      <th>4</th>\n",
       "      <td>1000_442</td>\n",
       "      <td>1000</td>\n",
       "      <td>2018-12-27</td>\n",
       "      <td>880.22</td>\n",
       "      <td>0.859590</td>\n",
       "    </tr>\n",
       "  </tbody>\n",
       "</table>\n",
       "</div>"
      ],
      "text/plain": [
       "         id  user_id session_date  mb_used   gb_used\n",
       "0   1000_13     1000   2018-12-29    89.86  0.087754\n",
       "1  1000_204     1000   2018-12-31     0.00  0.000000\n",
       "2  1000_379     1000   2018-12-28   660.40  0.644922\n",
       "3  1000_413     1000   2018-12-26   270.99  0.264639\n",
       "4  1000_442     1000   2018-12-27   880.22  0.859590"
      ]
     },
     "execution_count": 35,
     "metadata": {},
     "output_type": "execute_result"
    }
   ],
   "source": [
    "internet['gb_used'] = internet['mb_used'] / 1024 #conversion a GB\n",
    "internet.head()"
   ]
  },
  {
   "cell_type": "code",
   "execution_count": 36,
   "metadata": {},
   "outputs": [
    {
     "data": {
      "text/html": [
       "<div>\n",
       "<style scoped>\n",
       "    .dataframe tbody tr th:only-of-type {\n",
       "        vertical-align: middle;\n",
       "    }\n",
       "\n",
       "    .dataframe tbody tr th {\n",
       "        vertical-align: top;\n",
       "    }\n",
       "\n",
       "    .dataframe thead th {\n",
       "        text-align: right;\n",
       "    }\n",
       "</style>\n",
       "<table border=\"1\" class=\"dataframe\">\n",
       "  <thead>\n",
       "    <tr style=\"text-align: right;\">\n",
       "      <th></th>\n",
       "      <th>id</th>\n",
       "      <th>user_id</th>\n",
       "      <th>session_date</th>\n",
       "      <th>mb_used</th>\n",
       "      <th>gb_used</th>\n",
       "      <th>month</th>\n",
       "    </tr>\n",
       "  </thead>\n",
       "  <tbody>\n",
       "    <tr>\n",
       "      <th>0</th>\n",
       "      <td>1000_13</td>\n",
       "      <td>1000</td>\n",
       "      <td>2018-12-29</td>\n",
       "      <td>89.86</td>\n",
       "      <td>0.087754</td>\n",
       "      <td>12</td>\n",
       "    </tr>\n",
       "    <tr>\n",
       "      <th>1</th>\n",
       "      <td>1000_204</td>\n",
       "      <td>1000</td>\n",
       "      <td>2018-12-31</td>\n",
       "      <td>0.00</td>\n",
       "      <td>0.000000</td>\n",
       "      <td>12</td>\n",
       "    </tr>\n",
       "    <tr>\n",
       "      <th>2</th>\n",
       "      <td>1000_379</td>\n",
       "      <td>1000</td>\n",
       "      <td>2018-12-28</td>\n",
       "      <td>660.40</td>\n",
       "      <td>0.644922</td>\n",
       "      <td>12</td>\n",
       "    </tr>\n",
       "    <tr>\n",
       "      <th>3</th>\n",
       "      <td>1000_413</td>\n",
       "      <td>1000</td>\n",
       "      <td>2018-12-26</td>\n",
       "      <td>270.99</td>\n",
       "      <td>0.264639</td>\n",
       "      <td>12</td>\n",
       "    </tr>\n",
       "    <tr>\n",
       "      <th>4</th>\n",
       "      <td>1000_442</td>\n",
       "      <td>1000</td>\n",
       "      <td>2018-12-27</td>\n",
       "      <td>880.22</td>\n",
       "      <td>0.859590</td>\n",
       "      <td>12</td>\n",
       "    </tr>\n",
       "  </tbody>\n",
       "</table>\n",
       "</div>"
      ],
      "text/plain": [
       "         id  user_id session_date  mb_used   gb_used  month\n",
       "0   1000_13     1000   2018-12-29    89.86  0.087754     12\n",
       "1  1000_204     1000   2018-12-31     0.00  0.000000     12\n",
       "2  1000_379     1000   2018-12-28   660.40  0.644922     12\n",
       "3  1000_413     1000   2018-12-26   270.99  0.264639     12\n",
       "4  1000_442     1000   2018-12-27   880.22  0.859590     12"
      ]
     },
     "execution_count": 36,
     "metadata": {},
     "output_type": "execute_result"
    }
   ],
   "source": [
    "internet['month'] = internet['session_date'].dt.month\n",
    "internet.head()"
   ]
  },
  {
   "cell_type": "markdown",
   "metadata": {
    "id": "3UA2cqIW0q1E"
   },
   "source": [
    "## Estudiar las condiciones de las tarifas"
   ]
  },
  {
   "cell_type": "code",
   "execution_count": 37,
   "metadata": {
    "id": "i409op8p0q1F"
   },
   "outputs": [
    {
     "data": {
      "text/html": [
       "<div>\n",
       "<style scoped>\n",
       "    .dataframe tbody tr th:only-of-type {\n",
       "        vertical-align: middle;\n",
       "    }\n",
       "\n",
       "    .dataframe tbody tr th {\n",
       "        vertical-align: top;\n",
       "    }\n",
       "\n",
       "    .dataframe thead th {\n",
       "        text-align: right;\n",
       "    }\n",
       "</style>\n",
       "<table border=\"1\" class=\"dataframe\">\n",
       "  <thead>\n",
       "    <tr style=\"text-align: right;\">\n",
       "      <th></th>\n",
       "      <th>messages_included</th>\n",
       "      <th>mb_per_month_included</th>\n",
       "      <th>minutes_included</th>\n",
       "      <th>usd_monthly_fee</th>\n",
       "      <th>usd_per_gb</th>\n",
       "      <th>usd_per_message</th>\n",
       "      <th>usd_per_minute</th>\n",
       "      <th>plan_name</th>\n",
       "      <th>gb_per_month_included</th>\n",
       "    </tr>\n",
       "  </thead>\n",
       "  <tbody>\n",
       "    <tr>\n",
       "      <th>0</th>\n",
       "      <td>50</td>\n",
       "      <td>15360</td>\n",
       "      <td>500</td>\n",
       "      <td>20</td>\n",
       "      <td>10</td>\n",
       "      <td>0.03</td>\n",
       "      <td>0.03</td>\n",
       "      <td>surf</td>\n",
       "      <td>15.0</td>\n",
       "    </tr>\n",
       "    <tr>\n",
       "      <th>1</th>\n",
       "      <td>1000</td>\n",
       "      <td>30720</td>\n",
       "      <td>3000</td>\n",
       "      <td>70</td>\n",
       "      <td>7</td>\n",
       "      <td>0.01</td>\n",
       "      <td>0.01</td>\n",
       "      <td>ultimate</td>\n",
       "      <td>30.0</td>\n",
       "    </tr>\n",
       "  </tbody>\n",
       "</table>\n",
       "</div>"
      ],
      "text/plain": [
       "   messages_included  mb_per_month_included  minutes_included  \\\n",
       "0                 50                  15360               500   \n",
       "1               1000                  30720              3000   \n",
       "\n",
       "   usd_monthly_fee  usd_per_gb  usd_per_message  usd_per_minute plan_name  \\\n",
       "0               20          10             0.03            0.03      surf   \n",
       "1               70           7             0.01            0.01  ultimate   \n",
       "\n",
       "   gb_per_month_included  \n",
       "0                   15.0  \n",
       "1                   30.0  "
      ]
     },
     "execution_count": 37,
     "metadata": {},
     "output_type": "execute_result"
    }
   ],
   "source": [
    "# Imprime las condiciones de la tarifa y asegúrate de que te quedan claras\n",
    "plans"
   ]
  },
  {
   "cell_type": "markdown",
   "metadata": {
    "id": "hMR1tP5d0q1F"
   },
   "source": [
    "## Agregar datos por usuario\n"
   ]
  },
  {
   "cell_type": "code",
   "execution_count": 38,
   "metadata": {
    "id": "A332cedB0q1G",
    "scrolled": true
   },
   "outputs": [
    {
     "data": {
      "text/html": [
       "<div>\n",
       "<style scoped>\n",
       "    .dataframe tbody tr th:only-of-type {\n",
       "        vertical-align: middle;\n",
       "    }\n",
       "\n",
       "    .dataframe tbody tr th {\n",
       "        vertical-align: top;\n",
       "    }\n",
       "\n",
       "    .dataframe thead th {\n",
       "        text-align: right;\n",
       "    }\n",
       "</style>\n",
       "<table border=\"1\" class=\"dataframe\">\n",
       "  <thead>\n",
       "    <tr style=\"text-align: right;\">\n",
       "      <th></th>\n",
       "      <th>user_id</th>\n",
       "      <th>month</th>\n",
       "      <th>rounded_minutes_used</th>\n",
       "      <th>calls_made</th>\n",
       "    </tr>\n",
       "  </thead>\n",
       "  <tbody>\n",
       "    <tr>\n",
       "      <th>0</th>\n",
       "      <td>1000</td>\n",
       "      <td>12</td>\n",
       "      <td>124.0</td>\n",
       "      <td>16</td>\n",
       "    </tr>\n",
       "    <tr>\n",
       "      <th>1</th>\n",
       "      <td>1001</td>\n",
       "      <td>8</td>\n",
       "      <td>182.0</td>\n",
       "      <td>27</td>\n",
       "    </tr>\n",
       "    <tr>\n",
       "      <th>2</th>\n",
       "      <td>1001</td>\n",
       "      <td>9</td>\n",
       "      <td>315.0</td>\n",
       "      <td>49</td>\n",
       "    </tr>\n",
       "    <tr>\n",
       "      <th>3</th>\n",
       "      <td>1001</td>\n",
       "      <td>10</td>\n",
       "      <td>393.0</td>\n",
       "      <td>65</td>\n",
       "    </tr>\n",
       "    <tr>\n",
       "      <th>4</th>\n",
       "      <td>1001</td>\n",
       "      <td>11</td>\n",
       "      <td>426.0</td>\n",
       "      <td>64</td>\n",
       "    </tr>\n",
       "    <tr>\n",
       "      <th>...</th>\n",
       "      <td>...</td>\n",
       "      <td>...</td>\n",
       "      <td>...</td>\n",
       "      <td>...</td>\n",
       "    </tr>\n",
       "    <tr>\n",
       "      <th>2253</th>\n",
       "      <td>1498</td>\n",
       "      <td>12</td>\n",
       "      <td>339.0</td>\n",
       "      <td>39</td>\n",
       "    </tr>\n",
       "    <tr>\n",
       "      <th>2254</th>\n",
       "      <td>1499</td>\n",
       "      <td>9</td>\n",
       "      <td>346.0</td>\n",
       "      <td>41</td>\n",
       "    </tr>\n",
       "    <tr>\n",
       "      <th>2255</th>\n",
       "      <td>1499</td>\n",
       "      <td>10</td>\n",
       "      <td>385.0</td>\n",
       "      <td>53</td>\n",
       "    </tr>\n",
       "    <tr>\n",
       "      <th>2256</th>\n",
       "      <td>1499</td>\n",
       "      <td>11</td>\n",
       "      <td>308.0</td>\n",
       "      <td>45</td>\n",
       "    </tr>\n",
       "    <tr>\n",
       "      <th>2257</th>\n",
       "      <td>1499</td>\n",
       "      <td>12</td>\n",
       "      <td>496.0</td>\n",
       "      <td>65</td>\n",
       "    </tr>\n",
       "  </tbody>\n",
       "</table>\n",
       "<p>2258 rows × 4 columns</p>\n",
       "</div>"
      ],
      "text/plain": [
       "      user_id  month  rounded_minutes_used  calls_made\n",
       "0        1000     12                 124.0          16\n",
       "1        1001      8                 182.0          27\n",
       "2        1001      9                 315.0          49\n",
       "3        1001     10                 393.0          65\n",
       "4        1001     11                 426.0          64\n",
       "...       ...    ...                   ...         ...\n",
       "2253     1498     12                 339.0          39\n",
       "2254     1499      9                 346.0          41\n",
       "2255     1499     10                 385.0          53\n",
       "2256     1499     11                 308.0          45\n",
       "2257     1499     12                 496.0          65\n",
       "\n",
       "[2258 rows x 4 columns]"
      ]
     },
     "execution_count": 38,
     "metadata": {},
     "output_type": "execute_result"
    }
   ],
   "source": [
    "\n",
    "# Calcula el número de llamadas hechas por cada usuario al mes. Guarda el resultado.\n",
    "# Calcula la cantidad de minutos usados por cada usuario al mes. Guarda el resultado.\n",
    "calls_pivot = (\n",
    "    calls\n",
    "    .groupby([\"user_id\", \"month\"])\n",
    "    .agg(\n",
    "        rounded_minutes_used = (\"rounded_up_duration\",\"sum\"),\n",
    "        calls_made = (\"rounded_up_duration\",\"count\")\n",
    "    )\n",
    "    .reset_index()\n",
    ")\n",
    "calls_pivot"
   ]
  },
  {
   "cell_type": "code",
   "execution_count": 39,
   "metadata": {
    "id": "CcQvNHn60q1G"
   },
   "outputs": [
    {
     "data": {
      "text/html": [
       "<div>\n",
       "<style scoped>\n",
       "    .dataframe tbody tr th:only-of-type {\n",
       "        vertical-align: middle;\n",
       "    }\n",
       "\n",
       "    .dataframe tbody tr th {\n",
       "        vertical-align: top;\n",
       "    }\n",
       "\n",
       "    .dataframe thead th {\n",
       "        text-align: right;\n",
       "    }\n",
       "</style>\n",
       "<table border=\"1\" class=\"dataframe\">\n",
       "  <thead>\n",
       "    <tr style=\"text-align: right;\">\n",
       "      <th></th>\n",
       "      <th>user_id</th>\n",
       "      <th>month</th>\n",
       "      <th>number_of_texts</th>\n",
       "    </tr>\n",
       "  </thead>\n",
       "  <tbody>\n",
       "    <tr>\n",
       "      <th>0</th>\n",
       "      <td>1000</td>\n",
       "      <td>12</td>\n",
       "      <td>11</td>\n",
       "    </tr>\n",
       "    <tr>\n",
       "      <th>1</th>\n",
       "      <td>1001</td>\n",
       "      <td>8</td>\n",
       "      <td>30</td>\n",
       "    </tr>\n",
       "    <tr>\n",
       "      <th>2</th>\n",
       "      <td>1001</td>\n",
       "      <td>9</td>\n",
       "      <td>44</td>\n",
       "    </tr>\n",
       "    <tr>\n",
       "      <th>3</th>\n",
       "      <td>1001</td>\n",
       "      <td>10</td>\n",
       "      <td>53</td>\n",
       "    </tr>\n",
       "    <tr>\n",
       "      <th>4</th>\n",
       "      <td>1001</td>\n",
       "      <td>11</td>\n",
       "      <td>36</td>\n",
       "    </tr>\n",
       "    <tr>\n",
       "      <th>...</th>\n",
       "      <td>...</td>\n",
       "      <td>...</td>\n",
       "      <td>...</td>\n",
       "    </tr>\n",
       "    <tr>\n",
       "      <th>1801</th>\n",
       "      <td>1496</td>\n",
       "      <td>9</td>\n",
       "      <td>21</td>\n",
       "    </tr>\n",
       "    <tr>\n",
       "      <th>1802</th>\n",
       "      <td>1496</td>\n",
       "      <td>10</td>\n",
       "      <td>18</td>\n",
       "    </tr>\n",
       "    <tr>\n",
       "      <th>1803</th>\n",
       "      <td>1496</td>\n",
       "      <td>11</td>\n",
       "      <td>13</td>\n",
       "    </tr>\n",
       "    <tr>\n",
       "      <th>1804</th>\n",
       "      <td>1496</td>\n",
       "      <td>12</td>\n",
       "      <td>11</td>\n",
       "    </tr>\n",
       "    <tr>\n",
       "      <th>1805</th>\n",
       "      <td>1497</td>\n",
       "      <td>12</td>\n",
       "      <td>50</td>\n",
       "    </tr>\n",
       "  </tbody>\n",
       "</table>\n",
       "<p>1806 rows × 3 columns</p>\n",
       "</div>"
      ],
      "text/plain": [
       "      user_id  month  number_of_texts\n",
       "0        1000     12               11\n",
       "1        1001      8               30\n",
       "2        1001      9               44\n",
       "3        1001     10               53\n",
       "4        1001     11               36\n",
       "...       ...    ...              ...\n",
       "1801     1496      9               21\n",
       "1802     1496     10               18\n",
       "1803     1496     11               13\n",
       "1804     1496     12               11\n",
       "1805     1497     12               50\n",
       "\n",
       "[1806 rows x 3 columns]"
      ]
     },
     "execution_count": 39,
     "metadata": {},
     "output_type": "execute_result"
    }
   ],
   "source": [
    "# Calcula el número de mensajes enviados por cada usuario al mes. Guarda el resultado.\n",
    "\n",
    "\n",
    "messages_pivot = (\n",
    "        messages\n",
    "        .groupby(['user_id', 'month'])[['id']].count()\n",
    "        .rename(columns = {'id':\"number_of_texts\"})\n",
    "        .reset_index()\n",
    ")\n",
    "\n",
    "    \n",
    "messages_pivot"
   ]
  },
  {
   "cell_type": "code",
   "execution_count": 40,
   "metadata": {
    "id": "H1AqN2eG0q1H"
   },
   "outputs": [
    {
     "data": {
      "text/html": [
       "<div>\n",
       "<style scoped>\n",
       "    .dataframe tbody tr th:only-of-type {\n",
       "        vertical-align: middle;\n",
       "    }\n",
       "\n",
       "    .dataframe tbody tr th {\n",
       "        vertical-align: top;\n",
       "    }\n",
       "\n",
       "    .dataframe thead th {\n",
       "        text-align: right;\n",
       "    }\n",
       "</style>\n",
       "<table border=\"1\" class=\"dataframe\">\n",
       "  <thead>\n",
       "    <tr style=\"text-align: right;\">\n",
       "      <th></th>\n",
       "      <th>user_id</th>\n",
       "      <th>month</th>\n",
       "      <th>volume_of_data_used</th>\n",
       "    </tr>\n",
       "  </thead>\n",
       "  <tbody>\n",
       "    <tr>\n",
       "      <th>0</th>\n",
       "      <td>1000</td>\n",
       "      <td>12</td>\n",
       "      <td>2.0</td>\n",
       "    </tr>\n",
       "    <tr>\n",
       "      <th>1</th>\n",
       "      <td>1001</td>\n",
       "      <td>8</td>\n",
       "      <td>7.0</td>\n",
       "    </tr>\n",
       "    <tr>\n",
       "      <th>2</th>\n",
       "      <td>1001</td>\n",
       "      <td>9</td>\n",
       "      <td>14.0</td>\n",
       "    </tr>\n",
       "    <tr>\n",
       "      <th>3</th>\n",
       "      <td>1001</td>\n",
       "      <td>10</td>\n",
       "      <td>22.0</td>\n",
       "    </tr>\n",
       "    <tr>\n",
       "      <th>4</th>\n",
       "      <td>1001</td>\n",
       "      <td>11</td>\n",
       "      <td>19.0</td>\n",
       "    </tr>\n",
       "    <tr>\n",
       "      <th>...</th>\n",
       "      <td>...</td>\n",
       "      <td>...</td>\n",
       "      <td>...</td>\n",
       "    </tr>\n",
       "    <tr>\n",
       "      <th>2272</th>\n",
       "      <td>1498</td>\n",
       "      <td>12</td>\n",
       "      <td>23.0</td>\n",
       "    </tr>\n",
       "    <tr>\n",
       "      <th>2273</th>\n",
       "      <td>1499</td>\n",
       "      <td>9</td>\n",
       "      <td>13.0</td>\n",
       "    </tr>\n",
       "    <tr>\n",
       "      <th>2274</th>\n",
       "      <td>1499</td>\n",
       "      <td>10</td>\n",
       "      <td>20.0</td>\n",
       "    </tr>\n",
       "    <tr>\n",
       "      <th>2275</th>\n",
       "      <td>1499</td>\n",
       "      <td>11</td>\n",
       "      <td>17.0</td>\n",
       "    </tr>\n",
       "    <tr>\n",
       "      <th>2276</th>\n",
       "      <td>1499</td>\n",
       "      <td>12</td>\n",
       "      <td>22.0</td>\n",
       "    </tr>\n",
       "  </tbody>\n",
       "</table>\n",
       "<p>2277 rows × 3 columns</p>\n",
       "</div>"
      ],
      "text/plain": [
       "      user_id  month  volume_of_data_used\n",
       "0        1000     12                  2.0\n",
       "1        1001      8                  7.0\n",
       "2        1001      9                 14.0\n",
       "3        1001     10                 22.0\n",
       "4        1001     11                 19.0\n",
       "...       ...    ...                  ...\n",
       "2272     1498     12                 23.0\n",
       "2273     1499      9                 13.0\n",
       "2274     1499     10                 20.0\n",
       "2275     1499     11                 17.0\n",
       "2276     1499     12                 22.0\n",
       "\n",
       "[2277 rows x 3 columns]"
      ]
     },
     "execution_count": 40,
     "metadata": {},
     "output_type": "execute_result"
    }
   ],
   "source": [
    "# Calcula el volumen del tráfico de Internet usado por cada usuario al mes. Guarda el resultado.\n",
    "\n",
    "internet_pivot = (\n",
    "        internet\n",
    "        .groupby(['user_id', 'month'])[['gb_used']].sum()\n",
    "        .rename(columns= {'gb_used' :'volume_of_data_used'})\n",
    "        .assign(volume_of_data_used = lambda x : np.ceil(x[\"volume_of_data_used\"]))\n",
    "        .reset_index()\n",
    ")\n",
    "\n",
    "internet_pivot"
   ]
  },
  {
   "cell_type": "markdown",
   "metadata": {
    "id": "VDfYXnj80q1H"
   },
   "source": []
  },
  {
   "cell_type": "code",
   "execution_count": 41,
   "metadata": {
    "id": "FW99ykyf0q1H",
    "scrolled": false
   },
   "outputs": [
    {
     "data": {
      "text/html": [
       "<div>\n",
       "<style scoped>\n",
       "    .dataframe tbody tr th:only-of-type {\n",
       "        vertical-align: middle;\n",
       "    }\n",
       "\n",
       "    .dataframe tbody tr th {\n",
       "        vertical-align: top;\n",
       "    }\n",
       "\n",
       "    .dataframe thead th {\n",
       "        text-align: right;\n",
       "    }\n",
       "</style>\n",
       "<table border=\"1\" class=\"dataframe\">\n",
       "  <thead>\n",
       "    <tr style=\"text-align: right;\">\n",
       "      <th></th>\n",
       "      <th>user_id</th>\n",
       "      <th>month</th>\n",
       "      <th>rounded_minutes_used</th>\n",
       "      <th>calls_made</th>\n",
       "      <th>number_of_texts</th>\n",
       "      <th>volume_of_data_used</th>\n",
       "    </tr>\n",
       "  </thead>\n",
       "  <tbody>\n",
       "    <tr>\n",
       "      <th>0</th>\n",
       "      <td>1000</td>\n",
       "      <td>12</td>\n",
       "      <td>124.0</td>\n",
       "      <td>16.0</td>\n",
       "      <td>11.0</td>\n",
       "      <td>2.0</td>\n",
       "    </tr>\n",
       "    <tr>\n",
       "      <th>1</th>\n",
       "      <td>1001</td>\n",
       "      <td>8</td>\n",
       "      <td>182.0</td>\n",
       "      <td>27.0</td>\n",
       "      <td>30.0</td>\n",
       "      <td>7.0</td>\n",
       "    </tr>\n",
       "    <tr>\n",
       "      <th>2</th>\n",
       "      <td>1001</td>\n",
       "      <td>9</td>\n",
       "      <td>315.0</td>\n",
       "      <td>49.0</td>\n",
       "      <td>44.0</td>\n",
       "      <td>14.0</td>\n",
       "    </tr>\n",
       "    <tr>\n",
       "      <th>3</th>\n",
       "      <td>1001</td>\n",
       "      <td>10</td>\n",
       "      <td>393.0</td>\n",
       "      <td>65.0</td>\n",
       "      <td>53.0</td>\n",
       "      <td>22.0</td>\n",
       "    </tr>\n",
       "    <tr>\n",
       "      <th>4</th>\n",
       "      <td>1001</td>\n",
       "      <td>11</td>\n",
       "      <td>426.0</td>\n",
       "      <td>64.0</td>\n",
       "      <td>36.0</td>\n",
       "      <td>19.0</td>\n",
       "    </tr>\n",
       "    <tr>\n",
       "      <th>...</th>\n",
       "      <td>...</td>\n",
       "      <td>...</td>\n",
       "      <td>...</td>\n",
       "      <td>...</td>\n",
       "      <td>...</td>\n",
       "      <td>...</td>\n",
       "    </tr>\n",
       "    <tr>\n",
       "      <th>2288</th>\n",
       "      <td>1349</td>\n",
       "      <td>12</td>\n",
       "      <td>NaN</td>\n",
       "      <td>NaN</td>\n",
       "      <td>61.0</td>\n",
       "      <td>13.0</td>\n",
       "    </tr>\n",
       "    <tr>\n",
       "      <th>2289</th>\n",
       "      <td>1361</td>\n",
       "      <td>5</td>\n",
       "      <td>NaN</td>\n",
       "      <td>NaN</td>\n",
       "      <td>2.0</td>\n",
       "      <td>2.0</td>\n",
       "    </tr>\n",
       "    <tr>\n",
       "      <th>2290</th>\n",
       "      <td>1482</td>\n",
       "      <td>10</td>\n",
       "      <td>NaN</td>\n",
       "      <td>NaN</td>\n",
       "      <td>2.0</td>\n",
       "      <td>NaN</td>\n",
       "    </tr>\n",
       "    <tr>\n",
       "      <th>2291</th>\n",
       "      <td>1108</td>\n",
       "      <td>12</td>\n",
       "      <td>NaN</td>\n",
       "      <td>NaN</td>\n",
       "      <td>NaN</td>\n",
       "      <td>1.0</td>\n",
       "    </tr>\n",
       "    <tr>\n",
       "      <th>2292</th>\n",
       "      <td>1311</td>\n",
       "      <td>6</td>\n",
       "      <td>NaN</td>\n",
       "      <td>NaN</td>\n",
       "      <td>NaN</td>\n",
       "      <td>2.0</td>\n",
       "    </tr>\n",
       "  </tbody>\n",
       "</table>\n",
       "<p>2293 rows × 6 columns</p>\n",
       "</div>"
      ],
      "text/plain": [
       "      user_id  month  rounded_minutes_used  calls_made  number_of_texts  \\\n",
       "0        1000     12                 124.0        16.0             11.0   \n",
       "1        1001      8                 182.0        27.0             30.0   \n",
       "2        1001      9                 315.0        49.0             44.0   \n",
       "3        1001     10                 393.0        65.0             53.0   \n",
       "4        1001     11                 426.0        64.0             36.0   \n",
       "...       ...    ...                   ...         ...              ...   \n",
       "2288     1349     12                   NaN         NaN             61.0   \n",
       "2289     1361      5                   NaN         NaN              2.0   \n",
       "2290     1482     10                   NaN         NaN              2.0   \n",
       "2291     1108     12                   NaN         NaN              NaN   \n",
       "2292     1311      6                   NaN         NaN              NaN   \n",
       "\n",
       "      volume_of_data_used  \n",
       "0                     2.0  \n",
       "1                     7.0  \n",
       "2                    14.0  \n",
       "3                    22.0  \n",
       "4                    19.0  \n",
       "...                   ...  \n",
       "2288                 13.0  \n",
       "2289                  2.0  \n",
       "2290                  NaN  \n",
       "2291                  1.0  \n",
       "2292                  2.0  \n",
       "\n",
       "[2293 rows x 6 columns]"
      ]
     },
     "execution_count": 41,
     "metadata": {},
     "output_type": "execute_result"
    }
   ],
   "source": [
    "# Fusiona los datos de llamadas, minutos, mensajes e Internet con base en user_id y month\n",
    "\n",
    "calls_and_messages = calls_pivot.merge(messages_pivot, on=['user_id', 'month'], how='outer')\n",
    "info_usage_table = calls_and_messages.merge(internet_pivot, on=['user_id', 'month'], how='outer')\n",
    "\n",
    "info_usage_table"
   ]
  },
  {
   "cell_type": "code",
   "execution_count": 42,
   "metadata": {
    "id": "0dNOXHag0q1H"
   },
   "outputs": [
    {
     "data": {
      "text/html": [
       "<div>\n",
       "<style scoped>\n",
       "    .dataframe tbody tr th:only-of-type {\n",
       "        vertical-align: middle;\n",
       "    }\n",
       "\n",
       "    .dataframe tbody tr th {\n",
       "        vertical-align: top;\n",
       "    }\n",
       "\n",
       "    .dataframe thead th {\n",
       "        text-align: right;\n",
       "    }\n",
       "</style>\n",
       "<table border=\"1\" class=\"dataframe\">\n",
       "  <thead>\n",
       "    <tr style=\"text-align: right;\">\n",
       "      <th></th>\n",
       "      <th>user_id</th>\n",
       "      <th>first_name</th>\n",
       "      <th>last_name</th>\n",
       "      <th>age</th>\n",
       "      <th>city</th>\n",
       "      <th>reg_date</th>\n",
       "      <th>plan</th>\n",
       "      <th>churn_date</th>\n",
       "      <th>month</th>\n",
       "      <th>year</th>\n",
       "      <th>messages_included</th>\n",
       "      <th>mb_per_month_included</th>\n",
       "      <th>minutes_included</th>\n",
       "      <th>usd_monthly_fee</th>\n",
       "      <th>usd_per_gb</th>\n",
       "      <th>usd_per_message</th>\n",
       "      <th>usd_per_minute</th>\n",
       "      <th>plan_name</th>\n",
       "      <th>gb_per_month_included</th>\n",
       "    </tr>\n",
       "  </thead>\n",
       "  <tbody>\n",
       "    <tr>\n",
       "      <th>0</th>\n",
       "      <td>1000</td>\n",
       "      <td>Anamaria</td>\n",
       "      <td>Bauer</td>\n",
       "      <td>45</td>\n",
       "      <td>Atlanta-Sandy Springs-Roswell, GA MSA</td>\n",
       "      <td>2018-12-24</td>\n",
       "      <td>ultimate</td>\n",
       "      <td>NaT</td>\n",
       "      <td>12</td>\n",
       "      <td>2018</td>\n",
       "      <td>1000</td>\n",
       "      <td>30720</td>\n",
       "      <td>3000</td>\n",
       "      <td>70</td>\n",
       "      <td>7</td>\n",
       "      <td>0.01</td>\n",
       "      <td>0.01</td>\n",
       "      <td>ultimate</td>\n",
       "      <td>30.0</td>\n",
       "    </tr>\n",
       "    <tr>\n",
       "      <th>1</th>\n",
       "      <td>1006</td>\n",
       "      <td>Jesusa</td>\n",
       "      <td>Bradford</td>\n",
       "      <td>73</td>\n",
       "      <td>San Francisco-Oakland-Berkeley, CA MSA</td>\n",
       "      <td>2018-11-27</td>\n",
       "      <td>ultimate</td>\n",
       "      <td>2018-12-18</td>\n",
       "      <td>11</td>\n",
       "      <td>2018</td>\n",
       "      <td>1000</td>\n",
       "      <td>30720</td>\n",
       "      <td>3000</td>\n",
       "      <td>70</td>\n",
       "      <td>7</td>\n",
       "      <td>0.01</td>\n",
       "      <td>0.01</td>\n",
       "      <td>ultimate</td>\n",
       "      <td>30.0</td>\n",
       "    </tr>\n",
       "    <tr>\n",
       "      <th>2</th>\n",
       "      <td>1008</td>\n",
       "      <td>Emely</td>\n",
       "      <td>Hoffman</td>\n",
       "      <td>53</td>\n",
       "      <td>Orlando-Kissimmee-Sanford, FL MSA</td>\n",
       "      <td>2018-08-03</td>\n",
       "      <td>ultimate</td>\n",
       "      <td>NaT</td>\n",
       "      <td>8</td>\n",
       "      <td>2018</td>\n",
       "      <td>1000</td>\n",
       "      <td>30720</td>\n",
       "      <td>3000</td>\n",
       "      <td>70</td>\n",
       "      <td>7</td>\n",
       "      <td>0.01</td>\n",
       "      <td>0.01</td>\n",
       "      <td>ultimate</td>\n",
       "      <td>30.0</td>\n",
       "    </tr>\n",
       "    <tr>\n",
       "      <th>3</th>\n",
       "      <td>1011</td>\n",
       "      <td>Halina</td>\n",
       "      <td>Henry</td>\n",
       "      <td>73</td>\n",
       "      <td>Cleveland-Elyria, OH MSA</td>\n",
       "      <td>2018-01-18</td>\n",
       "      <td>ultimate</td>\n",
       "      <td>NaT</td>\n",
       "      <td>1</td>\n",
       "      <td>2018</td>\n",
       "      <td>1000</td>\n",
       "      <td>30720</td>\n",
       "      <td>3000</td>\n",
       "      <td>70</td>\n",
       "      <td>7</td>\n",
       "      <td>0.01</td>\n",
       "      <td>0.01</td>\n",
       "      <td>ultimate</td>\n",
       "      <td>30.0</td>\n",
       "    </tr>\n",
       "    <tr>\n",
       "      <th>4</th>\n",
       "      <td>1013</td>\n",
       "      <td>Nicolas</td>\n",
       "      <td>Snider</td>\n",
       "      <td>50</td>\n",
       "      <td>Knoxville, TN MSA</td>\n",
       "      <td>2018-12-01</td>\n",
       "      <td>ultimate</td>\n",
       "      <td>NaT</td>\n",
       "      <td>12</td>\n",
       "      <td>2018</td>\n",
       "      <td>1000</td>\n",
       "      <td>30720</td>\n",
       "      <td>3000</td>\n",
       "      <td>70</td>\n",
       "      <td>7</td>\n",
       "      <td>0.01</td>\n",
       "      <td>0.01</td>\n",
       "      <td>ultimate</td>\n",
       "      <td>30.0</td>\n",
       "    </tr>\n",
       "  </tbody>\n",
       "</table>\n",
       "</div>"
      ],
      "text/plain": [
       "   user_id first_name last_name  age                                    city  \\\n",
       "0     1000   Anamaria     Bauer   45   Atlanta-Sandy Springs-Roswell, GA MSA   \n",
       "1     1006     Jesusa  Bradford   73  San Francisco-Oakland-Berkeley, CA MSA   \n",
       "2     1008      Emely   Hoffman   53       Orlando-Kissimmee-Sanford, FL MSA   \n",
       "3     1011     Halina     Henry   73                Cleveland-Elyria, OH MSA   \n",
       "4     1013    Nicolas    Snider   50                       Knoxville, TN MSA   \n",
       "\n",
       "    reg_date      plan churn_date  month  year  messages_included  \\\n",
       "0 2018-12-24  ultimate        NaT     12  2018               1000   \n",
       "1 2018-11-27  ultimate 2018-12-18     11  2018               1000   \n",
       "2 2018-08-03  ultimate        NaT      8  2018               1000   \n",
       "3 2018-01-18  ultimate        NaT      1  2018               1000   \n",
       "4 2018-12-01  ultimate        NaT     12  2018               1000   \n",
       "\n",
       "   mb_per_month_included  minutes_included  usd_monthly_fee  usd_per_gb  \\\n",
       "0                  30720              3000               70           7   \n",
       "1                  30720              3000               70           7   \n",
       "2                  30720              3000               70           7   \n",
       "3                  30720              3000               70           7   \n",
       "4                  30720              3000               70           7   \n",
       "\n",
       "   usd_per_message  usd_per_minute plan_name  gb_per_month_included  \n",
       "0             0.01            0.01  ultimate                   30.0  \n",
       "1             0.01            0.01  ultimate                   30.0  \n",
       "2             0.01            0.01  ultimate                   30.0  \n",
       "3             0.01            0.01  ultimate                   30.0  \n",
       "4             0.01            0.01  ultimate                   30.0  "
      ]
     },
     "execution_count": 42,
     "metadata": {},
     "output_type": "execute_result"
    }
   ],
   "source": [
    "user_table_info = users.merge(plans, left_on ='plan', right_on = 'plan_name')\n",
    "user_table_info.head()\n"
   ]
  },
  {
   "cell_type": "code",
   "execution_count": 43,
   "metadata": {
    "scrolled": true
   },
   "outputs": [
    {
     "data": {
      "text/plain": [
       "Index(['user_id', 'month_x', 'rounded_minutes_used', 'calls_made',\n",
       "       'number_of_texts', 'volume_of_data_used', 'first_name', 'last_name',\n",
       "       'age', 'city', 'reg_date', 'plan', 'churn_date', 'month_y', 'year',\n",
       "       'messages_included', 'mb_per_month_included', 'minutes_included',\n",
       "       'usd_monthly_fee', 'usd_per_gb', 'usd_per_message', 'usd_per_minute',\n",
       "       'plan_name', 'gb_per_month_included'],\n",
       "      dtype='object')"
      ]
     },
     "execution_count": 43,
     "metadata": {},
     "output_type": "execute_result"
    }
   ],
   "source": [
    "usage_table = info_usage_table.merge(user_table_info, on='user_id')\n",
    "usage_table\n",
    "usage_table.columns #comprobar columnas en tabla\n"
   ]
  },
  {
   "cell_type": "code",
   "execution_count": 44,
   "metadata": {},
   "outputs": [],
   "source": [
    "columns_to_drop = ['month_y', 'first_name', 'last_name', 'age']\n",
    "usage_table = usage_table.drop(columns=columns_to_drop)"
   ]
  },
  {
   "cell_type": "code",
   "execution_count": 45,
   "metadata": {},
   "outputs": [],
   "source": [
    "# Eliminar columnas, renombrar meses\n",
    "\n",
    "month_map = {1: 'Jan', 2: 'Feb', 3: 'Mar', 4: 'Apr', 5: 'May', 6: 'Jun', 7: 'Jul', 8: 'Aug', 9: 'Sep', 10: 'Oct', 11: 'Nov', 12: 'Dec'}\n",
    "usage_table['month_x'] = usage_table['month_x'].map(month_map)"
   ]
  },
  {
   "cell_type": "code",
   "execution_count": 46,
   "metadata": {
    "id": "5FGCf_c60q1I"
   },
   "outputs": [
    {
     "data": {
      "text/html": [
       "<div>\n",
       "<style scoped>\n",
       "    .dataframe tbody tr th:only-of-type {\n",
       "        vertical-align: middle;\n",
       "    }\n",
       "\n",
       "    .dataframe tbody tr th {\n",
       "        vertical-align: top;\n",
       "    }\n",
       "\n",
       "    .dataframe thead th {\n",
       "        text-align: right;\n",
       "    }\n",
       "</style>\n",
       "<table border=\"1\" class=\"dataframe\">\n",
       "  <thead>\n",
       "    <tr style=\"text-align: right;\">\n",
       "      <th></th>\n",
       "      <th>user_id</th>\n",
       "      <th>month_x</th>\n",
       "      <th>rounded_minutes_used</th>\n",
       "      <th>calls_made</th>\n",
       "      <th>number_of_texts</th>\n",
       "      <th>volume_of_data_used</th>\n",
       "      <th>city</th>\n",
       "      <th>reg_date</th>\n",
       "      <th>plan</th>\n",
       "      <th>churn_date</th>\n",
       "      <th>...</th>\n",
       "      <th>minutes_included</th>\n",
       "      <th>usd_monthly_fee</th>\n",
       "      <th>usd_per_gb</th>\n",
       "      <th>usd_per_message</th>\n",
       "      <th>usd_per_minute</th>\n",
       "      <th>plan_name</th>\n",
       "      <th>gb_per_month_included</th>\n",
       "      <th>extra_calls</th>\n",
       "      <th>extra_messages</th>\n",
       "      <th>extra_data</th>\n",
       "    </tr>\n",
       "  </thead>\n",
       "  <tbody>\n",
       "    <tr>\n",
       "      <th>3</th>\n",
       "      <td>1001</td>\n",
       "      <td>Oct</td>\n",
       "      <td>393.0</td>\n",
       "      <td>65.0</td>\n",
       "      <td>53.0</td>\n",
       "      <td>22.0</td>\n",
       "      <td>Seattle-Tacoma-Bellevue, WA MSA</td>\n",
       "      <td>2018-08-13</td>\n",
       "      <td>surf</td>\n",
       "      <td>NaT</td>\n",
       "      <td>...</td>\n",
       "      <td>500</td>\n",
       "      <td>20</td>\n",
       "      <td>10</td>\n",
       "      <td>0.03</td>\n",
       "      <td>0.03</td>\n",
       "      <td>surf</td>\n",
       "      <td>15.0</td>\n",
       "      <td>0.00</td>\n",
       "      <td>0.09</td>\n",
       "      <td>70.0</td>\n",
       "    </tr>\n",
       "    <tr>\n",
       "      <th>4</th>\n",
       "      <td>1001</td>\n",
       "      <td>Nov</td>\n",
       "      <td>426.0</td>\n",
       "      <td>64.0</td>\n",
       "      <td>36.0</td>\n",
       "      <td>19.0</td>\n",
       "      <td>Seattle-Tacoma-Bellevue, WA MSA</td>\n",
       "      <td>2018-08-13</td>\n",
       "      <td>surf</td>\n",
       "      <td>NaT</td>\n",
       "      <td>...</td>\n",
       "      <td>500</td>\n",
       "      <td>20</td>\n",
       "      <td>10</td>\n",
       "      <td>0.03</td>\n",
       "      <td>0.03</td>\n",
       "      <td>surf</td>\n",
       "      <td>15.0</td>\n",
       "      <td>0.00</td>\n",
       "      <td>0.00</td>\n",
       "      <td>40.0</td>\n",
       "    </tr>\n",
       "    <tr>\n",
       "      <th>5</th>\n",
       "      <td>1001</td>\n",
       "      <td>Dec</td>\n",
       "      <td>412.0</td>\n",
       "      <td>56.0</td>\n",
       "      <td>44.0</td>\n",
       "      <td>19.0</td>\n",
       "      <td>Seattle-Tacoma-Bellevue, WA MSA</td>\n",
       "      <td>2018-08-13</td>\n",
       "      <td>surf</td>\n",
       "      <td>NaT</td>\n",
       "      <td>...</td>\n",
       "      <td>500</td>\n",
       "      <td>20</td>\n",
       "      <td>10</td>\n",
       "      <td>0.03</td>\n",
       "      <td>0.03</td>\n",
       "      <td>surf</td>\n",
       "      <td>15.0</td>\n",
       "      <td>0.00</td>\n",
       "      <td>0.00</td>\n",
       "      <td>40.0</td>\n",
       "    </tr>\n",
       "    <tr>\n",
       "      <th>7</th>\n",
       "      <td>1002</td>\n",
       "      <td>Nov</td>\n",
       "      <td>386.0</td>\n",
       "      <td>55.0</td>\n",
       "      <td>32.0</td>\n",
       "      <td>19.0</td>\n",
       "      <td>Las Vegas-Henderson-Paradise, NV MSA</td>\n",
       "      <td>2018-10-21</td>\n",
       "      <td>surf</td>\n",
       "      <td>NaT</td>\n",
       "      <td>...</td>\n",
       "      <td>500</td>\n",
       "      <td>20</td>\n",
       "      <td>10</td>\n",
       "      <td>0.03</td>\n",
       "      <td>0.03</td>\n",
       "      <td>surf</td>\n",
       "      <td>15.0</td>\n",
       "      <td>0.00</td>\n",
       "      <td>0.00</td>\n",
       "      <td>40.0</td>\n",
       "    </tr>\n",
       "    <tr>\n",
       "      <th>9</th>\n",
       "      <td>1003</td>\n",
       "      <td>Dec</td>\n",
       "      <td>1104.0</td>\n",
       "      <td>149.0</td>\n",
       "      <td>50.0</td>\n",
       "      <td>27.0</td>\n",
       "      <td>Tulsa, OK MSA</td>\n",
       "      <td>2018-01-28</td>\n",
       "      <td>surf</td>\n",
       "      <td>NaT</td>\n",
       "      <td>...</td>\n",
       "      <td>500</td>\n",
       "      <td>20</td>\n",
       "      <td>10</td>\n",
       "      <td>0.03</td>\n",
       "      <td>0.03</td>\n",
       "      <td>surf</td>\n",
       "      <td>15.0</td>\n",
       "      <td>18.12</td>\n",
       "      <td>0.00</td>\n",
       "      <td>120.0</td>\n",
       "    </tr>\n",
       "    <tr>\n",
       "      <th>...</th>\n",
       "      <td>...</td>\n",
       "      <td>...</td>\n",
       "      <td>...</td>\n",
       "      <td>...</td>\n",
       "      <td>...</td>\n",
       "      <td>...</td>\n",
       "      <td>...</td>\n",
       "      <td>...</td>\n",
       "      <td>...</td>\n",
       "      <td>...</td>\n",
       "      <td>...</td>\n",
       "      <td>...</td>\n",
       "      <td>...</td>\n",
       "      <td>...</td>\n",
       "      <td>...</td>\n",
       "      <td>...</td>\n",
       "      <td>...</td>\n",
       "      <td>...</td>\n",
       "      <td>...</td>\n",
       "      <td>...</td>\n",
       "      <td>...</td>\n",
       "    </tr>\n",
       "    <tr>\n",
       "      <th>2284</th>\n",
       "      <td>1194</td>\n",
       "      <td>Oct</td>\n",
       "      <td>NaN</td>\n",
       "      <td>NaN</td>\n",
       "      <td>88.0</td>\n",
       "      <td>31.0</td>\n",
       "      <td>San Jose-Sunnyvale-Santa Clara, CA MSA</td>\n",
       "      <td>2018-05-31</td>\n",
       "      <td>surf</td>\n",
       "      <td>NaT</td>\n",
       "      <td>...</td>\n",
       "      <td>500</td>\n",
       "      <td>20</td>\n",
       "      <td>10</td>\n",
       "      <td>0.03</td>\n",
       "      <td>0.03</td>\n",
       "      <td>surf</td>\n",
       "      <td>15.0</td>\n",
       "      <td>0.00</td>\n",
       "      <td>1.14</td>\n",
       "      <td>160.0</td>\n",
       "    </tr>\n",
       "    <tr>\n",
       "      <th>2285</th>\n",
       "      <td>1194</td>\n",
       "      <td>Nov</td>\n",
       "      <td>NaN</td>\n",
       "      <td>NaN</td>\n",
       "      <td>62.0</td>\n",
       "      <td>42.0</td>\n",
       "      <td>San Jose-Sunnyvale-Santa Clara, CA MSA</td>\n",
       "      <td>2018-05-31</td>\n",
       "      <td>surf</td>\n",
       "      <td>NaT</td>\n",
       "      <td>...</td>\n",
       "      <td>500</td>\n",
       "      <td>20</td>\n",
       "      <td>10</td>\n",
       "      <td>0.03</td>\n",
       "      <td>0.03</td>\n",
       "      <td>surf</td>\n",
       "      <td>15.0</td>\n",
       "      <td>0.00</td>\n",
       "      <td>0.36</td>\n",
       "      <td>270.0</td>\n",
       "    </tr>\n",
       "    <tr>\n",
       "      <th>2286</th>\n",
       "      <td>1194</td>\n",
       "      <td>Dec</td>\n",
       "      <td>NaN</td>\n",
       "      <td>NaN</td>\n",
       "      <td>56.0</td>\n",
       "      <td>31.0</td>\n",
       "      <td>San Jose-Sunnyvale-Santa Clara, CA MSA</td>\n",
       "      <td>2018-05-31</td>\n",
       "      <td>surf</td>\n",
       "      <td>NaT</td>\n",
       "      <td>...</td>\n",
       "      <td>500</td>\n",
       "      <td>20</td>\n",
       "      <td>10</td>\n",
       "      <td>0.03</td>\n",
       "      <td>0.03</td>\n",
       "      <td>surf</td>\n",
       "      <td>15.0</td>\n",
       "      <td>0.00</td>\n",
       "      <td>0.18</td>\n",
       "      <td>160.0</td>\n",
       "    </tr>\n",
       "    <tr>\n",
       "      <th>2288</th>\n",
       "      <td>1204</td>\n",
       "      <td>Dec</td>\n",
       "      <td>NaN</td>\n",
       "      <td>NaN</td>\n",
       "      <td>78.0</td>\n",
       "      <td>36.0</td>\n",
       "      <td>Chicago-Naperville-Elgin, IL-IN-WI MSA</td>\n",
       "      <td>2018-08-20</td>\n",
       "      <td>ultimate</td>\n",
       "      <td>NaT</td>\n",
       "      <td>...</td>\n",
       "      <td>3000</td>\n",
       "      <td>70</td>\n",
       "      <td>7</td>\n",
       "      <td>0.01</td>\n",
       "      <td>0.01</td>\n",
       "      <td>ultimate</td>\n",
       "      <td>30.0</td>\n",
       "      <td>0.00</td>\n",
       "      <td>0.00</td>\n",
       "      <td>42.0</td>\n",
       "    </tr>\n",
       "    <tr>\n",
       "      <th>2290</th>\n",
       "      <td>1349</td>\n",
       "      <td>Nov</td>\n",
       "      <td>NaN</td>\n",
       "      <td>NaN</td>\n",
       "      <td>72.0</td>\n",
       "      <td>17.0</td>\n",
       "      <td>Boston-Cambridge-Newton, MA-NH MSA</td>\n",
       "      <td>2018-10-01</td>\n",
       "      <td>surf</td>\n",
       "      <td>NaT</td>\n",
       "      <td>...</td>\n",
       "      <td>500</td>\n",
       "      <td>20</td>\n",
       "      <td>10</td>\n",
       "      <td>0.03</td>\n",
       "      <td>0.03</td>\n",
       "      <td>surf</td>\n",
       "      <td>15.0</td>\n",
       "      <td>0.00</td>\n",
       "      <td>0.66</td>\n",
       "      <td>20.0</td>\n",
       "    </tr>\n",
       "  </tbody>\n",
       "</table>\n",
       "<p>952 rows × 23 columns</p>\n",
       "</div>"
      ],
      "text/plain": [
       "      user_id month_x  rounded_minutes_used  calls_made  number_of_texts  \\\n",
       "3        1001     Oct                 393.0        65.0             53.0   \n",
       "4        1001     Nov                 426.0        64.0             36.0   \n",
       "5        1001     Dec                 412.0        56.0             44.0   \n",
       "7        1002     Nov                 386.0        55.0             32.0   \n",
       "9        1003     Dec                1104.0       149.0             50.0   \n",
       "...       ...     ...                   ...         ...              ...   \n",
       "2284     1194     Oct                   NaN         NaN             88.0   \n",
       "2285     1194     Nov                   NaN         NaN             62.0   \n",
       "2286     1194     Dec                   NaN         NaN             56.0   \n",
       "2288     1204     Dec                   NaN         NaN             78.0   \n",
       "2290     1349     Nov                   NaN         NaN             72.0   \n",
       "\n",
       "      volume_of_data_used                                    city   reg_date  \\\n",
       "3                    22.0         Seattle-Tacoma-Bellevue, WA MSA 2018-08-13   \n",
       "4                    19.0         Seattle-Tacoma-Bellevue, WA MSA 2018-08-13   \n",
       "5                    19.0         Seattle-Tacoma-Bellevue, WA MSA 2018-08-13   \n",
       "7                    19.0    Las Vegas-Henderson-Paradise, NV MSA 2018-10-21   \n",
       "9                    27.0                           Tulsa, OK MSA 2018-01-28   \n",
       "...                   ...                                     ...        ...   \n",
       "2284                 31.0  San Jose-Sunnyvale-Santa Clara, CA MSA 2018-05-31   \n",
       "2285                 42.0  San Jose-Sunnyvale-Santa Clara, CA MSA 2018-05-31   \n",
       "2286                 31.0  San Jose-Sunnyvale-Santa Clara, CA MSA 2018-05-31   \n",
       "2288                 36.0  Chicago-Naperville-Elgin, IL-IN-WI MSA 2018-08-20   \n",
       "2290                 17.0      Boston-Cambridge-Newton, MA-NH MSA 2018-10-01   \n",
       "\n",
       "          plan churn_date  ...  minutes_included  usd_monthly_fee  usd_per_gb  \\\n",
       "3         surf        NaT  ...               500               20          10   \n",
       "4         surf        NaT  ...               500               20          10   \n",
       "5         surf        NaT  ...               500               20          10   \n",
       "7         surf        NaT  ...               500               20          10   \n",
       "9         surf        NaT  ...               500               20          10   \n",
       "...        ...        ...  ...               ...              ...         ...   \n",
       "2284      surf        NaT  ...               500               20          10   \n",
       "2285      surf        NaT  ...               500               20          10   \n",
       "2286      surf        NaT  ...               500               20          10   \n",
       "2288  ultimate        NaT  ...              3000               70           7   \n",
       "2290      surf        NaT  ...               500               20          10   \n",
       "\n",
       "      usd_per_message  usd_per_minute  plan_name  gb_per_month_included  \\\n",
       "3                0.03            0.03       surf                   15.0   \n",
       "4                0.03            0.03       surf                   15.0   \n",
       "5                0.03            0.03       surf                   15.0   \n",
       "7                0.03            0.03       surf                   15.0   \n",
       "9                0.03            0.03       surf                   15.0   \n",
       "...               ...             ...        ...                    ...   \n",
       "2284             0.03            0.03       surf                   15.0   \n",
       "2285             0.03            0.03       surf                   15.0   \n",
       "2286             0.03            0.03       surf                   15.0   \n",
       "2288             0.01            0.01   ultimate                   30.0   \n",
       "2290             0.03            0.03       surf                   15.0   \n",
       "\n",
       "      extra_calls extra_messages  extra_data  \n",
       "3            0.00           0.09        70.0  \n",
       "4            0.00           0.00        40.0  \n",
       "5            0.00           0.00        40.0  \n",
       "7            0.00           0.00        40.0  \n",
       "9           18.12           0.00       120.0  \n",
       "...           ...            ...         ...  \n",
       "2284         0.00           1.14       160.0  \n",
       "2285         0.00           0.36       270.0  \n",
       "2286         0.00           0.18       160.0  \n",
       "2288         0.00           0.00        42.0  \n",
       "2290         0.00           0.66        20.0  \n",
       "\n",
       "[952 rows x 23 columns]"
      ]
     },
     "execution_count": 46,
     "metadata": {},
     "output_type": "execute_result"
    }
   ],
   "source": [
    "# Calcula el ingreso mensual para cada usuario\n",
    "extra_calls = usage_table[\"rounded_minutes_used\"] - usage_table[\"minutes_included\"]\n",
    "extra_calls = extra_calls.fillna(0)\n",
    "\n",
    "extra_calls = [0 if x<0 else x for x in extra_calls]\n",
    "extra_calls = pd.Series(extra_calls)\n",
    "usage_table[\"extra_calls\"] = extra_calls * usage_table[\"usd_per_minute\"]\n",
    "usage_table.query('extra_calls>0')\n",
    "\n",
    "\n",
    "extra_messages = usage_table[\"number_of_texts\"] - usage_table[\"messages_included\"]\n",
    "extra_messages = extra_messages.fillna(0)\n",
    "\n",
    "extra_messages = [0 if x<0 else x for x in extra_messages]\n",
    "extra_messages = pd.Series(extra_messages)\n",
    "usage_table[\"extra_messages\"] = extra_messages * usage_table[\"usd_per_message\"]\n",
    "usage_table.query('extra_messages>0')\n",
    "\n",
    "extra_data = usage_table['volume_of_data_used'] - usage_table['gb_per_month_included']\n",
    "extra_data = extra_data.fillna(0)\n",
    "\n",
    "extra_data = [0 if x<0 else x for x in extra_data]\n",
    "extra_data = pd.Series(extra_data)\n",
    "usage_table['extra_data'] = extra_data * usage_table[\"usd_per_gb\"]\n",
    "usage_table.query('extra_data>0')\n",
    "\n"
   ]
  },
  {
   "cell_type": "markdown",
   "metadata": {
    "id": "-jtyHzJb0q1I"
   },
   "source": [
    "## Estudia el comportamiento de usuario"
   ]
  },
  {
   "cell_type": "markdown",
   "metadata": {},
   "source": [
    "Se analizaran patrones de consumo de los clientes en llamadas, mensajes y datos. Se usara estadistica descriptiva de los datos previamente fusionados, asi como graficos derivados de esta informacion que nos permitira sacar conclusiones de este snapshot de datos."
   ]
  },
  {
   "cell_type": "markdown",
   "metadata": {
    "id": "vtW4CJEe0q1J"
   },
   "source": [
    "### Llamadas"
   ]
  },
  {
   "cell_type": "code",
   "execution_count": 47,
   "metadata": {
    "id": "Jf5v5--k0q1J",
    "scrolled": true
   },
   "outputs": [
    {
     "data": {
      "text/html": [
       "<div>\n",
       "<style scoped>\n",
       "    .dataframe tbody tr th:only-of-type {\n",
       "        vertical-align: middle;\n",
       "    }\n",
       "\n",
       "    .dataframe tbody tr th {\n",
       "        vertical-align: top;\n",
       "    }\n",
       "\n",
       "    .dataframe thead th {\n",
       "        text-align: right;\n",
       "    }\n",
       "</style>\n",
       "<table border=\"1\" class=\"dataframe\">\n",
       "  <thead>\n",
       "    <tr style=\"text-align: right;\">\n",
       "      <th>plan</th>\n",
       "      <th>surf</th>\n",
       "      <th>ultimate</th>\n",
       "    </tr>\n",
       "    <tr>\n",
       "      <th>month_x</th>\n",
       "      <th></th>\n",
       "      <th></th>\n",
       "    </tr>\n",
       "  </thead>\n",
       "  <tbody>\n",
       "    <tr>\n",
       "      <th>Apr</th>\n",
       "      <td>351.540000</td>\n",
       "      <td>336.857143</td>\n",
       "    </tr>\n",
       "    <tr>\n",
       "      <th>Aug</th>\n",
       "      <td>417.849057</td>\n",
       "      <td>421.436620</td>\n",
       "    </tr>\n",
       "    <tr>\n",
       "      <th>Dec</th>\n",
       "      <td>484.501608</td>\n",
       "      <td>465.261745</td>\n",
       "    </tr>\n",
       "    <tr>\n",
       "      <th>Feb</th>\n",
       "      <td>297.000000</td>\n",
       "      <td>470.333333</td>\n",
       "    </tr>\n",
       "    <tr>\n",
       "      <th>Jan</th>\n",
       "      <td>203.000000</td>\n",
       "      <td>193.500000</td>\n",
       "    </tr>\n",
       "    <tr>\n",
       "      <th>Jul</th>\n",
       "      <td>453.733333</td>\n",
       "      <td>427.067797</td>\n",
       "    </tr>\n",
       "    <tr>\n",
       "      <th>Jun</th>\n",
       "      <td>435.791667</td>\n",
       "      <td>387.444444</td>\n",
       "    </tr>\n",
       "    <tr>\n",
       "      <th>Mar</th>\n",
       "      <td>330.000000</td>\n",
       "      <td>304.250000</td>\n",
       "    </tr>\n",
       "    <tr>\n",
       "      <th>May</th>\n",
       "      <td>410.240000</td>\n",
       "      <td>406.241379</td>\n",
       "    </tr>\n",
       "    <tr>\n",
       "      <th>Nov</th>\n",
       "      <td>432.494585</td>\n",
       "      <td>448.730159</td>\n",
       "    </tr>\n",
       "    <tr>\n",
       "      <th>Oct</th>\n",
       "      <td>438.991379</td>\n",
       "      <td>455.028571</td>\n",
       "    </tr>\n",
       "    <tr>\n",
       "      <th>Sep</th>\n",
       "      <td>420.732984</td>\n",
       "      <td>437.511628</td>\n",
       "    </tr>\n",
       "  </tbody>\n",
       "</table>\n",
       "</div>"
      ],
      "text/plain": [
       "plan           surf    ultimate\n",
       "month_x                        \n",
       "Apr      351.540000  336.857143\n",
       "Aug      417.849057  421.436620\n",
       "Dec      484.501608  465.261745\n",
       "Feb      297.000000  470.333333\n",
       "Jan      203.000000  193.500000\n",
       "Jul      453.733333  427.067797\n",
       "Jun      435.791667  387.444444\n",
       "Mar      330.000000  304.250000\n",
       "May      410.240000  406.241379\n",
       "Nov      432.494585  448.730159\n",
       "Oct      438.991379  455.028571\n",
       "Sep      420.732984  437.511628"
      ]
     },
     "metadata": {},
     "output_type": "display_data"
    },
    {
     "data": {
      "image/png": "[encoded data removed]",
      "text/plain": [
       "<Figure size 1152x576 with 1 Axes>"
      ]
     },
     "metadata": {
      "needs_background": "light"
     },
     "output_type": "display_data"
    }
   ],
   "source": [
    "# Compara la duración promedio de llamadas por cada plan y por cada mes. Traza un gráfico de barras para visualizarla.\n",
    "mean_call_duration = usage_table.pivot_table(index = 'month_x', columns = 'plan', aggfunc='mean', values='rounded_minutes_used')\n",
    "display(mean_call_duration)\n",
    "\n",
    "#ordenar meses cronologicamente\n",
    "month_order = ['Jan', 'Feb', 'Mar', 'Apr', 'May', 'Jun', 'Jul', 'Aug', 'Sep', 'Oct', 'Nov', 'Dec']\n",
    "usage_table['month_x'] = pd.Categorical(usage_table['month_x'], categories=month_order, ordered=True)\n",
    "usage_table = usage_table.sort_values('month_x')\n",
    "\n",
    "#creacion de grafica\n",
    "\n",
    "mean_call_duration = mean_call_duration.reindex(month_order, axis=0)\n",
    "mean_call_duration.plot.bar(figsize=(16,8), rot=0, color=['Green', 'Orange'])\n",
    "plt.title( 'Duracion promedio de llamadas por plan realizadas cada mes')\n",
    "plt.ylabel('Minutos por llamada')\n",
    "plt.xlabel('Meses')\n",
    "\n",
    "plt.show()"
   ]
  },
  {
   "cell_type": "code",
   "execution_count": 48,
   "metadata": {
    "id": "QoLqW1S_0q1J",
    "scrolled": true
   },
   "outputs": [
    {
     "data": {
      "image/png": "[encoded data removed]",
      "text/plain": [
       "<Figure size 1152x576 with 1 Axes>"
      ]
     },
     "metadata": {
      "needs_background": "light"
     },
     "output_type": "display_data"
    }
   ],
   "source": [
    "# Compara el número de minutos mensuales que necesitan los usuarios de cada plan. Traza un histograma.\n",
    "surf_user_min_consuption =  usage_table[usage_table['plan_name'] == 'surf']\n",
    "ultimate_user_min_consuption =  usage_table[usage_table['plan_name'] == 'ultimate']\n",
    "\n",
    "\n",
    "surf_user_min_consuption['rounded_minutes_used'].plot.hist(figsize=(16,8), color='Gray')\n",
    "ultimate_user_min_consuption['rounded_minutes_used'].plot.hist(color='Orange', alpha=0.4)\n",
    "\n",
    "# Set the plot attributes\n",
    "plt.legend(['Surf', 'Ultimate'])\n",
    "plt.xlabel('Numero de minutos')\n",
    "plt.title('Numero de minutos por plan que los usuarios requieren cada mes') \n",
    "\n",
    "plt.show()\n",
    "\n"
   ]
  },
  {
   "cell_type": "code",
   "execution_count": 49,
   "metadata": {
    "id": "oSndbAnt0q1K"
   },
   "outputs": [
    {
     "data": {
      "text/html": [
       "<div>\n",
       "<style scoped>\n",
       "    .dataframe tbody tr th:only-of-type {\n",
       "        vertical-align: middle;\n",
       "    }\n",
       "\n",
       "    .dataframe tbody tr th {\n",
       "        vertical-align: top;\n",
       "    }\n",
       "\n",
       "    .dataframe thead th {\n",
       "        text-align: right;\n",
       "    }\n",
       "</style>\n",
       "<table border=\"1\" class=\"dataframe\">\n",
       "  <thead>\n",
       "    <tr style=\"text-align: right;\">\n",
       "      <th></th>\n",
       "      <th>plan</th>\n",
       "      <th>mean_monthly_call_mins</th>\n",
       "      <th>var_monthly_call_mins</th>\n",
       "    </tr>\n",
       "  </thead>\n",
       "  <tbody>\n",
       "    <tr>\n",
       "      <th>0</th>\n",
       "      <td>surf</td>\n",
       "      <td>436.519741</td>\n",
       "      <td>52571.063243</td>\n",
       "    </tr>\n",
       "    <tr>\n",
       "      <th>1</th>\n",
       "      <td>ultimate</td>\n",
       "      <td>434.676017</td>\n",
       "      <td>56573.632247</td>\n",
       "    </tr>\n",
       "  </tbody>\n",
       "</table>\n",
       "</div>"
      ],
      "text/plain": [
       "       plan  mean_monthly_call_mins  var_monthly_call_mins\n",
       "0      surf              436.519741           52571.063243\n",
       "1  ultimate              434.676017           56573.632247"
      ]
     },
     "execution_count": 49,
     "metadata": {},
     "output_type": "execute_result"
    }
   ],
   "source": [
    "# Calcula la media y la varianza de la duración mensual de llamadas.\n",
    "\n",
    "monthly_call_duration_stats = usage_table.groupby('plan')['rounded_minutes_used'].agg(['mean', 'var']).reset_index()\n",
    "monthly_call_duration_stats.columns = ['plan', 'mean_monthly_call_mins', 'var_monthly_call_mins']\n",
    "monthly_call_duration_stats"
   ]
  },
  {
   "cell_type": "code",
   "execution_count": 50,
   "metadata": {},
   "outputs": [
    {
     "data": {
      "text/plain": [
       "count    1545.000000\n",
       "mean      436.519741\n",
       "std       229.283805\n",
       "min         0.000000\n",
       "25%       279.000000\n",
       "50%       430.000000\n",
       "75%       579.000000\n",
       "max      1510.000000\n",
       "Name: rounded_minutes_used, dtype: float64"
      ]
     },
     "execution_count": 50,
     "metadata": {},
     "output_type": "execute_result"
    }
   ],
   "source": [
    "surf_user_min_consuption['rounded_minutes_used'].describe()"
   ]
  },
  {
   "cell_type": "code",
   "execution_count": 51,
   "metadata": {},
   "outputs": [
    {
     "data": {
      "text/plain": [
       "<AxesSubplot:xlabel='plan', ylabel='rounded_minutes_used'>"
      ]
     },
     "execution_count": 51,
     "metadata": {},
     "output_type": "execute_result"
    },
    {
     "data": {
      "image/png": "[encoded data removed]",
      "text/plain": [
       "<Figure size 1152x720 with 1 Axes>"
      ]
     },
     "metadata": {
      "needs_background": "light"
     },
     "output_type": "display_data"
    }
   ],
   "source": [
    "plt.figure(figsize=(16, 10))\n",
    "sns.boxplot(x='plan', y='rounded_minutes_used', data=usage_table)"
   ]
  },
  {
   "cell_type": "code",
   "execution_count": 52,
   "metadata": {},
   "outputs": [
    {
     "data": {
      "text/plain": [
       "count     713.000000\n",
       "mean      434.676017\n",
       "std       237.852123\n",
       "min         0.000000\n",
       "25%       263.000000\n",
       "50%       425.000000\n",
       "75%       566.000000\n",
       "max      1369.000000\n",
       "Name: rounded_minutes_used, dtype: float64"
      ]
     },
     "execution_count": 52,
     "metadata": {},
     "output_type": "execute_result"
    }
   ],
   "source": [
    "ultimate_user_min_consuption['rounded_minutes_used'].describe()\n"
   ]
  },
  {
   "cell_type": "markdown",
   "metadata": {
    "id": "r627zBO50q1K"
   },
   "source": [
    "**Conclusiones Llamadas**\n",
    "\n",
    "En general, parece que los clientes del plan Ultimate tienden a tener duraciones de llamadas promedio más largas que los del plan Surf, \n",
    "\n",
    "La diferencia en la duración promedio de las llamadas entre los dos planes varía de un mes a otro; algunos meses tienen una diferencia mayor (febrero) y la menor en mayo.\n",
    "\n",
    "Ambos planes muestran una tendencia general de aumento de la duración promedio de las llamadas de enero a diciembre, lo que podría indicar un efecto estacional o una tendencia en el comportamiento de los clientes.\n",
    "\n",
    "El plan Surf parece tener más variación en la duración promedio de las llamadas que el plan Ultimate.\n",
    "\n",
    "La mayor duración promedio de llamadas para ambos planes se registró en diciembre de 2018.\n",
    "\n",
    "Estudiando el histograma podemos ver que tanto los usuarios de Surf como de Ultimate tienden a usar entre 250 a 650 minutos mensualmente.\n",
    "\n",
    "El plan Surf tiene una duración media de llamada mensual ligeramente mayou (436,52 minutos) que el plan de tarifa Ultimate (434,68 minutos).\n",
    "\n",
    "La distribución de la duración de las llamadas mensuales para los usuarios del plan Surf está sesgada ligeramente a la derecha, con un amplio rango de variación en la duración de las llamadas. La mayoría de los usuarios del plan Surf (50%) realizan llamadas de menos de 430 minutos al mes, mientras que algunos usuarios realizan llamadas muy largas, hasta un máximo de 1510 minutos al mes.\n",
    "\n",
    "La distribución de la duración de las llamadas mensuales para los usuarios del plan Ultimate está sesgada ligeramente a la derecha, con un amplio rango de variación en la duración de las llamadas. La mayoría de los usuarios del plan Ultimate (50%) realizan llamadas de menos de 425 minutos al mes, mientras que algunos usuarios realizan llamadas muy largas, hasta un máximo de 1369 minutos al mes. La duración media de las llamadas mensuales para los usuarios del plan Ultimate es ligeramente mayor que la de los usuarios del plan Surf, pero no es una diferencia muy significativa."
   ]
  },
  {
   "cell_type": "markdown",
   "metadata": {
    "id": "8idKy8Wh0q1L"
   },
   "source": [
    "### Mensajes"
   ]
  },
  {
   "cell_type": "code",
   "execution_count": 53,
   "metadata": {
    "id": "NXLxiTit0q1L"
   },
   "outputs": [
    {
     "data": {
      "text/html": [
       "<div>\n",
       "<style scoped>\n",
       "    .dataframe tbody tr th:only-of-type {\n",
       "        vertical-align: middle;\n",
       "    }\n",
       "\n",
       "    .dataframe tbody tr th {\n",
       "        vertical-align: top;\n",
       "    }\n",
       "\n",
       "    .dataframe thead th {\n",
       "        text-align: right;\n",
       "    }\n",
       "</style>\n",
       "<table border=\"1\" class=\"dataframe\">\n",
       "  <thead>\n",
       "    <tr style=\"text-align: right;\">\n",
       "      <th>plan</th>\n",
       "      <th>surf</th>\n",
       "      <th>ultimate</th>\n",
       "    </tr>\n",
       "    <tr>\n",
       "      <th>month_x</th>\n",
       "      <th></th>\n",
       "      <th></th>\n",
       "    </tr>\n",
       "  </thead>\n",
       "  <tbody>\n",
       "    <tr>\n",
       "      <th>Jan</th>\n",
       "      <td>21.000000</td>\n",
       "      <td>20.666667</td>\n",
       "    </tr>\n",
       "    <tr>\n",
       "      <th>Feb</th>\n",
       "      <td>21.600000</td>\n",
       "      <td>25.166667</td>\n",
       "    </tr>\n",
       "    <tr>\n",
       "      <th>Mar</th>\n",
       "      <td>21.937500</td>\n",
       "      <td>34.714286</td>\n",
       "    </tr>\n",
       "    <tr>\n",
       "      <th>Apr</th>\n",
       "      <td>24.166667</td>\n",
       "      <td>28.937500</td>\n",
       "    </tr>\n",
       "    <tr>\n",
       "      <th>May</th>\n",
       "      <td>33.017857</td>\n",
       "      <td>44.333333</td>\n",
       "    </tr>\n",
       "    <tr>\n",
       "      <th>Jun</th>\n",
       "      <td>33.616438</td>\n",
       "      <td>36.289474</td>\n",
       "    </tr>\n",
       "    <tr>\n",
       "      <th>Jul</th>\n",
       "      <td>35.945055</td>\n",
       "      <td>41.212766</td>\n",
       "    </tr>\n",
       "    <tr>\n",
       "      <th>Aug</th>\n",
       "      <td>37.596774</td>\n",
       "      <td>47.929825</td>\n",
       "    </tr>\n",
       "    <tr>\n",
       "      <th>Sep</th>\n",
       "      <td>39.523179</td>\n",
       "      <td>45.901408</td>\n",
       "    </tr>\n",
       "    <tr>\n",
       "      <th>Oct</th>\n",
       "      <td>42.433862</td>\n",
       "      <td>46.977528</td>\n",
       "    </tr>\n",
       "    <tr>\n",
       "      <th>Nov</th>\n",
       "      <td>40.553097</td>\n",
       "      <td>47.601942</td>\n",
       "    </tr>\n",
       "    <tr>\n",
       "      <th>Dec</th>\n",
       "      <td>48.326772</td>\n",
       "      <td>53.936508</td>\n",
       "    </tr>\n",
       "  </tbody>\n",
       "</table>\n",
       "</div>"
      ],
      "text/plain": [
       "plan          surf   ultimate\n",
       "month_x                      \n",
       "Jan      21.000000  20.666667\n",
       "Feb      21.600000  25.166667\n",
       "Mar      21.937500  34.714286\n",
       "Apr      24.166667  28.937500\n",
       "May      33.017857  44.333333\n",
       "Jun      33.616438  36.289474\n",
       "Jul      35.945055  41.212766\n",
       "Aug      37.596774  47.929825\n",
       "Sep      39.523179  45.901408\n",
       "Oct      42.433862  46.977528\n",
       "Nov      40.553097  47.601942\n",
       "Dec      48.326772  53.936508"
      ]
     },
     "metadata": {},
     "output_type": "display_data"
    },
    {
     "data": {
      "text/html": [
       "<div>\n",
       "<style scoped>\n",
       "    .dataframe tbody tr th:only-of-type {\n",
       "        vertical-align: middle;\n",
       "    }\n",
       "\n",
       "    .dataframe tbody tr th {\n",
       "        vertical-align: top;\n",
       "    }\n",
       "\n",
       "    .dataframe thead th {\n",
       "        text-align: right;\n",
       "    }\n",
       "</style>\n",
       "<table border=\"1\" class=\"dataframe\">\n",
       "  <thead>\n",
       "    <tr style=\"text-align: right;\">\n",
       "      <th>plan</th>\n",
       "      <th>surf</th>\n",
       "      <th>ultimate</th>\n",
       "    </tr>\n",
       "    <tr>\n",
       "      <th>month_x</th>\n",
       "      <th></th>\n",
       "      <th></th>\n",
       "    </tr>\n",
       "  </thead>\n",
       "  <tbody>\n",
       "    <tr>\n",
       "      <th>Jan</th>\n",
       "      <td>21.0</td>\n",
       "      <td>21.0</td>\n",
       "    </tr>\n",
       "    <tr>\n",
       "      <th>Feb</th>\n",
       "      <td>22.0</td>\n",
       "      <td>25.0</td>\n",
       "    </tr>\n",
       "    <tr>\n",
       "      <th>Mar</th>\n",
       "      <td>22.0</td>\n",
       "      <td>35.0</td>\n",
       "    </tr>\n",
       "    <tr>\n",
       "      <th>Apr</th>\n",
       "      <td>24.0</td>\n",
       "      <td>29.0</td>\n",
       "    </tr>\n",
       "    <tr>\n",
       "      <th>May</th>\n",
       "      <td>33.0</td>\n",
       "      <td>44.0</td>\n",
       "    </tr>\n",
       "    <tr>\n",
       "      <th>Jun</th>\n",
       "      <td>34.0</td>\n",
       "      <td>36.0</td>\n",
       "    </tr>\n",
       "    <tr>\n",
       "      <th>Jul</th>\n",
       "      <td>36.0</td>\n",
       "      <td>41.0</td>\n",
       "    </tr>\n",
       "    <tr>\n",
       "      <th>Aug</th>\n",
       "      <td>38.0</td>\n",
       "      <td>48.0</td>\n",
       "    </tr>\n",
       "    <tr>\n",
       "      <th>Sep</th>\n",
       "      <td>40.0</td>\n",
       "      <td>46.0</td>\n",
       "    </tr>\n",
       "    <tr>\n",
       "      <th>Oct</th>\n",
       "      <td>42.0</td>\n",
       "      <td>47.0</td>\n",
       "    </tr>\n",
       "    <tr>\n",
       "      <th>Nov</th>\n",
       "      <td>41.0</td>\n",
       "      <td>48.0</td>\n",
       "    </tr>\n",
       "    <tr>\n",
       "      <th>Dec</th>\n",
       "      <td>48.0</td>\n",
       "      <td>54.0</td>\n",
       "    </tr>\n",
       "  </tbody>\n",
       "</table>\n",
       "</div>"
      ],
      "text/plain": [
       "plan     surf  ultimate\n",
       "month_x                \n",
       "Jan      21.0      21.0\n",
       "Feb      22.0      25.0\n",
       "Mar      22.0      35.0\n",
       "Apr      24.0      29.0\n",
       "May      33.0      44.0\n",
       "Jun      34.0      36.0\n",
       "Jul      36.0      41.0\n",
       "Aug      38.0      48.0\n",
       "Sep      40.0      46.0\n",
       "Oct      42.0      47.0\n",
       "Nov      41.0      48.0\n",
       "Dec      48.0      54.0"
      ]
     },
     "execution_count": 53,
     "metadata": {},
     "output_type": "execute_result"
    }
   ],
   "source": [
    "# Comprara el número de mensajes que tienden a enviar cada mes los usuarios de cada plan\n",
    "mean_sent_messages = usage_table.pivot_table(index = 'month_x', columns = 'plan', aggfunc='mean', values='number_of_texts')\n",
    "display(mean_sent_messages)\n",
    "mean_sent_messages['surf'] = mean_sent_messages['surf'].round(0)\n",
    "mean_sent_messages['ultimate'] = mean_sent_messages['ultimate'].round(0)\n",
    "mean_sent_messages"
   ]
  },
  {
   "cell_type": "code",
   "execution_count": 54,
   "metadata": {
    "id": "GRI_R7xF0q1L",
    "scrolled": true
   },
   "outputs": [
    {
     "data": {
      "image/png": "[encoded data removed]",
      "text/plain": [
       "<Figure size 1152x576 with 1 Axes>"
      ]
     },
     "metadata": {
      "needs_background": "light"
     },
     "output_type": "display_data"
    }
   ],
   "source": [
    "mean_sent_messages.plot.bar(figsize=(16,8), rot=0, color=['Green', 'Orange'])\n",
    "\n",
    "plt.title('Promedio de mensajes enviados mensualmente por cada plan') \n",
    "plt.ylabel('Numero de mensajes')\n",
    "plt.xlabel('Mes')\n",
    "\n",
    "plt.show()"
   ]
  },
  {
   "cell_type": "code",
   "execution_count": 55,
   "metadata": {
    "id": "dtFwCGAp0q1M"
   },
   "outputs": [
    {
     "data": {
      "image/png": "[encoded data removed]",
      "text/plain": [
       "<Figure size 1152x576 with 1 Axes>"
      ]
     },
     "metadata": {
      "needs_background": "light"
     },
     "output_type": "display_data"
    }
   ],
   "source": [
    "surf_user_me_consuption =  usage_table[usage_table['plan_name'] == 'surf']\n",
    "ultimate_user_me_consuption =  usage_table[usage_table['plan_name'] == 'ultimate']\n",
    "\n",
    "\n",
    "surf_user_min_consuption['number_of_texts'].plot.hist(figsize=(16,8), color='Gray')\n",
    "ultimate_user_min_consuption['number_of_texts'].plot.hist(color='Orange', alpha=0.4)\n",
    "\n",
    "# Set the plot attributes\n",
    "plt.legend(['Surf', 'Ultimate'])\n",
    "plt.xlabel('Numero de mensajes')\n",
    "plt.title('Numero de mensajes que los usuarios envian cada mes')\n",
    "\n",
    "plt.show()"
   ]
  },
  {
   "cell_type": "code",
   "execution_count": 56,
   "metadata": {},
   "outputs": [
    {
     "data": {
      "text/plain": [
       "count    1222.000000\n",
       "mean       40.109656\n",
       "std        33.035500\n",
       "min         1.000000\n",
       "25%        16.000000\n",
       "50%        32.000000\n",
       "75%        54.000000\n",
       "max       266.000000\n",
       "Name: number_of_texts, dtype: float64"
      ]
     },
     "execution_count": 56,
     "metadata": {},
     "output_type": "execute_result"
    }
   ],
   "source": [
    "surf_user_me_consuption['number_of_texts'].describe()"
   ]
  },
  {
   "cell_type": "code",
   "execution_count": 57,
   "metadata": {
    "scrolled": true
   },
   "outputs": [
    {
     "data": {
      "image/png": "[encoded data removed]",
      "text/plain": [
       "<Figure size 1152x720 with 1 Axes>"
      ]
     },
     "metadata": {
      "needs_background": "light"
     },
     "output_type": "display_data"
    }
   ],
   "source": [
    "plt.figure(figsize=(16, 10))\n",
    "sns.boxplot(x='plan', y='number_of_texts', data=usage_table)\n",
    "plt.title('Distribucion mensual de los mensajes de Surf y Ultimate')\n",
    "\n",
    "plt.show()"
   ]
  },
  {
   "cell_type": "code",
   "execution_count": 58,
   "metadata": {},
   "outputs": [
    {
     "data": {
      "text/plain": [
       "count    584.000000\n",
       "mean      46.296233\n",
       "std       32.942118\n",
       "min        1.000000\n",
       "25%       21.000000\n",
       "50%       41.000000\n",
       "75%       66.000000\n",
       "max      166.000000\n",
       "Name: number_of_texts, dtype: float64"
      ]
     },
     "execution_count": 58,
     "metadata": {},
     "output_type": "execute_result"
    }
   ],
   "source": [
    "ultimate_user_me_consuption['number_of_texts'].describe()"
   ]
  },
  {
   "cell_type": "code",
   "execution_count": 59,
   "metadata": {},
   "outputs": [
    {
     "data": {
      "text/html": [
       "<div>\n",
       "<style scoped>\n",
       "    .dataframe tbody tr th:only-of-type {\n",
       "        vertical-align: middle;\n",
       "    }\n",
       "\n",
       "    .dataframe tbody tr th {\n",
       "        vertical-align: top;\n",
       "    }\n",
       "\n",
       "    .dataframe thead th {\n",
       "        text-align: right;\n",
       "    }\n",
       "</style>\n",
       "<table border=\"1\" class=\"dataframe\">\n",
       "  <thead>\n",
       "    <tr style=\"text-align: right;\">\n",
       "      <th></th>\n",
       "      <th>mean_monthly_messages</th>\n",
       "      <th>var_monthly_messages</th>\n",
       "    </tr>\n",
       "    <tr>\n",
       "      <th>plan_name</th>\n",
       "      <th></th>\n",
       "      <th></th>\n",
       "    </tr>\n",
       "  </thead>\n",
       "  <tbody>\n",
       "    <tr>\n",
       "      <th>surf</th>\n",
       "      <td>40.109656</td>\n",
       "      <td>1091.344231</td>\n",
       "    </tr>\n",
       "    <tr>\n",
       "      <th>ultimate</th>\n",
       "      <td>46.296233</td>\n",
       "      <td>1085.183108</td>\n",
       "    </tr>\n",
       "  </tbody>\n",
       "</table>\n",
       "</div>"
      ],
      "text/plain": [
       "           mean_monthly_messages  var_monthly_messages\n",
       "plan_name                                             \n",
       "surf                   40.109656           1091.344231\n",
       "ultimate               46.296233           1085.183108"
      ]
     },
     "execution_count": 59,
     "metadata": {},
     "output_type": "execute_result"
    }
   ],
   "source": [
    "#calcular media y varianza para ver si los dos planes tienen diferente comportamientos en cuanto al envio de mensajes\n",
    "monthly_messages_stats= usage_table.pivot_table(index= 'plan_name', values = 'number_of_texts',aggfunc=['mean', 'var'])\n",
    "monthly_messages_stats.columns = ['mean_monthly_messages', 'var_monthly_messages']\n",
    "monthly_messages_stats"
   ]
  },
  {
   "cell_type": "markdown",
   "metadata": {
    "id": "390SSL480q1M"
   },
   "source": [
    "**Conclusiones Mensajes**\n",
    "\n",
    "En la mayoria de los meses los usuarios del plan Ultimate mandadn mas mensajes que los del plan Surf.\n",
    "\n",
    "El promedio más alto de mensajes enviados por mes para ambos planes se registró en diciembre de 2018.\n",
    "\n",
    "El numero de mensajes enviados por los usuarios de ambos planes es relativamente bajo. La mayoria de los meses tienen un promedio de menos de 50 mensajes por mes.\n",
    "\n",
    "En el histograma podemos ver que  los usuarios de ambos planes no necesitan tantos mensajes por mes. El numero de mensajes enviados por los usuarios del plan Surf es cerca messages de 190, mientras que para los usarios de Ultimate alrededor de 170 mensajes.\n",
    "La media del número mensual de mensajes es mayor para los usuarios del plan Ultimate (46.30) que para los usuarios del plan Surf(46.11).\n",
    "\n",
    "La distribución del número mensual de mensajes para los usuarios del plan Surf está sesgada hacia la derecha. La mayoría de los usuarios del plan Surf (50%) enviaron 32 mensajes o menos por mes, mientras que algunos usuarios enviaron hasta 266 mensajes por mes.\n",
    "\n",
    "La mayoría de los usuarios del plan Ultimate (50%) enviaron 41 mensajes o menos por mes, mientras que algunos usuarios enviaron hasta 166 mensajes por mes. El número medio mensual de mensajes de los usuarios del plan Ultimate es mayor al de los usuarios del plan Surf. Sin embargo, la cantidad máxima mensual de mensajes es menor para los usuarios del plan Ultimate en comparación con los usuarios del plan Surf.\n"
   ]
  },
  {
   "cell_type": "markdown",
   "metadata": {
    "id": "42YSypXz0q1M"
   },
   "source": [
    "### Internet"
   ]
  },
  {
   "cell_type": "code",
   "execution_count": 60,
   "metadata": {
    "id": "lSuKPtjh0q1M"
   },
   "outputs": [
    {
     "data": {
      "text/html": [
       "<div>\n",
       "<style scoped>\n",
       "    .dataframe tbody tr th:only-of-type {\n",
       "        vertical-align: middle;\n",
       "    }\n",
       "\n",
       "    .dataframe tbody tr th {\n",
       "        vertical-align: top;\n",
       "    }\n",
       "\n",
       "    .dataframe thead th {\n",
       "        text-align: right;\n",
       "    }\n",
       "</style>\n",
       "<table border=\"1\" class=\"dataframe\">\n",
       "  <thead>\n",
       "    <tr style=\"text-align: right;\">\n",
       "      <th>plan_name</th>\n",
       "      <th>surf</th>\n",
       "      <th>ultimate</th>\n",
       "    </tr>\n",
       "    <tr>\n",
       "      <th>month_x</th>\n",
       "      <th></th>\n",
       "      <th></th>\n",
       "    </tr>\n",
       "  </thead>\n",
       "  <tbody>\n",
       "    <tr>\n",
       "      <th>Jan</th>\n",
       "      <td>5.000000</td>\n",
       "      <td>7.250000</td>\n",
       "    </tr>\n",
       "    <tr>\n",
       "      <th>Feb</th>\n",
       "      <td>12.222222</td>\n",
       "      <td>17.285714</td>\n",
       "    </tr>\n",
       "    <tr>\n",
       "      <th>Mar</th>\n",
       "      <td>13.565217</td>\n",
       "      <td>18.416667</td>\n",
       "    </tr>\n",
       "    <tr>\n",
       "      <th>Apr</th>\n",
       "      <td>12.469388</td>\n",
       "      <td>16.333333</td>\n",
       "    </tr>\n",
       "    <tr>\n",
       "      <th>May</th>\n",
       "      <td>14.302632</td>\n",
       "      <td>16.862069</td>\n",
       "    </tr>\n",
       "    <tr>\n",
       "      <th>Jun</th>\n",
       "      <td>15.810526</td>\n",
       "      <td>15.425532</td>\n",
       "    </tr>\n",
       "    <tr>\n",
       "      <th>Jul</th>\n",
       "      <td>17.016667</td>\n",
       "      <td>16.491525</td>\n",
       "    </tr>\n",
       "    <tr>\n",
       "      <th>Aug</th>\n",
       "      <td>17.201258</td>\n",
       "      <td>17.845070</td>\n",
       "    </tr>\n",
       "    <tr>\n",
       "      <th>Sep</th>\n",
       "      <td>16.777202</td>\n",
       "      <td>17.011628</td>\n",
       "    </tr>\n",
       "    <tr>\n",
       "      <th>Oct</th>\n",
       "      <td>17.632479</td>\n",
       "      <td>17.885714</td>\n",
       "    </tr>\n",
       "    <tr>\n",
       "      <th>Nov</th>\n",
       "      <td>16.548043</td>\n",
       "      <td>17.118110</td>\n",
       "    </tr>\n",
       "    <tr>\n",
       "      <th>Dec</th>\n",
       "      <td>18.296530</td>\n",
       "      <td>18.397351</td>\n",
       "    </tr>\n",
       "  </tbody>\n",
       "</table>\n",
       "</div>"
      ],
      "text/plain": [
       "plan_name       surf   ultimate\n",
       "month_x                        \n",
       "Jan         5.000000   7.250000\n",
       "Feb        12.222222  17.285714\n",
       "Mar        13.565217  18.416667\n",
       "Apr        12.469388  16.333333\n",
       "May        14.302632  16.862069\n",
       "Jun        15.810526  15.425532\n",
       "Jul        17.016667  16.491525\n",
       "Aug        17.201258  17.845070\n",
       "Sep        16.777202  17.011628\n",
       "Oct        17.632479  17.885714\n",
       "Nov        16.548043  17.118110\n",
       "Dec        18.296530  18.397351"
      ]
     },
     "execution_count": 60,
     "metadata": {},
     "output_type": "execute_result"
    }
   ],
   "source": [
    "# Compara la cantidad de tráfico de Internet consumido por usuarios por plan\n",
    "mean_internet_traffic_consumed = usage_table.pivot_table(index='month_x', columns='plan_name', aggfunc='mean', values='volume_of_data_used')\n",
    "mean_internet_traffic_consumed"
   ]
  },
  {
   "cell_type": "code",
   "execution_count": 61,
   "metadata": {
    "id": "wnh8jYXi0q1N"
   },
   "outputs": [
    {
     "data": {
      "image/png": "[encoded data removed]",
      "text/plain": [
       "<Figure size 1152x576 with 1 Axes>"
      ]
     },
     "metadata": {
      "needs_background": "light"
     },
     "output_type": "display_data"
    }
   ],
   "source": [
    "mean_internet_traffic_consumed.plot.bar(figsize=(16,8), rot =0, color=['Green', 'Orange'])\n",
    "\n",
    "plt.title('Cantidad de tráfico de Internet consumido por usuarios por plan')\n",
    "\n",
    "plt.ylabel('Datos consumidos (GBs)')\n",
    "plt.xlabel('Meses')\n",
    "\n",
    "plt.show()"
   ]
  },
  {
   "cell_type": "code",
   "execution_count": 62,
   "metadata": {
    "id": "5VlyJ9ry0q1N"
   },
   "outputs": [
    {
     "data": {
      "image/png": "[encoded data removed]",
      "text/plain": [
       "<Figure size 1152x576 with 1 Axes>"
      ]
     },
     "metadata": {
      "needs_background": "light"
     },
     "output_type": "display_data"
    }
   ],
   "source": [
    "surf_user_int_consuption =  usage_table[usage_table['plan_name'] == 'surf']\n",
    "ultimate_user_int_consuption =  usage_table[usage_table['plan_name'] == 'ultimate']\n",
    "\n",
    "\n",
    "surf_user_int_consuption['volume_of_data_used'].plot.hist(figsize=(16,8), color='Gray')\n",
    "ultimate_user_int_consuption['volume_of_data_used'].plot.hist(color='Orange', alpha=0.4)\n",
    "\n",
    "\n",
    "plt.legend(['Surf', 'Ultimate'])\n",
    "plt.xlabel('Volume en Gigabytes')\n",
    "plt.title('Volumen de Datos consumidos por mes')\n",
    "\n",
    "plt.show()"
   ]
  },
  {
   "cell_type": "code",
   "execution_count": 63,
   "metadata": {},
   "outputs": [
    {
     "data": {
      "text/html": [
       "<div>\n",
       "<style scoped>\n",
       "    .dataframe tbody tr th:only-of-type {\n",
       "        vertical-align: middle;\n",
       "    }\n",
       "\n",
       "    .dataframe tbody tr th {\n",
       "        vertical-align: top;\n",
       "    }\n",
       "\n",
       "    .dataframe thead th {\n",
       "        text-align: right;\n",
       "    }\n",
       "</style>\n",
       "<table border=\"1\" class=\"dataframe\">\n",
       "  <thead>\n",
       "    <tr style=\"text-align: right;\">\n",
       "      <th></th>\n",
       "      <th>mean_monthly_internet_GBs</th>\n",
       "      <th>var_monthly_internet_GBs</th>\n",
       "    </tr>\n",
       "    <tr>\n",
       "      <th>plan_name</th>\n",
       "      <th></th>\n",
       "      <th></th>\n",
       "    </tr>\n",
       "  </thead>\n",
       "  <tbody>\n",
       "    <tr>\n",
       "      <th>surf</th>\n",
       "      <td>16.831194</td>\n",
       "      <td>59.473734</td>\n",
       "    </tr>\n",
       "    <tr>\n",
       "      <th>ultimate</th>\n",
       "      <td>17.331015</td>\n",
       "      <td>58.494733</td>\n",
       "    </tr>\n",
       "  </tbody>\n",
       "</table>\n",
       "</div>"
      ],
      "text/plain": [
       "           mean_monthly_internet_GBs  var_monthly_internet_GBs\n",
       "plan_name                                                     \n",
       "surf                       16.831194                 59.473734\n",
       "ultimate                   17.331015                 58.494733"
      ]
     },
     "execution_count": 63,
     "metadata": {},
     "output_type": "execute_result"
    }
   ],
   "source": [
    "monthly_data_stats = usage_table.pivot_table(index='plan_name', values='volume_of_data_used', aggfunc=['mean', 'var'])\n",
    "monthly_data_stats.columns = ['mean_monthly_internet_GBs', 'var_monthly_internet_GBs']\n",
    "monthly_data_stats"
   ]
  },
  {
   "cell_type": "code",
   "execution_count": 64,
   "metadata": {},
   "outputs": [
    {
     "data": {
      "text/plain": [
       "count    1558.000000\n",
       "mean       16.831194\n",
       "std         7.711922\n",
       "min         1.000000\n",
       "25%        12.000000\n",
       "50%        17.000000\n",
       "75%        21.000000\n",
       "max        70.000000\n",
       "Name: volume_of_data_used, dtype: float64"
      ]
     },
     "execution_count": 64,
     "metadata": {},
     "output_type": "execute_result"
    }
   ],
   "source": [
    "surf_user_int_consuption['volume_of_data_used'].describe()"
   ]
  },
  {
   "cell_type": "code",
   "execution_count": 65,
   "metadata": {},
   "outputs": [
    {
     "data": {
      "image/png": "[encoded data removed]",
      "text/plain": [
       "<Figure size 1152x720 with 1 Axes>"
      ]
     },
     "metadata": {
      "needs_background": "light"
     },
     "output_type": "display_data"
    }
   ],
   "source": [
    "plt.figure(figsize=(16, 10))\n",
    "sns.boxplot(x='plan', y='volume_of_data_used', data=usage_table)\n",
    "plt.title('Distribucion mensual de consumo de datos de los usuarios de Surf y Ultimate')\n",
    "\n",
    "\n",
    "plt.show()"
   ]
  },
  {
   "cell_type": "code",
   "execution_count": 66,
   "metadata": {},
   "outputs": [
    {
     "data": {
      "text/plain": [
       "count    1558.000000\n",
       "mean       16.831194\n",
       "std         7.711922\n",
       "min         1.000000\n",
       "25%        12.000000\n",
       "50%        17.000000\n",
       "75%        21.000000\n",
       "max        70.000000\n",
       "Name: volume_of_data_used, dtype: float64"
      ]
     },
     "execution_count": 66,
     "metadata": {},
     "output_type": "execute_result"
    }
   ],
   "source": [
    "surf_user_int_consuption['volume_of_data_used'].describe()"
   ]
  },
  {
   "cell_type": "markdown",
   "metadata": {
    "id": "UN9zwuMP0q1N"
   },
   "source": [
    "\n",
    "**Conclusiones Internet**\n",
    "\n",
    "*Los dos planes muestran un patron similar de uso durante el 2018. Diciembre fue el mes de mas consumo de datos para ambos planes y menor consumo durante los primeros meses del 2018.\n",
    "\n",
    "*La mayoría de los usuarios de ambos planes utilizan entre 15 y 22 GB de Internet mensualmente.El número máximo de GB de Internet que necesitan los usuarios del plan Surf es alrededor de 42. La cantidad máxima de GB de Internet que necesitan los usuarios del plan Ultimate es cercana a 46.\n",
    "\n",
    "*El uso de datos mensual para os dos planes es relativamente similar: los usuarios de Surf consumen una media de 16.83 GB y los usuarios de Ultimate consumen una media de 17.33 GB\n",
    "\n",
    "*La media y la varianza indican que que los usuarios de ambos planes consumen cantidades similares de tráfico de Internet en promedio, con relativamente poca variación entre los usuarios dentro de cada plan.\n"
   ]
  },
  {
   "cell_type": "markdown",
   "metadata": {
    "id": "tCijq3260q1N"
   },
   "source": [
    "## Ingreso"
   ]
  },
  {
   "cell_type": "raw",
   "metadata": {
    "id": "9nq5IAcy0q1O"
   },
   "source": [
    "Primero se creara una pivot table para calcular ingreso total mensual por usuario y luego se adjuntara como columna al DataFrame usage_table."
   ]
  },
  {
   "cell_type": "code",
   "execution_count": 67,
   "metadata": {
    "id": "tz-dq_V00q1O"
   },
   "outputs": [
    {
     "data": {
      "text/html": [
       "<div>\n",
       "<style scoped>\n",
       "    .dataframe tbody tr th:only-of-type {\n",
       "        vertical-align: middle;\n",
       "    }\n",
       "\n",
       "    .dataframe tbody tr th {\n",
       "        vertical-align: top;\n",
       "    }\n",
       "\n",
       "    .dataframe thead th {\n",
       "        text-align: right;\n",
       "    }\n",
       "</style>\n",
       "<table border=\"1\" class=\"dataframe\">\n",
       "  <thead>\n",
       "    <tr style=\"text-align: right;\">\n",
       "      <th></th>\n",
       "      <th>user_id</th>\n",
       "      <th>month_x</th>\n",
       "      <th>rounded_minutes_used</th>\n",
       "      <th>calls_made</th>\n",
       "      <th>number_of_texts</th>\n",
       "      <th>volume_of_data_used</th>\n",
       "      <th>city</th>\n",
       "      <th>reg_date</th>\n",
       "      <th>plan</th>\n",
       "      <th>churn_date</th>\n",
       "      <th>...</th>\n",
       "      <th>minutes_included</th>\n",
       "      <th>usd_monthly_fee</th>\n",
       "      <th>usd_per_gb</th>\n",
       "      <th>usd_per_message</th>\n",
       "      <th>usd_per_minute</th>\n",
       "      <th>plan_name</th>\n",
       "      <th>gb_per_month_included</th>\n",
       "      <th>extra_calls</th>\n",
       "      <th>extra_messages</th>\n",
       "      <th>extra_data</th>\n",
       "    </tr>\n",
       "  </thead>\n",
       "  <tbody>\n",
       "    <tr>\n",
       "      <th>156</th>\n",
       "      <td>1042</td>\n",
       "      <td>Jan</td>\n",
       "      <td>114.0</td>\n",
       "      <td>18.0</td>\n",
       "      <td>NaN</td>\n",
       "      <td>2.0</td>\n",
       "      <td>Philadelphia-Camden-Wilmington, PA-NJ-DE-MD MSA</td>\n",
       "      <td>2018-01-15</td>\n",
       "      <td>surf</td>\n",
       "      <td>NaT</td>\n",
       "      <td>...</td>\n",
       "      <td>500</td>\n",
       "      <td>20</td>\n",
       "      <td>10</td>\n",
       "      <td>0.03</td>\n",
       "      <td>0.03</td>\n",
       "      <td>surf</td>\n",
       "      <td>15.0</td>\n",
       "      <td>0.0</td>\n",
       "      <td>0.0</td>\n",
       "      <td>0.0</td>\n",
       "    </tr>\n",
       "    <tr>\n",
       "      <th>862</th>\n",
       "      <td>1185</td>\n",
       "      <td>Jan</td>\n",
       "      <td>181.0</td>\n",
       "      <td>23.0</td>\n",
       "      <td>NaN</td>\n",
       "      <td>7.0</td>\n",
       "      <td>Louisville/Jefferson County, KY-IN MSA</td>\n",
       "      <td>2018-01-14</td>\n",
       "      <td>ultimate</td>\n",
       "      <td>NaT</td>\n",
       "      <td>...</td>\n",
       "      <td>3000</td>\n",
       "      <td>70</td>\n",
       "      <td>7</td>\n",
       "      <td>0.01</td>\n",
       "      <td>0.01</td>\n",
       "      <td>ultimate</td>\n",
       "      <td>30.0</td>\n",
       "      <td>0.0</td>\n",
       "      <td>0.0</td>\n",
       "      <td>0.0</td>\n",
       "    </tr>\n",
       "    <tr>\n",
       "      <th>361</th>\n",
       "      <td>1077</td>\n",
       "      <td>Jan</td>\n",
       "      <td>290.0</td>\n",
       "      <td>42.0</td>\n",
       "      <td>37.0</td>\n",
       "      <td>11.0</td>\n",
       "      <td>Charlotte-Concord-Gastonia, NC-SC MSA</td>\n",
       "      <td>2018-01-14</td>\n",
       "      <td>ultimate</td>\n",
       "      <td>NaT</td>\n",
       "      <td>...</td>\n",
       "      <td>3000</td>\n",
       "      <td>70</td>\n",
       "      <td>7</td>\n",
       "      <td>0.01</td>\n",
       "      <td>0.01</td>\n",
       "      <td>ultimate</td>\n",
       "      <td>30.0</td>\n",
       "      <td>0.0</td>\n",
       "      <td>0.0</td>\n",
       "      <td>0.0</td>\n",
       "    </tr>\n",
       "    <tr>\n",
       "      <th>914</th>\n",
       "      <td>1196</td>\n",
       "      <td>Jan</td>\n",
       "      <td>287.0</td>\n",
       "      <td>42.0</td>\n",
       "      <td>23.0</td>\n",
       "      <td>9.0</td>\n",
       "      <td>Los Angeles-Long Beach-Anaheim, CA MSA</td>\n",
       "      <td>2018-01-14</td>\n",
       "      <td>ultimate</td>\n",
       "      <td>NaT</td>\n",
       "      <td>...</td>\n",
       "      <td>3000</td>\n",
       "      <td>70</td>\n",
       "      <td>7</td>\n",
       "      <td>0.01</td>\n",
       "      <td>0.01</td>\n",
       "      <td>ultimate</td>\n",
       "      <td>30.0</td>\n",
       "      <td>0.0</td>\n",
       "      <td>0.0</td>\n",
       "      <td>0.0</td>\n",
       "    </tr>\n",
       "    <tr>\n",
       "      <th>992</th>\n",
       "      <td>1214</td>\n",
       "      <td>Jan</td>\n",
       "      <td>16.0</td>\n",
       "      <td>5.0</td>\n",
       "      <td>2.0</td>\n",
       "      <td>2.0</td>\n",
       "      <td>San Francisco-Oakland-Berkeley, CA MSA</td>\n",
       "      <td>2018-01-01</td>\n",
       "      <td>ultimate</td>\n",
       "      <td>NaT</td>\n",
       "      <td>...</td>\n",
       "      <td>3000</td>\n",
       "      <td>70</td>\n",
       "      <td>7</td>\n",
       "      <td>0.01</td>\n",
       "      <td>0.01</td>\n",
       "      <td>ultimate</td>\n",
       "      <td>30.0</td>\n",
       "      <td>0.0</td>\n",
       "      <td>0.0</td>\n",
       "      <td>0.0</td>\n",
       "    </tr>\n",
       "  </tbody>\n",
       "</table>\n",
       "<p>5 rows × 23 columns</p>\n",
       "</div>"
      ],
      "text/plain": [
       "     user_id month_x  rounded_minutes_used  calls_made  number_of_texts  \\\n",
       "156     1042     Jan                 114.0        18.0              NaN   \n",
       "862     1185     Jan                 181.0        23.0              NaN   \n",
       "361     1077     Jan                 290.0        42.0             37.0   \n",
       "914     1196     Jan                 287.0        42.0             23.0   \n",
       "992     1214     Jan                  16.0         5.0              2.0   \n",
       "\n",
       "     volume_of_data_used                                             city  \\\n",
       "156                  2.0  Philadelphia-Camden-Wilmington, PA-NJ-DE-MD MSA   \n",
       "862                  7.0           Louisville/Jefferson County, KY-IN MSA   \n",
       "361                 11.0            Charlotte-Concord-Gastonia, NC-SC MSA   \n",
       "914                  9.0           Los Angeles-Long Beach-Anaheim, CA MSA   \n",
       "992                  2.0           San Francisco-Oakland-Berkeley, CA MSA   \n",
       "\n",
       "      reg_date      plan churn_date  ...  minutes_included  usd_monthly_fee  \\\n",
       "156 2018-01-15      surf        NaT  ...               500               20   \n",
       "862 2018-01-14  ultimate        NaT  ...              3000               70   \n",
       "361 2018-01-14  ultimate        NaT  ...              3000               70   \n",
       "914 2018-01-14  ultimate        NaT  ...              3000               70   \n",
       "992 2018-01-01  ultimate        NaT  ...              3000               70   \n",
       "\n",
       "     usd_per_gb  usd_per_message  usd_per_minute  plan_name  \\\n",
       "156          10             0.03            0.03       surf   \n",
       "862           7             0.01            0.01   ultimate   \n",
       "361           7             0.01            0.01   ultimate   \n",
       "914           7             0.01            0.01   ultimate   \n",
       "992           7             0.01            0.01   ultimate   \n",
       "\n",
       "     gb_per_month_included  extra_calls extra_messages  extra_data  \n",
       "156                   15.0          0.0            0.0         0.0  \n",
       "862                   30.0          0.0            0.0         0.0  \n",
       "361                   30.0          0.0            0.0         0.0  \n",
       "914                   30.0          0.0            0.0         0.0  \n",
       "992                   30.0          0.0            0.0         0.0  \n",
       "\n",
       "[5 rows x 23 columns]"
      ]
     },
     "execution_count": 67,
     "metadata": {},
     "output_type": "execute_result"
    }
   ],
   "source": [
    "usage_table.head()"
   ]
  },
  {
   "cell_type": "code",
   "execution_count": 68,
   "metadata": {
    "scrolled": true
   },
   "outputs": [],
   "source": [
    "usage_table['monthly_revenue'] = (\n",
    "    usage_table['usd_monthly_fee'] +\n",
    "    usage_table['extra_calls'] +\n",
    "    usage_table['extra_messages'] +\n",
    "    usage_table['extra_data']\n",
    ")\n",
    "mr_pivot_table = pd.pivot_table(\n",
    "    usage_table,\n",
    "    values='monthly_revenue',\n",
    "    index=['usd_monthly_fee', 'extra_calls', 'extra_messages', 'extra_data'],\n",
    ").reset_index()\n"
   ]
  },
  {
   "cell_type": "code",
   "execution_count": 69,
   "metadata": {},
   "outputs": [
    {
     "data": {
      "text/html": [
       "<div>\n",
       "<style scoped>\n",
       "    .dataframe tbody tr th:only-of-type {\n",
       "        vertical-align: middle;\n",
       "    }\n",
       "\n",
       "    .dataframe tbody tr th {\n",
       "        vertical-align: top;\n",
       "    }\n",
       "\n",
       "    .dataframe thead th {\n",
       "        text-align: right;\n",
       "    }\n",
       "</style>\n",
       "<table border=\"1\" class=\"dataframe\">\n",
       "  <thead>\n",
       "    <tr style=\"text-align: right;\">\n",
       "      <th></th>\n",
       "      <th>user_id</th>\n",
       "      <th>month_x</th>\n",
       "      <th>rounded_minutes_used</th>\n",
       "      <th>calls_made</th>\n",
       "      <th>number_of_texts</th>\n",
       "      <th>volume_of_data_used</th>\n",
       "      <th>city</th>\n",
       "      <th>reg_date</th>\n",
       "      <th>plan</th>\n",
       "      <th>churn_date</th>\n",
       "      <th>...</th>\n",
       "      <th>usd_monthly_fee</th>\n",
       "      <th>usd_per_gb</th>\n",
       "      <th>usd_per_message</th>\n",
       "      <th>usd_per_minute</th>\n",
       "      <th>plan_name</th>\n",
       "      <th>gb_per_month_included</th>\n",
       "      <th>extra_calls</th>\n",
       "      <th>extra_messages</th>\n",
       "      <th>extra_data</th>\n",
       "      <th>monthly_revenue</th>\n",
       "    </tr>\n",
       "  </thead>\n",
       "  <tbody>\n",
       "    <tr>\n",
       "      <th>0</th>\n",
       "      <td>1042</td>\n",
       "      <td>Jan</td>\n",
       "      <td>114.0</td>\n",
       "      <td>18.0</td>\n",
       "      <td>NaN</td>\n",
       "      <td>2.0</td>\n",
       "      <td>Philadelphia-Camden-Wilmington, PA-NJ-DE-MD MSA</td>\n",
       "      <td>2018-01-15</td>\n",
       "      <td>surf</td>\n",
       "      <td>NaT</td>\n",
       "      <td>...</td>\n",
       "      <td>20</td>\n",
       "      <td>10</td>\n",
       "      <td>0.03</td>\n",
       "      <td>0.03</td>\n",
       "      <td>surf</td>\n",
       "      <td>15.0</td>\n",
       "      <td>0.0</td>\n",
       "      <td>0.0</td>\n",
       "      <td>0.0</td>\n",
       "      <td>20.0</td>\n",
       "    </tr>\n",
       "    <tr>\n",
       "      <th>1</th>\n",
       "      <td>1185</td>\n",
       "      <td>Jan</td>\n",
       "      <td>181.0</td>\n",
       "      <td>23.0</td>\n",
       "      <td>NaN</td>\n",
       "      <td>7.0</td>\n",
       "      <td>Louisville/Jefferson County, KY-IN MSA</td>\n",
       "      <td>2018-01-14</td>\n",
       "      <td>ultimate</td>\n",
       "      <td>NaT</td>\n",
       "      <td>...</td>\n",
       "      <td>70</td>\n",
       "      <td>7</td>\n",
       "      <td>0.01</td>\n",
       "      <td>0.01</td>\n",
       "      <td>ultimate</td>\n",
       "      <td>30.0</td>\n",
       "      <td>0.0</td>\n",
       "      <td>0.0</td>\n",
       "      <td>0.0</td>\n",
       "      <td>70.0</td>\n",
       "    </tr>\n",
       "    <tr>\n",
       "      <th>2</th>\n",
       "      <td>1077</td>\n",
       "      <td>Jan</td>\n",
       "      <td>290.0</td>\n",
       "      <td>42.0</td>\n",
       "      <td>37.0</td>\n",
       "      <td>11.0</td>\n",
       "      <td>Charlotte-Concord-Gastonia, NC-SC MSA</td>\n",
       "      <td>2018-01-14</td>\n",
       "      <td>ultimate</td>\n",
       "      <td>NaT</td>\n",
       "      <td>...</td>\n",
       "      <td>70</td>\n",
       "      <td>7</td>\n",
       "      <td>0.01</td>\n",
       "      <td>0.01</td>\n",
       "      <td>ultimate</td>\n",
       "      <td>30.0</td>\n",
       "      <td>0.0</td>\n",
       "      <td>0.0</td>\n",
       "      <td>0.0</td>\n",
       "      <td>70.0</td>\n",
       "    </tr>\n",
       "    <tr>\n",
       "      <th>3</th>\n",
       "      <td>1196</td>\n",
       "      <td>Jan</td>\n",
       "      <td>287.0</td>\n",
       "      <td>42.0</td>\n",
       "      <td>23.0</td>\n",
       "      <td>9.0</td>\n",
       "      <td>Los Angeles-Long Beach-Anaheim, CA MSA</td>\n",
       "      <td>2018-01-14</td>\n",
       "      <td>ultimate</td>\n",
       "      <td>NaT</td>\n",
       "      <td>...</td>\n",
       "      <td>70</td>\n",
       "      <td>7</td>\n",
       "      <td>0.01</td>\n",
       "      <td>0.01</td>\n",
       "      <td>ultimate</td>\n",
       "      <td>30.0</td>\n",
       "      <td>0.0</td>\n",
       "      <td>0.0</td>\n",
       "      <td>0.0</td>\n",
       "      <td>70.0</td>\n",
       "    </tr>\n",
       "    <tr>\n",
       "      <th>4</th>\n",
       "      <td>1214</td>\n",
       "      <td>Jan</td>\n",
       "      <td>16.0</td>\n",
       "      <td>5.0</td>\n",
       "      <td>2.0</td>\n",
       "      <td>2.0</td>\n",
       "      <td>San Francisco-Oakland-Berkeley, CA MSA</td>\n",
       "      <td>2018-01-01</td>\n",
       "      <td>ultimate</td>\n",
       "      <td>NaT</td>\n",
       "      <td>...</td>\n",
       "      <td>70</td>\n",
       "      <td>7</td>\n",
       "      <td>0.01</td>\n",
       "      <td>0.01</td>\n",
       "      <td>ultimate</td>\n",
       "      <td>30.0</td>\n",
       "      <td>0.0</td>\n",
       "      <td>0.0</td>\n",
       "      <td>0.0</td>\n",
       "      <td>70.0</td>\n",
       "    </tr>\n",
       "  </tbody>\n",
       "</table>\n",
       "<p>5 rows × 24 columns</p>\n",
       "</div>"
      ],
      "text/plain": [
       "   user_id month_x  rounded_minutes_used  calls_made  number_of_texts  \\\n",
       "0     1042     Jan                 114.0        18.0              NaN   \n",
       "1     1185     Jan                 181.0        23.0              NaN   \n",
       "2     1077     Jan                 290.0        42.0             37.0   \n",
       "3     1196     Jan                 287.0        42.0             23.0   \n",
       "4     1214     Jan                  16.0         5.0              2.0   \n",
       "\n",
       "   volume_of_data_used                                             city  \\\n",
       "0                  2.0  Philadelphia-Camden-Wilmington, PA-NJ-DE-MD MSA   \n",
       "1                  7.0           Louisville/Jefferson County, KY-IN MSA   \n",
       "2                 11.0            Charlotte-Concord-Gastonia, NC-SC MSA   \n",
       "3                  9.0           Los Angeles-Long Beach-Anaheim, CA MSA   \n",
       "4                  2.0           San Francisco-Oakland-Berkeley, CA MSA   \n",
       "\n",
       "    reg_date      plan churn_date  ...  usd_monthly_fee  usd_per_gb  \\\n",
       "0 2018-01-15      surf        NaT  ...               20          10   \n",
       "1 2018-01-14  ultimate        NaT  ...               70           7   \n",
       "2 2018-01-14  ultimate        NaT  ...               70           7   \n",
       "3 2018-01-14  ultimate        NaT  ...               70           7   \n",
       "4 2018-01-01  ultimate        NaT  ...               70           7   \n",
       "\n",
       "   usd_per_message  usd_per_minute  plan_name  gb_per_month_included  \\\n",
       "0             0.03            0.03       surf                   15.0   \n",
       "1             0.01            0.01   ultimate                   30.0   \n",
       "2             0.01            0.01   ultimate                   30.0   \n",
       "3             0.01            0.01   ultimate                   30.0   \n",
       "4             0.01            0.01   ultimate                   30.0   \n",
       "\n",
       "   extra_calls  extra_messages extra_data  monthly_revenue  \n",
       "0          0.0             0.0        0.0             20.0  \n",
       "1          0.0             0.0        0.0             70.0  \n",
       "2          0.0             0.0        0.0             70.0  \n",
       "3          0.0             0.0        0.0             70.0  \n",
       "4          0.0             0.0        0.0             70.0  \n",
       "\n",
       "[5 rows x 24 columns]"
      ]
     },
     "execution_count": 69,
     "metadata": {},
     "output_type": "execute_result"
    }
   ],
   "source": [
    "usage_table = pd.merge(usage_table, mr_pivot_table, on=['usd_monthly_fee', 'extra_calls', 'extra_messages', 'extra_data'], how='left')\n",
    "usage_table = usage_table.drop(['monthly_revenue_x'], axis=1).rename(columns={'monthly_revenue_y': 'monthly_revenue'})\n",
    "usage_table.head()"
   ]
  },
  {
   "cell_type": "code",
   "execution_count": 70,
   "metadata": {},
   "outputs": [
    {
     "data": {
      "text/html": [
       "<div>\n",
       "<style scoped>\n",
       "    .dataframe tbody tr th:only-of-type {\n",
       "        vertical-align: middle;\n",
       "    }\n",
       "\n",
       "    .dataframe tbody tr th {\n",
       "        vertical-align: top;\n",
       "    }\n",
       "\n",
       "    .dataframe thead th {\n",
       "        text-align: right;\n",
       "    }\n",
       "</style>\n",
       "<table border=\"1\" class=\"dataframe\">\n",
       "  <thead>\n",
       "    <tr style=\"text-align: right;\">\n",
       "      <th>plan_name</th>\n",
       "      <th>surf</th>\n",
       "      <th>ultimate</th>\n",
       "    </tr>\n",
       "    <tr>\n",
       "      <th>month_x</th>\n",
       "      <th></th>\n",
       "      <th></th>\n",
       "    </tr>\n",
       "  </thead>\n",
       "  <tbody>\n",
       "    <tr>\n",
       "      <th>Jan</th>\n",
       "      <td>20.000000</td>\n",
       "      <td>70.000000</td>\n",
       "    </tr>\n",
       "    <tr>\n",
       "      <th>Feb</th>\n",
       "      <td>34.396667</td>\n",
       "      <td>70.000000</td>\n",
       "    </tr>\n",
       "    <tr>\n",
       "      <th>Mar</th>\n",
       "      <td>45.941304</td>\n",
       "      <td>74.666667</td>\n",
       "    </tr>\n",
       "    <tr>\n",
       "      <th>Apr</th>\n",
       "      <td>40.710600</td>\n",
       "      <td>73.000000</td>\n",
       "    </tr>\n",
       "    <tr>\n",
       "      <th>May</th>\n",
       "      <td>47.628182</td>\n",
       "      <td>70.724138</td>\n",
       "    </tr>\n",
       "    <tr>\n",
       "      <th>Jun</th>\n",
       "      <td>49.276289</td>\n",
       "      <td>71.638298</td>\n",
       "    </tr>\n",
       "    <tr>\n",
       "      <th>Jul</th>\n",
       "      <td>62.674050</td>\n",
       "      <td>71.898305</td>\n",
       "    </tr>\n",
       "    <tr>\n",
       "      <th>Aug</th>\n",
       "      <td>63.931173</td>\n",
       "      <td>72.859155</td>\n",
       "    </tr>\n",
       "    <tr>\n",
       "      <th>Sep</th>\n",
       "      <td>58.271495</td>\n",
       "      <td>72.034884</td>\n",
       "    </tr>\n",
       "    <tr>\n",
       "      <th>Oct</th>\n",
       "      <td>65.421224</td>\n",
       "      <td>72.311321</td>\n",
       "    </tr>\n",
       "    <tr>\n",
       "      <th>Nov</th>\n",
       "      <td>58.004276</td>\n",
       "      <td>71.708661</td>\n",
       "    </tr>\n",
       "    <tr>\n",
       "      <th>Dec</th>\n",
       "      <td>70.557044</td>\n",
       "      <td>73.291391</td>\n",
       "    </tr>\n",
       "  </tbody>\n",
       "</table>\n",
       "</div>"
      ],
      "text/plain": [
       "plan_name       surf   ultimate\n",
       "month_x                        \n",
       "Jan        20.000000  70.000000\n",
       "Feb        34.396667  70.000000\n",
       "Mar        45.941304  74.666667\n",
       "Apr        40.710600  73.000000\n",
       "May        47.628182  70.724138\n",
       "Jun        49.276289  71.638298\n",
       "Jul        62.674050  71.898305\n",
       "Aug        63.931173  72.859155\n",
       "Sep        58.271495  72.034884\n",
       "Oct        65.421224  72.311321\n",
       "Nov        58.004276  71.708661\n",
       "Dec        70.557044  73.291391"
      ]
     },
     "execution_count": 70,
     "metadata": {},
     "output_type": "execute_result"
    }
   ],
   "source": [
    "mean_revenue = usage_table.pivot_table(index='month_x', columns='plan_name', aggfunc='mean', values='monthly_revenue')\n",
    "mean_revenue"
   ]
  },
  {
   "cell_type": "code",
   "execution_count": 71,
   "metadata": {
    "scrolled": false
   },
   "outputs": [
    {
     "data": {
      "image/png": "[encoded data removed]",
      "text/plain": [
       "<Figure size 1152x576 with 1 Axes>"
      ]
     },
     "metadata": {
      "needs_background": "light"
     },
     "output_type": "display_data"
    }
   ],
   "source": [
    "mean_revenue.plot.bar(figsize=(16,8),rot = 0,color=['Green', 'Orange'])\n",
    "\n",
    "\n",
    "plt.title('Ingreso mensual promedio por plan')\n",
    "plt.ylabel('Cantidad en USD')\n",
    "plt.xlabel('Meses')\n",
    "\n",
    "plt.show()"
   ]
  },
  {
   "cell_type": "code",
   "execution_count": 72,
   "metadata": {
    "scrolled": true
   },
   "outputs": [
    {
     "data": {
      "image/png": "[encoded data removed]",
      "text/plain": [
       "<Figure size 1152x576 with 1 Axes>"
      ]
     },
     "metadata": {
      "needs_background": "light"
     },
     "output_type": "display_data"
    }
   ],
   "source": [
    "#Histograma para comparar la distribucion de ingreso de las dos tarifas\n",
    "surf_revenue = usage_table.loc[usage_table['plan'] == 'surf', 'monthly_revenue']\n",
    "ultimate_revenue = usage_table.loc[usage_table['plan'] == 'ultimate', 'monthly_revenue']\n",
    "\n",
    "plt.figure(figsize=(16, 8))\n",
    "plt.hist(surf_revenue, alpha=0.5, label='surf')\n",
    "plt.hist(ultimate_revenue, alpha=0.5, label='ultimate')\n",
    "\n",
    "\n",
    "plt.xlabel('Ingreso')\n",
    "plt.ylabel('Frecuencia')\n",
    "plt.title('Distribucion de Ingreso Mensual por Tarifa')\n",
    "\n",
    "plt.legend()\n",
    "\n",
    "plt.show()"
   ]
  },
  {
   "cell_type": "code",
   "execution_count": 73,
   "metadata": {
    "id": "0Y1v8ZUz0q1P",
    "scrolled": true
   },
   "outputs": [
    {
     "data": {
      "text/html": [
       "<div>\n",
       "<style scoped>\n",
       "    .dataframe tbody tr th:only-of-type {\n",
       "        vertical-align: middle;\n",
       "    }\n",
       "\n",
       "    .dataframe tbody tr th {\n",
       "        vertical-align: top;\n",
       "    }\n",
       "\n",
       "    .dataframe thead th {\n",
       "        text-align: right;\n",
       "    }\n",
       "</style>\n",
       "<table border=\"1\" class=\"dataframe\">\n",
       "  <thead>\n",
       "    <tr style=\"text-align: right;\">\n",
       "      <th></th>\n",
       "      <th>mean_monthly_revenue</th>\n",
       "      <th>var_monthly_revenue</th>\n",
       "    </tr>\n",
       "    <tr>\n",
       "      <th>plan_name</th>\n",
       "      <th></th>\n",
       "      <th></th>\n",
       "    </tr>\n",
       "  </thead>\n",
       "  <tbody>\n",
       "    <tr>\n",
       "      <th>surf</th>\n",
       "      <td>60.706408</td>\n",
       "      <td>3067.835152</td>\n",
       "    </tr>\n",
       "    <tr>\n",
       "      <th>ultimate</th>\n",
       "      <td>72.313889</td>\n",
       "      <td>129.848486</td>\n",
       "    </tr>\n",
       "  </tbody>\n",
       "</table>\n",
       "</div>"
      ],
      "text/plain": [
       "           mean_monthly_revenue  var_monthly_revenue\n",
       "plan_name                                           \n",
       "surf                  60.706408          3067.835152\n",
       "ultimate              72.313889           129.848486"
      ]
     },
     "execution_count": 73,
     "metadata": {},
     "output_type": "execute_result"
    }
   ],
   "source": [
    "# Calcular media y varianza para ingreso mensual por plan\n",
    "monthly_revenue_stats = usage_table.pivot_table(index='plan_name', values='monthly_revenue', aggfunc=['mean', 'var'])\n",
    "monthly_revenue_stats.columns = ['mean_monthly_revenue', 'var_monthly_revenue']\n",
    "monthly_revenue_stats"
   ]
  },
  {
   "cell_type": "code",
   "execution_count": 74,
   "metadata": {},
   "outputs": [
    {
     "data": {
      "text/plain": [
       "count    1573.000000\n",
       "mean       60.706408\n",
       "std        55.388042\n",
       "min        20.000000\n",
       "25%        20.000000\n",
       "50%        40.360000\n",
       "75%        80.360000\n",
       "max       590.370000\n",
       "Name: monthly_revenue, dtype: float64"
      ]
     },
     "execution_count": 74,
     "metadata": {},
     "output_type": "execute_result"
    }
   ],
   "source": [
    "surf_user_rev_f =  usage_table[usage_table['plan_name'] == 'surf']\n",
    "ultimate_user_rev_f =  usage_table[usage_table['plan_name'] == 'ultimate']\n",
    "\n",
    "surf_user_rev_f['monthly_revenue'].describe()"
   ]
  },
  {
   "cell_type": "code",
   "execution_count": 75,
   "metadata": {},
   "outputs": [
    {
     "data": {
      "text/plain": [
       "count    720.000000\n",
       "mean      72.313889\n",
       "std       11.395108\n",
       "min       70.000000\n",
       "25%       70.000000\n",
       "50%       70.000000\n",
       "75%       70.000000\n",
       "max      182.000000\n",
       "Name: monthly_revenue, dtype: float64"
      ]
     },
     "execution_count": 75,
     "metadata": {},
     "output_type": "execute_result"
    }
   ],
   "source": [
    "ultimate_user_rev_f =  usage_table[usage_table['plan_name'] == 'surf']\n",
    "ultimate_user_rev_f =  usage_table[usage_table['plan_name'] == 'ultimate']\n",
    "\n",
    "ultimate_user_rev_f['monthly_revenue'].describe()"
   ]
  },
  {
   "cell_type": "markdown",
   "metadata": {
    "id": "KAFidcXZ0q1P"
   },
   "source": [
    "\n",
    "**Conclusiones Ingresos**\n",
    "\n",
    "*Los ingresos promedio del plan Ultimate tienden a ser mas altos que los del plan Surf en todos los meses.\n",
    "\n",
    "*Existe una tendencia general de aumento de los ingresos a lo largo del tiempo para ambos planes, observandose mayores ingresos en el ultimo cuarto del año.\n",
    "\n",
    "*La varianza en los ingresos mensuales de Surf es significativamente mayor que la de Ultimate, lo que indica que hay mas variabilidad en los ingresos mensuales del plan Surf en comparacion con la tarifa Ultimate.\n",
    "*El ingreso mensual promedio de los usuarios del plan Surf es de USD 60.71\n",
    "\n",
    "*El ingreso mensual maximo es de USD 590.37. Esto indica que algunos usuarios del plan Surf pagaron una cantidad mucho mayor, posiblemente debido a cargos adicionales.\n",
    "\n",
    "*Hay valores atipicos en la distribucion, siendo USD 590.37 el maximo\n",
    "\n"
   ]
  },
  {
   "cell_type": "markdown",
   "metadata": {
    "id": "ajJ7VKeI0q1Q"
   },
   "source": [
    "## Prueba las hipótesis estadísticas"
   ]
  },
  {
   "cell_type": "markdown",
   "metadata": {
    "id": "IQwa_hsh0q1Q"
   },
   "source": [
    "**Hipótesis nula: Los ingresos promedio procedentes de los usarios de los planes de llamada Ultimate y Surf son iguales.**\n",
    "\n",
    "**Hipótesis alternativa: Los ingresos promedio procedentes de los usarios de los planes de llamada Ultimate y Surf varian.** "
   ]
  },
  {
   "cell_type": "code",
   "execution_count": 76,
   "metadata": {
    "id": "nFoPNlPq0q1R"
   },
   "outputs": [],
   "source": [
    "# Ingreso promedio por plan\n",
    "surf_user_consumption_per_month = usage_table[usage_table['plan_name'] == 'surf']\n",
    "ultimate_user_consumption_per_month = usage_table[usage_table['plan_name'] == 'ultimate']\n",
    "\n",
    "surf_mean_user_revenue = surf_user_consumption_per_month.groupby(['plan_name', 'user_id'])['monthly_revenue'].mean()\n",
    "ultimate_mean_user_revenue = ultimate_user_consumption_per_month.groupby(['plan_name', 'user_id'])['monthly_revenue'].mean()\n"
   ]
  },
  {
   "cell_type": "code",
   "execution_count": 77,
   "metadata": {},
   "outputs": [
    {
     "data": {
      "text/plain": [
       "'p-value:'"
      ]
     },
     "metadata": {},
     "output_type": "display_data"
    },
    {
     "data": {
      "text/plain": [
       "0.00011355294752235661"
      ]
     },
     "metadata": {},
     "output_type": "display_data"
    },
    {
     "data": {
      "text/plain": [
       "'Rechazamos la hipótesis nula '"
      ]
     },
     "metadata": {},
     "output_type": "display_data"
    }
   ],
   "source": [
    "# Prueba las hipótesis\n",
    "alpha = 0.05 # significance level\n",
    "\n",
    "results = st.ttest_ind(surf_mean_user_revenue, ultimate_mean_user_revenue)\n",
    "\n",
    "display('p-value:', results.pvalue)\n",
    "\n",
    "if (results.pvalue < alpha):\n",
    "    display(\"Rechazamos la hipótesis nula \")\n",
    "else:\n",
    "    display(\"No se puede rechazar la hipótesis nula\")"
   ]
  },
  {
   "cell_type": "markdown",
   "metadata": {},
   "source": [
    "Podemos rechazar la hipotesis nula que estipula que ingresos promedio procedentes de los usarios de los planes de llamada Ultimate y Surf son iguales. Se puede determinar que hay una difencia significativa entre los ingresos promedio de los planes Surf y Ultimate."
   ]
  },
  {
   "cell_type": "markdown",
   "metadata": {
    "id": "tCcAruM60q1R"
   },
   "source": [
    "[Prueba la hipótesis de que el ingreso promedio de los usuarios del área NY-NJ es diferente al de los usuarios de otras regiones.]"
   ]
  },
  {
   "cell_type": "markdown",
   "metadata": {
    "id": "LsBgitqj0q1R"
   },
   "source": [
    "**Hipótesis nula: El ingreso promedio de los usuarios del área NY-NJ es igual al de los usuarios de otras regiones.** \n",
    "\n",
    "\n",
    "**Hipótesis alternativa: El ingreso promedio de los usuarios del área NY-NJ es diferente al de los usuarios de otras regiones**\n"
   ]
  },
  {
   "cell_type": "code",
   "execution_count": 78,
   "metadata": {
    "id": "Cqcj7wrZ0q1S"
   },
   "outputs": [],
   "source": [
    "ny_nj_revenue = usage_table.loc[usage_table[\"city\"] == \"New York-Newark-Jersey City, NY-NJ-PA MSA\", \"monthly_revenue\"]\n",
    "other_revenue = usage_table.loc[usage_table[\"city\"] != \"NY-NJ\", \"monthly_revenue\"]"
   ]
  },
  {
   "cell_type": "code",
   "execution_count": 79,
   "metadata": {
    "scrolled": true
   },
   "outputs": [
    {
     "data": {
      "text/plain": [
       "'p-value:'"
      ]
     },
     "metadata": {},
     "output_type": "display_data"
    },
    {
     "data": {
      "text/plain": [
       "0.07054170477550269"
      ]
     },
     "metadata": {},
     "output_type": "display_data"
    },
    {
     "data": {
      "text/plain": [
       "'No se puede rechazar la hipótesis nula'"
      ]
     },
     "metadata": {},
     "output_type": "display_data"
    }
   ],
   "source": [
    "# Prueba las hipótesis\n",
    "\n",
    "alpha = 0.05\n",
    "results = st.ttest_ind(ny_nj_revenue, other_revenue, equal_var=False)\n",
    "\n",
    "# Display results\n",
    "display('p-value:', results.pvalue)\n",
    "if results.pvalue < alpha:\n",
    "    display(\"Rechazamos la hipótesis nula\")\n",
    "else:\n",
    "    display(\"No se puede rechazar la hipótesis nula\")\n"
   ]
  },
  {
   "cell_type": "markdown",
   "metadata": {},
   "source": [
    "Debido a que el p-value obtenido es mayor que el nivel de signicancia, por lo que la hipotesis nula no se puede rechazar. Esto quiere decir que el ingreso promedio de los usuarios en el area de NY-NJ es igual al de las otras regiones."
   ]
  },
  {
   "cell_type": "markdown",
   "metadata": {
    "id": "bbTR8UQO0q1T"
   },
   "source": [
    "## Conclusión general\n",
    "\n",
    "\n",
    "*Los clientes del plan Ultimate tienden a tener una duración promedio de llamadas más larga que los del plan Surf.\n",
    "\n",
    "*Ambos planes muestran una tendencia general de aumento de la duración promedio de las llamadas de enero a diciembre, lo que podría indicar un efecto estacional o una tendencia en el comportamiento de los clientes.\n",
    "\n",
    "*La distribución de la duración de las llamadas mensuales para los usuarios del plan Surf está sesgada positiva o ligeramente a la derecha. La mayoría de los usuarios del plan Surf (50%) realizan llamadas de menos de 430 minutos al mes, mientras que algunos usuarios realizan llamadas muy largas, hasta un máximo de 1510 minutos al mes.\n",
    "\n",
    "*Los usuarios del plan Ultimate, en promedio, envían más mensajes que los usuarios del plan Surf.\n",
    "\n",
    "*En promedio, los usuarios del plan Ultimate consumen más datos de Internet que los usuarios del plan de navegación.\n",
    "\n",
    "*La diferencia en las medias de los ingresos generados por el surf y los planes finales difieren significativamente.\n",
    "\n",
    "*Los ingresos medios generados por los usuarios en el área NY-NJ no difieren significativamente de los ingresos medios generados por los usuarios en otras regiones.\n",
    "\n"
   ]
  }
 ],
 "metadata": {
  "ExecuteTimeLog": [
   {
    "duration": 828,
    "start_time": "2021-11-16T09:21:11.304Z"
   },
   {
    "duration": 893,
    "start_time": "2021-11-16T09:21:17.728Z"
   },
   {
    "duration": 1150,
    "start_time": "2021-11-16T09:21:29.568Z"
   },
   {
    "duration": 3,
    "start_time": "2021-11-16T09:24:14.495Z"
   },
   {
    "duration": 120,
    "start_time": "2021-11-16T09:24:46.630Z"
   },
   {
    "duration": 3,
    "start_time": "2021-11-16T09:28:27.882Z"
   },
   {
    "duration": 4,
    "start_time": "2021-11-16T09:29:54.281Z"
   },
   {
    "duration": 3,
    "start_time": "2021-11-16T09:30:45.936Z"
   },
   {
    "duration": 4,
    "start_time": "2021-11-16T09:31:06.300Z"
   },
   {
    "duration": 113,
    "start_time": "2021-11-16T09:31:37.208Z"
   },
   {
    "duration": 143,
    "start_time": "2021-11-16T09:31:48.656Z"
   },
   {
    "duration": 98,
    "start_time": "2021-11-16T09:31:55.678Z"
   },
   {
    "duration": 3,
    "start_time": "2021-11-16T09:32:08.535Z"
   },
   {
    "duration": 111,
    "start_time": "2021-11-16T09:32:10.120Z"
   },
   {
    "duration": 3,
    "start_time": "2021-11-16T09:32:15.732Z"
   },
   {
    "duration": 4,
    "start_time": "2021-11-16T09:32:29.423Z"
   },
   {
    "duration": 3,
    "start_time": "2021-11-16T10:03:03.074Z"
   },
   {
    "duration": 3,
    "start_time": "2021-11-16T10:10:01.288Z"
   },
   {
    "duration": 3,
    "start_time": "2021-11-16T10:10:46.923Z"
   },
   {
    "duration": 121,
    "start_time": "2021-11-16T10:37:46.494Z"
   },
   {
    "duration": 125,
    "start_time": "2021-11-16T10:38:20.632Z"
   },
   {
    "duration": 112,
    "start_time": "2021-11-16T10:46:53.001Z"
   },
   {
    "duration": 110,
    "start_time": "2021-11-16T10:48:25.775Z"
   },
   {
    "duration": 3,
    "start_time": "2021-11-16T10:50:18.720Z"
   },
   {
    "duration": 4,
    "start_time": "2021-11-16T10:50:37.649Z"
   },
   {
    "duration": 2,
    "start_time": "2021-11-16T10:50:51.884Z"
   },
   {
    "duration": 3,
    "start_time": "2021-11-16T10:51:56.237Z"
   },
   {
    "duration": 101,
    "start_time": "2021-11-16T10:53:13.791Z"
   },
   {
    "duration": 3,
    "start_time": "2021-11-16T10:55:59.186Z"
   },
   {
    "duration": 3,
    "start_time": "2021-11-16T10:56:10.751Z"
   },
   {
    "duration": 3,
    "start_time": "2021-11-16T10:56:49.038Z"
   },
   {
    "duration": 3,
    "start_time": "2021-11-16T10:56:49.174Z"
   },
   {
    "duration": 4,
    "start_time": "2021-11-16T10:56:49.414Z"
   },
   {
    "duration": 3,
    "start_time": "2021-11-16T10:56:49.680Z"
   },
   {
    "duration": 3,
    "start_time": "2021-11-16T10:56:50.370Z"
   },
   {
    "duration": 114,
    "start_time": "2021-11-16T10:59:34.518Z"
   },
   {
    "duration": 3,
    "start_time": "2021-11-16T11:01:41.201Z"
   },
   {
    "duration": 116,
    "start_time": "2021-11-16T11:01:48.754Z"
   },
   {
    "duration": 3,
    "start_time": "2021-11-16T11:02:16.685Z"
   },
   {
    "duration": 3,
    "start_time": "2021-11-16T11:02:19.479Z"
   },
   {
    "duration": 3,
    "start_time": "2021-11-16T11:02:47.067Z"
   },
   {
    "duration": 3,
    "start_time": "2021-11-16T11:02:49.353Z"
   },
   {
    "duration": 3,
    "start_time": "2021-11-16T11:03:07.835Z"
   },
   {
    "duration": 3,
    "start_time": "2021-11-16T11:03:07.953Z"
   },
   {
    "duration": 112,
    "start_time": "2021-11-16T11:07:52.072Z"
   },
   {
    "duration": 187,
    "start_time": "2021-11-16T11:09:23.468Z"
   },
   {
    "duration": 4,
    "start_time": "2021-11-16T11:10:01.455Z"
   },
   {
    "duration": 3,
    "start_time": "2021-11-16T11:10:05.069Z"
   },
   {
    "duration": 4,
    "start_time": "2021-11-16T11:10:13.376Z"
   },
   {
    "duration": 3,
    "start_time": "2021-11-16T11:10:14.434Z"
   },
   {
    "duration": 3,
    "start_time": "2021-11-16T11:10:22.853Z"
   },
   {
    "duration": 4,
    "start_time": "2021-11-16T11:27:29.279Z"
   },
   {
    "duration": 4,
    "start_time": "2021-11-16T11:29:08.919Z"
   },
   {
    "duration": 118,
    "start_time": "2021-11-16T11:29:46.703Z"
   },
   {
    "duration": 437,
    "start_time": "2021-11-16T11:36:02.181Z"
   },
   {
    "duration": 157,
    "start_time": "2021-11-16T11:36:14.388Z"
   },
   {
    "duration": 207,
    "start_time": "2021-11-16T11:47:15.898Z"
   },
   {
    "duration": 3,
    "start_time": "2021-11-16T11:53:52.092Z"
   },
   {
    "duration": 3,
    "start_time": "2021-11-16T11:53:52.236Z"
   },
   {
    "duration": 3,
    "start_time": "2021-11-16T11:59:12.005Z"
   },
   {
    "duration": 112,
    "start_time": "2021-11-16T12:00:33.446Z"
   },
   {
    "duration": 3,
    "start_time": "2021-11-16T12:02:14.453Z"
   },
   {
    "duration": 3,
    "start_time": "2021-11-16T12:02:39.512Z"
   },
   {
    "duration": 106,
    "start_time": "2021-11-16T12:03:03.460Z"
   },
   {
    "duration": 3,
    "start_time": "2021-11-17T20:37:21.139Z"
   },
   {
    "duration": 3,
    "start_time": "2021-11-17T20:37:22.229Z"
   },
   {
    "duration": 3,
    "start_time": "2021-11-17T20:38:38.806Z"
   },
   {
    "duration": 3,
    "start_time": "2021-11-17T20:38:41.958Z"
   },
   {
    "duration": 3,
    "start_time": "2021-11-17T20:43:46.551Z"
   },
   {
    "duration": 4,
    "start_time": "2021-11-17T20:58:21.835Z"
   },
   {
    "duration": 3,
    "start_time": "2021-11-17T20:59:21.872Z"
   },
   {
    "duration": 4,
    "start_time": "2021-11-17T20:59:45.352Z"
   },
   {
    "duration": 4,
    "start_time": "2021-11-17T20:59:49.646Z"
   },
   {
    "duration": 159,
    "start_time": "2021-11-17T21:02:26.949Z"
   },
   {
    "duration": 3,
    "start_time": "2021-11-17T21:03:53.461Z"
   },
   {
    "duration": 3,
    "start_time": "2021-11-17T21:03:53.694Z"
   },
   {
    "duration": 3,
    "start_time": "2021-11-17T21:05:28.145Z"
   },
   {
    "duration": 116,
    "start_time": "2021-11-17T21:05:57.787Z"
   },
   {
    "duration": 3,
    "start_time": "2021-11-17T21:06:37.993Z"
   },
   {
    "duration": 3,
    "start_time": "2021-11-17T21:06:38.261Z"
   },
   {
    "duration": 3,
    "start_time": "2021-11-17T21:11:54.358Z"
   },
   {
    "duration": 3,
    "start_time": "2021-11-17T21:12:43.846Z"
   },
   {
    "duration": 4,
    "start_time": "2021-11-17T21:13:08.773Z"
   },
   {
    "duration": 3,
    "start_time": "2021-11-17T21:14:44.441Z"
   },
   {
    "duration": 3,
    "start_time": "2021-11-17T21:15:42.059Z"
   },
   {
    "duration": 4,
    "start_time": "2021-11-17T21:15:51.995Z"
   },
   {
    "duration": 3,
    "start_time": "2021-11-17T21:15:53.923Z"
   },
   {
    "duration": 3,
    "start_time": "2021-11-17T21:15:55.282Z"
   },
   {
    "duration": 3,
    "start_time": "2021-11-17T21:16:28.492Z"
   },
   {
    "duration": 3,
    "start_time": "2021-11-17T21:16:32.603Z"
   },
   {
    "duration": 3,
    "start_time": "2021-11-17T21:17:06.941Z"
   },
   {
    "duration": 98,
    "start_time": "2021-11-17T21:18:05.733Z"
   },
   {
    "duration": 4,
    "start_time": "2021-11-17T21:21:35.255Z"
   },
   {
    "duration": 3,
    "start_time": "2021-11-17T21:21:37.804Z"
   },
   {
    "duration": 4,
    "start_time": "2021-11-17T21:23:06.071Z"
   },
   {
    "duration": 3,
    "start_time": "2021-11-17T21:23:24.799Z"
   },
   {
    "duration": 3,
    "start_time": "2021-11-17T21:23:32.591Z"
   },
   {
    "duration": 98,
    "start_time": "2021-11-17T21:28:31.559Z"
   },
   {
    "duration": 3,
    "start_time": "2021-11-17T21:28:45.448Z"
   },
   {
    "duration": 3,
    "start_time": "2021-11-17T21:29:17.303Z"
   },
   {
    "duration": 3,
    "start_time": "2021-11-17T21:29:29.617Z"
   },
   {
    "duration": 3,
    "start_time": "2021-11-17T21:29:32.681Z"
   },
   {
    "duration": 3,
    "start_time": "2021-11-17T21:36:11.474Z"
   },
   {
    "duration": 3,
    "start_time": "2021-11-17T21:36:14.791Z"
   },
   {
    "duration": 3,
    "start_time": "2021-11-17T21:36:53.943Z"
   },
   {
    "duration": 3,
    "start_time": "2021-11-17T21:36:56.165Z"
   },
   {
    "duration": 4,
    "start_time": "2021-11-17T21:37:16.590Z"
   },
   {
    "duration": 3,
    "start_time": "2021-11-17T21:37:22.702Z"
   },
   {
    "duration": 4,
    "start_time": "2021-11-17T21:38:03.479Z"
   },
   {
    "duration": 3,
    "start_time": "2021-11-17T21:38:08.601Z"
   },
   {
    "duration": 3,
    "start_time": "2021-11-17T21:38:12.928Z"
   },
   {
    "duration": 3,
    "start_time": "2021-11-17T21:38:48.896Z"
   },
   {
    "duration": 2,
    "start_time": "2021-11-17T21:38:49.171Z"
   },
   {
    "duration": 4,
    "start_time": "2021-11-17T21:39:57.889Z"
   },
   {
    "duration": 3,
    "start_time": "2021-11-17T21:39:58.057Z"
   },
   {
    "duration": 3,
    "start_time": "2021-11-17T21:41:20.108Z"
   },
   {
    "duration": 3,
    "start_time": "2021-11-17T21:41:20.629Z"
   },
   {
    "duration": 3,
    "start_time": "2021-11-17T21:42:49.136Z"
   },
   {
    "duration": 3,
    "start_time": "2021-11-17T21:43:15.137Z"
   },
   {
    "duration": 4,
    "start_time": "2021-11-17T21:43:16.766Z"
   },
   {
    "duration": 4,
    "start_time": "2021-11-17T21:43:31.711Z"
   },
   {
    "duration": 3,
    "start_time": "2021-11-17T21:43:36.312Z"
   },
   {
    "duration": 4,
    "start_time": "2021-11-17T21:45:08.825Z"
   },
   {
    "duration": 4,
    "start_time": "2021-11-17T21:45:10.119Z"
   },
   {
    "duration": 4,
    "start_time": "2021-11-17T21:45:13.748Z"
   },
   {
    "duration": 3,
    "start_time": "2021-11-17T21:45:22.219Z"
   },
   {
    "duration": 3,
    "start_time": "2021-11-17T21:45:33.412Z"
   },
   {
    "duration": 2,
    "start_time": "2021-11-17T21:46:01.885Z"
   },
   {
    "duration": 3,
    "start_time": "2021-11-17T21:46:03.628Z"
   },
   {
    "duration": 107,
    "start_time": "2021-11-17T21:47:32.512Z"
   },
   {
    "duration": 103,
    "start_time": "2021-11-17T21:50:36.243Z"
   },
   {
    "duration": 3,
    "start_time": "2021-11-18T06:28:31.440Z"
   },
   {
    "duration": 3,
    "start_time": "2021-11-18T06:29:00.168Z"
   },
   {
    "duration": 3,
    "start_time": "2021-11-18T06:31:27.008Z"
   },
   {
    "duration": 2,
    "start_time": "2021-11-18T06:35:34.288Z"
   },
   {
    "duration": 2,
    "start_time": "2021-11-18T06:38:04.527Z"
   }
  ],
  "colab": {
   "provenance": []
  },
  "kernelspec": {
   "display_name": "Python 3 (ipykernel)",
   "language": "python",
   "name": "python3"
  },
  "language_info": {
   "codemirror_mode": {
    "name": "ipython",
    "version": 3
   },
   "file_extension": ".py",
   "mimetype": "text/x-python",
   "name": "python",
   "nbconvert_exporter": "python",
   "pygments_lexer": "ipython3",
   "version": "3.9.19"
  },
  "toc": {
   "base_numbering": 1,
   "nav_menu": {},
   "number_sections": true,
   "sideBar": true,
   "skip_h1_title": false,
   "title_cell": "Table of Contents",
   "title_sidebar": "Contents",
   "toc_cell": false,
   "toc_position": {},
   "toc_section_display": true,
   "toc_window_display": false
  }
 },
 "nbformat": 4,
 "nbformat_minor": 1
}
